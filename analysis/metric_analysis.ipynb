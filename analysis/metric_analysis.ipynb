{
 "cells": [
  {
   "cell_type": "markdown",
   "metadata": {},
   "source": [
    "# Metric Analysis for Rewiring Techniques"
   ]
  },
  {
   "cell_type": "markdown",
   "metadata": {},
   "source": [
    "## Import utils"
   ]
  },
  {
   "cell_type": "code",
   "execution_count": 7,
   "metadata": {},
   "outputs": [],
   "source": [
    "import os\n",
    "import pygsheets\n",
    "import pandas as pd"
   ]
  },
  {
   "cell_type": "code",
   "execution_count": 2,
   "metadata": {},
   "outputs": [
    {
     "name": "stdout",
     "output_type": "stream",
     "text": [
      "<bound method Client.spreadsheet_titles of <pygsheets.client.Client object at 0x70c55ddbe4a0>>\n"
     ]
    }
   ],
   "source": [
    "# Set the env var inside the notebook\n",
    "os.environ[\"GOOGLE_APPLICATION_CREDENTIALS\"] = \"/home/alexandre/Documents/API/l65-gdl-dfbb4fdd8c94.json\" # CHANGE THIS PATH\n",
    "\n",
    "client = pygsheets.authorize(service_account_file=os.environ[\"GOOGLE_APPLICATION_CREDENTIALS\"])\n",
    "print(client.spreadsheet_titles)\n"
   ]
  },
  {
   "cell_type": "markdown",
   "metadata": {},
   "source": [
    "Open the google sheet"
   ]
  },
  {
   "cell_type": "code",
   "execution_count": 3,
   "metadata": {},
   "outputs": [],
   "source": [
    "# Open the Google Sheet with ID. The ID is the part of the url between the \"/d/\" and the \"/edit\"\n",
    "SHEET_ID = \"1iGEXfqWMPuTauYstnAYd16mc3medq7tubY_PT3_GeNY\"\n",
    "spreadsheet = client.open_by_key(SHEET_ID)"
   ]
  },
  {
   "cell_type": "markdown",
   "metadata": {},
   "source": [
    "Select the worksheet"
   ]
  },
  {
   "cell_type": "code",
   "execution_count": 4,
   "metadata": {},
   "outputs": [],
   "source": [
    "worksheet = spreadsheet.worksheet_by_title(\"Unrewired\")"
   ]
  },
  {
   "cell_type": "markdown",
   "metadata": {},
   "source": [
    "Read data"
   ]
  },
  {
   "cell_type": "code",
   "execution_count": 8,
   "metadata": {},
   "outputs": [
    {
     "name": "stderr",
     "output_type": "stream",
     "text": [
      "/media/alexandre/morespace/data/amgb20/CAM_venv/lib/python3.10/site-packages/pygsheets/worksheet.py:1554: UserWarning: At least one column name in the data frame is an empty string. If this is a concern, please specify include_tailing_empty=False and/or ensure that each column containing data has a name.\n",
      "  warnings.warn('At least one column name in the data frame is an empty string. If this is a concern, please specify include_tailing_empty=False and/or ensure that each column containing data has a name.')\n"
     ]
    }
   ],
   "source": [
    "# Read data from a single cell\n",
    "cell_value = worksheet.cell(\"C26\").value\n",
    "# convert to a panda dataframe\n",
    "df = worksheet.get_as_df()\n",
    "\n",
    "# Read data from a row or column\n",
    "row_values = worksheet.get_row(26)\n",
    "column_values = worksheet.get_col(3)\n",
    "\n",
    "# Read a range of cells\n",
    "range_values = worksheet.get_values(\"A1\", \"C3\")\n",
    "\n",
    "# Read all Data\n",
    "all_values = worksheet.get_all_values()"
   ]
  },
  {
   "cell_type": "markdown",
   "metadata": {},
   "source": [
    "## Percentage change between the original (unrewired) and the rewired graph"
   ]
  },
  {
   "cell_type": "code",
   "execution_count": null,
   "metadata": {},
   "outputs": [],
   "source": []
  }
 ],
 "metadata": {
  "kernelspec": {
   "display_name": "CAM_venv",
   "language": "python",
   "name": "python3"
  },
  "language_info": {
   "codemirror_mode": {
    "name": "ipython",
    "version": 3
   },
   "file_extension": ".py",
   "mimetype": "text/x-python",
   "name": "python",
   "nbconvert_exporter": "python",
   "pygments_lexer": "ipython3",
   "version": "3.10.12"
  }
 },
 "nbformat": 4,
 "nbformat_minor": 2
}

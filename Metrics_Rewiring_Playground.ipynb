{
 "cells": [
  {
   "cell_type": "markdown",
   "metadata": {},
   "source": [
    "# GDL for main graph rewiring and metrics comparison"
   ]
  },
  {
   "cell_type": "markdown",
   "metadata": {},
   "source": [
    "## Import libraries"
   ]
  },
  {
   "cell_type": "code",
   "execution_count": 1,
   "metadata": {},
   "outputs": [
    {
     "name": "stdout",
     "output_type": "stream",
     "text": [
      "/usr/local/bin/python3\n"
     ]
    },
    {
     "name": "stderr",
     "output_type": "stream",
     "text": [
      "/Library/Frameworks/Python.framework/Versions/3.11/lib/python3.11/site-packages/torch_geometric/typing.py:128: UserWarning: An issue occurred while importing 'torch-scatter'. Disabling its usage. Stacktrace: dlopen(/Library/Frameworks/Python.framework/Versions/3.11/lib/python3.11/site-packages/torch_scatter/_version_cpu.so, 0x0006): Symbol not found: __ZN5torch3jit17parseSchemaOrNameERKNSt3__112basic_stringIcNS1_11char_traitsIcEENS1_9allocatorIcEEEEb\n",
      "  Referenced from: <39DD586D-4BCB-3117-B50F-6A4C67CC40D3> /Library/Frameworks/Python.framework/Versions/3.11/lib/python3.11/site-packages/torch_scatter/_version_cpu.so\n",
      "  Expected in:     <F8622D92-25A9-3A61-A089-C917FDA36C1B> /Library/Frameworks/Python.framework/Versions/3.11/lib/python3.11/site-packages/torch/lib/libtorch_cpu.dylib\n",
      "  warnings.warn(f\"An issue occurred while importing 'torch-scatter'. \"\n",
      "/Library/Frameworks/Python.framework/Versions/3.11/lib/python3.11/site-packages/torch_geometric/typing.py:139: UserWarning: An issue occurred while importing 'torch-cluster'. Disabling its usage. Stacktrace: dlopen(/Library/Frameworks/Python.framework/Versions/3.11/lib/python3.11/site-packages/torch_cluster/_version_cpu.so, 0x0006): Symbol not found: __ZN5torch3jit17parseSchemaOrNameERKNSt3__112basic_stringIcNS1_11char_traitsIcEENS1_9allocatorIcEEEEb\n",
      "  Referenced from: <35F0117E-178C-3CA9-AC96-FE904E942D54> /Library/Frameworks/Python.framework/Versions/3.11/lib/python3.11/site-packages/torch_cluster/_version_cpu.so\n",
      "  Expected in:     <F8622D92-25A9-3A61-A089-C917FDA36C1B> /Library/Frameworks/Python.framework/Versions/3.11/lib/python3.11/site-packages/torch/lib/libtorch_cpu.dylib\n",
      "  warnings.warn(f\"An issue occurred while importing 'torch-cluster'. \"\n",
      "/Library/Frameworks/Python.framework/Versions/3.11/lib/python3.11/site-packages/torch_geometric/typing.py:155: UserWarning: An issue occurred while importing 'torch-spline-conv'. Disabling its usage. Stacktrace: dlopen(/Library/Frameworks/Python.framework/Versions/3.11/lib/python3.11/site-packages/torch_spline_conv/_version_cpu.so, 0x0006): Symbol not found: __ZN5torch3jit17parseSchemaOrNameERKNSt3__112basic_stringIcNS1_11char_traitsIcEENS1_9allocatorIcEEEEb\n",
      "  Referenced from: <96DD8941-3659-32BD-8736-F01C2A23317C> /Library/Frameworks/Python.framework/Versions/3.11/lib/python3.11/site-packages/torch_spline_conv/_version_cpu.so\n",
      "  Expected in:     <F8622D92-25A9-3A61-A089-C917FDA36C1B> /Library/Frameworks/Python.framework/Versions/3.11/lib/python3.11/site-packages/torch/lib/libtorch_cpu.dylib\n",
      "  warnings.warn(\n",
      "/Library/Frameworks/Python.framework/Versions/3.11/lib/python3.11/site-packages/torch_geometric/typing.py:166: UserWarning: An issue occurred while importing 'torch-sparse'. Disabling its usage. Stacktrace: dlopen(/Library/Frameworks/Python.framework/Versions/3.11/lib/python3.11/site-packages/torch_sparse/_version_cpu.so, 0x0006): Symbol not found: __ZN5torch3jit17parseSchemaOrNameERKNSt3__112basic_stringIcNS1_11char_traitsIcEENS1_9allocatorIcEEEEb\n",
      "  Referenced from: <301E5390-5791-37B9-B9F7-980225DEEF68> /Library/Frameworks/Python.framework/Versions/3.11/lib/python3.11/site-packages/torch_sparse/_version_cpu.so\n",
      "  Expected in:     <F8622D92-25A9-3A61-A089-C917FDA36C1B> /Library/Frameworks/Python.framework/Versions/3.11/lib/python3.11/site-packages/torch/lib/libtorch_cpu.dylib\n",
      "  warnings.warn(f\"An issue occurred while importing 'torch-sparse'. \"\n"
     ]
    },
    {
     "name": "stdout",
     "output_type": "stream",
     "text": [
      "2.2.2\n",
      "2.7.0\n"
     ]
    }
   ],
   "source": [
    "import sys\n",
    "print(sys.executable)\n",
    "from pathlib import Path\n",
    "import torch\n",
    "import torch_geometric\n",
    "print(torch.__version__)\n",
    "print(torch_geometric.__version__)\n",
    "\n",
    "import matplotlib.pyplot as plt\n",
    "from torch_geometric.datasets import TUDataset\n",
    "# from GraphRicciCurvature.FormanRicci import FormanRicci\n",
    "\n",
    "import networkx as nx\n",
    "import numpy as np\n",
    "from scipy.sparse.csgraph import laplacian\n",
    "from scipy.linalg import pinv, eigvalsh\n",
    "\n",
    "from utils.load_data import *\n",
    "from evaluation.metrics import *\n",
    "from evaluation.metrics_distance import *\n",
    "from evaluation.curvature import *\n",
    "from visualization.plots import *\n",
    "from visualization.networkx_plot import *\n"
   ]
  },
  {
   "cell_type": "markdown",
   "metadata": {},
   "source": [
    "# Rewiring our graphs"
   ]
  },
  {
   "cell_type": "markdown",
   "metadata": {},
   "source": [
    "🚩 We need to respect the experimental details of hyperparameters describe on page 15"
   ]
  },
  {
   "cell_type": "markdown",
   "metadata": {},
   "source": [
    "## Dynamic Graph Rewiring Method Code"
   ]
  },
  {
   "cell_type": "code",
   "execution_count": null,
   "metadata": {},
   "outputs": [
    {
     "data": {
      "application/vnd.jupyter.widget-view+json": {
       "model_id": "9918db61d39a4eba88988e4e53dda98f",
       "version_major": 2,
       "version_minor": 0
      },
      "text/plain": [
       "Tab(children=(VBox(children=(Dropdown(description='Dataset:', index=2, options=('REDDIT-BINARY', 'IMDB-BINARY'…"
      ]
     },
     "metadata": {},
     "output_type": "display_data"
    },
    {
     "data": {
      "application/vnd.jupyter.widget-view+json": {
       "model_id": "2bf6003a2c614b0180ec4aa14dbe0bbb",
       "version_major": 2,
       "version_minor": 0
      },
      "text/plain": [
       "Output()"
      ]
     },
     "metadata": {},
     "output_type": "display_data"
    }
   ],
   "source": [
    "from ipywidgets import widgets, Tab, VBox, Output\n",
    "\n",
    "dataset_names = [\"MUTAG\"]  # Default dataset selection\n",
    "REWIRING_METHOD = \"BORF\"   # Default rewiring method\n",
    "ENTIRE_GRAPH = False       # Default entire graph selection\n",
    "metrics = \"Normal\"         \n",
    "\n",
    "output = Output()  \n",
    "\n",
    "\n",
    "\n",
    "data = widgets.Dropdown(\n",
    "    options=[\"REDDIT-BINARY\", \"IMDB-BINARY\", \"MUTAG\", \"ENZYMES\", \"PROTEINS\"],\n",
    "    value=\"MUTAG\",\n",
    "    description=\"Dataset:\"\n",
    ")\n",
    "\n",
    "rewired_method = widgets.Dropdown(\n",
    "    options=[\"BORF\", \"SDRF\", \"FOSR\", \"DES\", \"PPR\", \"LASER\", \"UNREWIRED\"],\n",
    "    value=\"BORF\",\n",
    "    description=\"Rewiring Method:\"\n",
    ")\n",
    "\n",
    "entire_graph = widgets.Checkbox(\n",
    "    value=False,\n",
    "    description=\"Entire Graph\"\n",
    ")\n",
    "\n",
    "\n",
    "metric = widgets.Dropdown(\n",
    "    options=[\"Distance\", \"Normal\"],\n",
    "    value=\"Normal\",\n",
    "    description=\"Metrics:\"\n",
    ")\n",
    "\n",
    "\n",
    "def update_dataset(change):\n",
    "    global dataset_names\n",
    "    dataset_names = [change[\"new\"]]\n",
    "    with output:\n",
    "        output.clear_output()\n",
    "        print(f\"Dataset Selected: {dataset_names}\")\n",
    "\n",
    "def update_rewiring_method(change):\n",
    "    global REWIRING_METHOD\n",
    "    REWIRING_METHOD = change[\"new\"]\n",
    "    with output:\n",
    "        output.clear_output()\n",
    "        print(f\"Rewiring Method Selected: {REWIRING_METHOD}\")\n",
    "\n",
    "def update_entire_graph(change):\n",
    "    global ENTIRE_GRAPH\n",
    "    ENTIRE_GRAPH = change[\"new\"]\n",
    "    with output:\n",
    "        output.clear_output()\n",
    "        print(f\"Entire Graph Selected: {ENTIRE_GRAPH}\")\n",
    "\n",
    "def update_metrics(change):\n",
    "    global metrics\n",
    "    metrics = change[\"new\"]\n",
    "    with output:\n",
    "        output.clear_output()\n",
    "        print(f\"Metrics Selected: {metrics}\")\n",
    "\n",
    "\n",
    "data.observe(update_dataset, names=\"value\")\n",
    "rewired_method.observe(update_rewiring_method, names=\"value\")\n",
    "entire_graph.observe(update_entire_graph, names=\"value\")\n",
    "metric.observe(update_metrics, names=\"value\")\n",
    "\n",
    "\n",
    "tab_contents = [\n",
    "    VBox([data]),\n",
    "    VBox([rewired_method]),\n",
    "    VBox([entire_graph]),\n",
    "    VBox([metric])\n",
    "]\n",
    "\n",
    "tab = Tab(children=tab_contents)\n",
    "\n",
    "# Set tab titles\n",
    "for i, title in enumerate([\"Dataset\", \"Rewiring Method\", \"Entire Graph\", \"Metrics\"]):\n",
    "    tab.set_title(i, title)\n",
    "\n",
    "display(tab, output)\n"
   ]
  },
  {
   "cell_type": "code",
   "execution_count": 13,
   "metadata": {},
   "outputs": [
    {
     "name": "stdout",
     "output_type": "stream",
     "text": [
      "Selected dataset: ['PROTEINS']\n",
      "Selected rewiring method: BORF\n",
      "Selected entire graph: True\n",
      "Selected metrics: Distance\n"
     ]
    }
   ],
   "source": [
    "\n",
    "print(f\"Selected dataset: {dataset_names}\")\n",
    "print(f\"Selected rewiring method: {REWIRING_METHOD}\")\n",
    "print(f\"Selected entire graph: {ENTIRE_GRAPH}\")\n",
    "print(f\"Selected metrics: {metrics}\")"
   ]
  },
  {
   "cell_type": "code",
   "execution_count": 12,
   "metadata": {},
   "outputs": [
    {
     "name": "stdout",
     "output_type": "stream",
     "text": [
      "⚠️ Warning: 'ENZYMES' not found. Did you mean 'ENZYMES'?\n",
      "✅ Dataset ENZYMES already exists. Loading from disk...\n",
      "✅ Converted 600 graphs from ENZYMES into NetworkX format.\n",
      "Rewiring methods being used: UNREWIRED\n",
      "\n",
      "🚀 Processing dataset: ENZYMES\n",
      "first graph <class 'torch_geometric.data.data.Data'>\n"
     ]
    },
    {
     "name": "stderr",
     "output_type": "stream",
     "text": [
      "  0%|          | 0/3 [00:00<?, ?it/s]\n"
     ]
    },
    {
     "ename": "AttributeError",
     "evalue": "'tuple' object has no attribute 'node_offsets'",
     "output_type": "error",
     "traceback": [
      "\u001b[0;31m---------------------------------------------------------------------------\u001b[0m",
      "\u001b[0;31mAttributeError\u001b[0m                            Traceback (most recent call last)",
      "Cell \u001b[0;32mIn[12], line 57\u001b[0m\n\u001b[1;32m     54\u001b[0m     rewired_graph \u001b[38;5;241m=\u001b[39m rewiring_method\u001b[38;5;241m.\u001b[39mppr_rewiring()\n\u001b[1;32m     55\u001b[0m \u001b[38;5;28;01melif\u001b[39;00m rewiring_name \u001b[38;5;241m==\u001b[39m \u001b[38;5;124m\"\u001b[39m\u001b[38;5;124mUNREWIRED\u001b[39m\u001b[38;5;124m\"\u001b[39m:\n\u001b[0;32m---> 57\u001b[0m     G_nx \u001b[38;5;241m=\u001b[39m \u001b[43mto_networkx\u001b[49m\u001b[43m(\u001b[49m\u001b[43mgraph\u001b[49m\u001b[43m,\u001b[49m\u001b[43m \u001b[49m\u001b[43mto_undirected\u001b[49m\u001b[38;5;241;43m=\u001b[39;49m\u001b[38;5;28;43;01mTrue\u001b[39;49;00m\u001b[43m)\u001b[49m  \u001b[38;5;66;03m# Convert PyG graph to NetworkX\u001b[39;00m\n\u001b[1;32m     58\u001b[0m     \u001b[38;5;28mprint\u001b[39m(\u001b[38;5;124m\"\u001b[39m\u001b[38;5;124mG_nx\u001b[39m\u001b[38;5;124m\"\u001b[39m, G_nx)\n\u001b[1;32m     59\u001b[0m     rewired_graph \u001b[38;5;241m=\u001b[39m G_nx\n",
      "File \u001b[0;32m/Library/Frameworks/Python.framework/Versions/3.11/lib/python3.11/site-packages/torch_geometric/utils/convert.py:157\u001b[0m, in \u001b[0;36mto_networkx\u001b[0;34m(data, node_attrs, edge_attrs, graph_attrs, to_undirected, to_multi, remove_self_loops)\u001b[0m\n\u001b[1;32m    154\u001b[0m \u001b[38;5;28;01mfor\u001b[39;00m key \u001b[38;5;129;01min\u001b[39;00m graph_attrs \u001b[38;5;129;01mor\u001b[39;00m []:\n\u001b[1;32m    155\u001b[0m     G\u001b[38;5;241m.\u001b[39mgraph[key] \u001b[38;5;241m=\u001b[39m to_networkx_value(data[key])\n\u001b[0;32m--> 157\u001b[0m node_offsets \u001b[38;5;241m=\u001b[39m \u001b[43mdata\u001b[49m\u001b[38;5;241;43m.\u001b[39;49m\u001b[43mnode_offsets\u001b[49m\n\u001b[1;32m    158\u001b[0m \u001b[38;5;28;01mfor\u001b[39;00m node_store \u001b[38;5;129;01min\u001b[39;00m data\u001b[38;5;241m.\u001b[39mnode_stores:\n\u001b[1;32m    159\u001b[0m     start \u001b[38;5;241m=\u001b[39m node_offsets[node_store\u001b[38;5;241m.\u001b[39m_key]\n",
      "\u001b[0;31mAttributeError\u001b[0m: 'tuple' object has no attribute 'node_offsets'"
     ]
    }
   ],
   "source": [
    "from rewiring.rewiring_call import *\n",
    "from tqdm import tqdm\n",
    "import tkinter as tk\n",
    "from tkinter import ttk, messagebox\n",
    "\n",
    "# dataset_names = [\"REDDIT-BINARY\", \"IMDB-BINARY\", \"MUTAG\", \"ENZYMES\", \"PROTEINS\"]\n",
    "#                   0              1            2         3           4\n",
    "# dataset_names = dataset_names[2]\n",
    "\n",
    "# REWIRING_METHOD = [\"BORF\",\"SDRF\", \"FOSR\", \"DES\",\"PPR\", \"LASER\", \"UNREWIRED\"]\n",
    "# #                   0       1       2       3      4      5         6\n",
    "# REWIRING_METHOD = REWIRING_METHOD[0]\n",
    "\n",
    "# # flag all graph rewiring or not\n",
    "# ENTIRE_GRAPH = True\n",
    "\n",
    "dataset_loader = GraphDatasetLoader(dataset_names)\n",
    "loaded_datasets = dataset_loader.get_loaded_dataset_names()\n",
    "\n",
    "all_metrics_df = []\n",
    "\n",
    "for dataset_name in loaded_datasets:\n",
    "    for rewiring_name in [REWIRING_METHOD]:\n",
    "        print(\"Rewiring methods being used:\", rewiring_name)\n",
    "        print(f\"\\n🚀 Processing dataset: {dataset_name}\")\n",
    "        \n",
    "        # for testing purposes we can test on one graph\n",
    "        if not ENTIRE_GRAPH:  \n",
    "            # Get first graph\n",
    "            graphs = dataset_loader.first_graphs[dataset_name]\n",
    "            print(\"first graph\", type(graphs))\n",
    "        else:\n",
    "            graphs = dataset_loader.datasets[dataset_name]  # Load full dataset\n",
    "\n",
    "            \n",
    "        for graph in tqdm(graphs):\n",
    "            \n",
    "            if isinstance(graphs, torch_geometric.data.data.Data):\n",
    "                rewiring_method = rewiring_call(graphs, dataset_name)\n",
    "            else:\n",
    "                rewiring_method = rewiring_call(graph, dataset_name)\n",
    "            \n",
    "            if rewiring_name == \"BORF\":\n",
    "                rewired_graph = rewiring_method.borf_rewiring()\n",
    "            elif rewiring_name == \"SDRF\":\n",
    "                rewired_graph = rewiring_method.sdrf_rewiring()\n",
    "            elif rewiring_name == \"FOSR\":\n",
    "                rewired_graph = rewiring_method.fosr_rewiring()\n",
    "            elif rewiring_name == \"LASER\":\n",
    "                rewired_graph = rewiring_method.laser_rewiring()\n",
    "            elif rewiring_name == \"DES\":\n",
    "                rewired_graph = rewiring_method.des_rewiring(dataset_loader)\n",
    "            elif rewiring_name == \"PPR\":\n",
    "                rewired_graph = rewiring_method.ppr_rewiring()\n",
    "            elif rewiring_name == \"UNREWIRED\":\n",
    "                \n",
    "                G_nx = to_networkx(graph, to_undirected=True)  # Convert PyG graph to NetworkX\n",
    "                print(\"G_nx\", G_nx)\n",
    "                rewired_graph = G_nx\n",
    "           \n",
    "            else:\n",
    "                raise ValueError(f\"Invalid rewiring method: {rewiring_name}\")\n",
    "            \n",
    "            # Compute metrics for the rewired graph\n",
    "            metrics_rewired = GraphMetrics(rewired_graph, dataset_name)\n",
    "            df_metrics = metrics_rewired.get_all_metrics()\n",
    "            df_metrics = pd.DataFrame([df_metrics]) \n",
    "            df_metrics[\"Rewiring Method\"] = rewiring_name\n",
    "            df_metrics[\"Dataset\"] = dataset_name\n",
    "            \n",
    "            # Store and later save the metrics\n",
    "            all_metrics_df.append(df_metrics)\n",
    "    \n",
    "\n",
    "# Convert results to DataFrame\n",
    "final_df = pd.concat(all_metrics_df, ignore_index=True)\n",
    "\n",
    "# Compute mean and standard deviation, excluding non-numeric columns\n",
    "if ENTIRE_GRAPH:\n",
    "    numeric_cols = final_df.select_dtypes(include=[\"number\"])  \n",
    "    avg_metrics = numeric_cols.mean().to_frame(name=\"Mean\")  \n",
    "    std_metrics = numeric_cols.std().to_frame(name=\"Std\")  \n",
    "\n",
    "    # Combine into a single DataFrame\n",
    "    summary_df = pd.concat([avg_metrics, std_metrics], axis=1)\n",
    "\n",
    "    # Format the output to display mean ± std in a single column\n",
    "    summary_df[\"Formatted\"] = summary_df.apply(lambda row: f\"{row['Mean']:.6f} ± {row['Std']:.6f}\", axis=1)\n",
    "\n",
    "    # Save summary results correctly\n",
    "    summary_output_csv = f\"results/rewired_graph_avg_std_metrics_{dataset_name}_{REWIRING_METHOD}.csv\"\n",
    "    parent = Path(summary_output_csv).parent\n",
    "    os.makedirs(parent, exist_ok=True)\n",
    "    \n",
    "    # If the path exists remove it\n",
    "    if os.path.exists(summary_output_csv):\n",
    "        os.remove(summary_output_csv)\n",
    "    summary_df.to_csv(summary_output_csv, index=True)\n",
    "\n",
    "    print(f\"\\n📂 Summary (Mean & Std) results saved to {summary_output_csv}.\")\n",
    "else:\n",
    "    # Save individual rewiring results\n",
    "    output_csv = f\"results/rewired_graph_metrics_{dataset_name}.csv\"\n",
    "    # make sure the directory exists\n",
    "    parent = Path(output_csv).parent\n",
    "    os.makedirs(parent, exist_ok=True)\n",
    "    \n",
    "    final_df.to_csv(output_csv, index=False)\n",
    "    print(f\"\\n📂 All rewiring results saved to {output_csv}.\")"
   ]
  },
  {
   "cell_type": "code",
   "execution_count": 14,
   "metadata": {},
   "outputs": [
    {
     "name": "stdout",
     "output_type": "stream",
     "text": [
      "⚠️ Warning: 'PROTEINS' not found. Did you mean 'PROTEINS'?\n",
      "✅ Dataset PROTEINS already exists. Loading from disk...\n",
      "✅ Converted 1113 graphs from PROTEINS into NetworkX format.\n",
      "Rewiring methods being used: BORF\n",
      "\n",
      "🚀 Processing dataset: PROTEINS\n"
     ]
    },
    {
     "name": "stderr",
     "output_type": "stream",
     "text": [
      "  0%|          | 0/1113 [00:00<?, ?it/s]"
     ]
    },
    {
     "name": "stdout",
     "output_type": "stream",
     "text": [
      "[INFO] Rewired graph for 50 iterations, 4 edge additions and 2 edge removal exists...\n",
      "[INFO] Rewired graph for 50 iterations, 4 edge additions and 2 edge removal exists...\n",
      "[INFO] Rewired graph for 50 iterations, 4 edge additions and 2 edge removal exists...\n",
      "[INFO] Rewired graph for 50 iterations, 4 edge additions and 2 edge removal exists...\n"
     ]
    },
    {
     "name": "stderr",
     "output_type": "stream",
     "text": [
      "  1%|          | 6/1113 [00:00<00:18, 59.35it/s]"
     ]
    },
    {
     "name": "stdout",
     "output_type": "stream",
     "text": [
      "[INFO] Rewired graph for 50 iterations, 4 edge additions and 2 edge removal exists...\n",
      "[INFO] Rewired graph for 50 iterations, 4 edge additions and 2 edge removal exists...\n",
      "[INFO] Rewired graph for 50 iterations, 4 edge additions and 2 edge removal exists...\n",
      "[INFO] Rewired graph for 50 iterations, 4 edge additions and 2 edge removal exists...\n",
      "[INFO] Rewired graph for 50 iterations, 4 edge additions and 2 edge removal exists...\n",
      "[INFO] Rewired graph for 50 iterations, 4 edge additions and 2 edge removal exists...\n",
      "[INFO] Rewired graph for 50 iterations, 4 edge additions and 2 edge removal exists...\n"
     ]
    },
    {
     "name": "stderr",
     "output_type": "stream",
     "text": [
      "  1%|          | 12/1113 [00:00<00:23, 47.68it/s]"
     ]
    },
    {
     "name": "stdout",
     "output_type": "stream",
     "text": [
      "[INFO] Rewired graph for 50 iterations, 4 edge additions and 2 edge removal exists...\n",
      "[INFO] Rewired graph for 50 iterations, 4 edge additions and 2 edge removal exists...\n"
     ]
    },
    {
     "name": "stderr",
     "output_type": "stream",
     "text": [
      "  2%|▏         | 18/1113 [00:00<00:25, 42.85it/s]"
     ]
    },
    {
     "name": "stdout",
     "output_type": "stream",
     "text": [
      "[INFO] Rewired graph for 50 iterations, 4 edge additions and 2 edge removal exists...\n",
      "[INFO] Rewired graph for 50 iterations, 4 edge additions and 2 edge removal exists...\n",
      "[INFO] Rewired graph for 50 iterations, 4 edge additions and 2 edge removal exists...\n",
      "[INFO] Rewired graph for 50 iterations, 4 edge additions and 2 edge removal exists...\n",
      "[INFO] Rewired graph for 50 iterations, 4 edge additions and 2 edge removal exists...\n",
      "[INFO] Rewired graph for 50 iterations, 4 edge additions and 2 edge removal exists...\n",
      "[INFO] Rewired graph for 50 iterations, 4 edge additions and 2 edge removal exists...\n",
      "[INFO] Rewired graph for 50 iterations, 4 edge additions and 2 edge removal exists...\n"
     ]
    },
    {
     "name": "stderr",
     "output_type": "stream",
     "text": [
      "  3%|▎         | 29/1113 [00:00<00:24, 44.45it/s]"
     ]
    },
    {
     "name": "stdout",
     "output_type": "stream",
     "text": [
      "[INFO] Rewired graph for 50 iterations, 4 edge additions and 2 edge removal exists...\n",
      "[INFO] Rewired graph for 50 iterations, 4 edge additions and 2 edge removal exists...\n",
      "[INFO] Rewired graph for 50 iterations, 4 edge additions and 2 edge removal exists...\n",
      "[INFO] Rewired graph for 50 iterations, 4 edge additions and 2 edge removal exists...\n",
      "[INFO] Rewired graph for 50 iterations, 4 edge additions and 2 edge removal exists...\n",
      "[INFO] Rewired graph for 50 iterations, 4 edge additions and 2 edge removal exists...\n",
      "[INFO] Rewired graph for 50 iterations, 4 edge additions and 2 edge removal exists...\n",
      "[INFO] Rewired graph for 50 iterations, 4 edge additions and 2 edge removal exists...\n",
      "[INFO] Rewired graph for 50 iterations, 4 edge additions and 2 edge removal exists...\n",
      "[INFO] Rewired graph for 50 iterations, 4 edge additions and 2 edge removal exists...\n",
      "[INFO] Rewired graph for 50 iterations, 4 edge additions and 2 edge removal exists...\n",
      "[INFO] Rewired graph for 50 iterations, 4 edge additions and 2 edge removal exists...\n",
      "[INFO] Rewired graph for 50 iterations, 4 edge additions and 2 edge removal exists...\n",
      "[INFO] Rewired graph for 50 iterations, 4 edge additions and 2 edge removal exists...\n"
     ]
    },
    {
     "name": "stderr",
     "output_type": "stream",
     "text": [
      "  4%|▎         | 40/1113 [00:00<00:22, 46.79it/s]"
     ]
    },
    {
     "name": "stdout",
     "output_type": "stream",
     "text": [
      "[INFO] Rewired graph for 50 iterations, 4 edge additions and 2 edge removal exists...\n",
      "[INFO] Rewired graph for 50 iterations, 4 edge additions and 2 edge removal exists...\n",
      "[INFO] Rewired graph for 50 iterations, 4 edge additions and 2 edge removal exists...\n",
      "[INFO] Rewired graph for 50 iterations, 4 edge additions and 2 edge removal exists...\n",
      "[INFO] Rewired graph for 50 iterations, 4 edge additions and 2 edge removal exists...\n",
      "[INFO] Rewired graph for 50 iterations, 4 edge additions and 2 edge removal exists...\n",
      "[INFO] Rewired graph for 50 iterations, 4 edge additions and 2 edge removal exists...\n",
      "[INFO] Rewired graph for 50 iterations, 4 edge additions and 2 edge removal exists...\n",
      "[INFO] Rewired graph for 50 iterations, 4 edge additions and 2 edge removal exists...\n",
      "[INFO] Rewired graph for 50 iterations, 4 edge additions and 2 edge removal exists...\n",
      "[INFO] Rewired graph for 50 iterations, 4 edge additions and 2 edge removal exists...\n",
      "[INFO] Rewired graph for 50 iterations, 4 edge additions and 2 edge removal exists...\n"
     ]
    },
    {
     "name": "stderr",
     "output_type": "stream",
     "text": [
      "  5%|▍         | 53/1113 [00:01<00:21, 49.64it/s]"
     ]
    },
    {
     "name": "stdout",
     "output_type": "stream",
     "text": [
      "[INFO] Rewired graph for 50 iterations, 4 edge additions and 2 edge removal exists...\n",
      "[INFO] Rewired graph for 50 iterations, 4 edge additions and 2 edge removal exists...\n",
      "[INFO] Rewired graph for 50 iterations, 4 edge additions and 2 edge removal exists...\n",
      "[INFO] Rewired graph for 50 iterations, 4 edge additions and 2 edge removal exists...\n",
      "[INFO] Rewired graph for 50 iterations, 4 edge additions and 2 edge removal exists...\n",
      "[INFO] Rewired graph for 50 iterations, 4 edge additions and 2 edge removal exists...\n",
      "[INFO] Rewired graph for 50 iterations, 4 edge additions and 2 edge removal exists...\n",
      "[INFO] Rewired graph for 50 iterations, 4 edge additions and 2 edge removal exists...\n",
      "[INFO] Rewired graph for 50 iterations, 4 edge additions and 2 edge removal exists...\n",
      "[INFO] Rewired graph for 50 iterations, 4 edge additions and 2 edge removal exists...\n",
      "[INFO] Rewired graph for 50 iterations, 4 edge additions and 2 edge removal exists...\n",
      "[INFO] Rewired graph for 50 iterations, 4 edge additions and 2 edge removal exists...\n"
     ]
    },
    {
     "name": "stderr",
     "output_type": "stream",
     "text": [
      "  6%|▌         | 67/1113 [00:01<00:18, 57.11it/s]"
     ]
    },
    {
     "name": "stdout",
     "output_type": "stream",
     "text": [
      "[INFO] Rewired graph for 50 iterations, 4 edge additions and 2 edge removal exists...\n",
      "[INFO] Rewired graph for 50 iterations, 4 edge additions and 2 edge removal exists...\n",
      "[INFO] Rewired graph for 50 iterations, 4 edge additions and 2 edge removal exists...\n",
      "[INFO] Rewired graph for 50 iterations, 4 edge additions and 2 edge removal exists...\n",
      "[INFO] Rewired graph for 50 iterations, 4 edge additions and 2 edge removal exists...\n",
      "[INFO] Rewired graph for 50 iterations, 4 edge additions and 2 edge removal exists...\n",
      "[INFO] Rewired graph for 50 iterations, 4 edge additions and 2 edge removal exists...\n",
      "[INFO] Rewired graph for 50 iterations, 4 edge additions and 2 edge removal exists...\n",
      "[INFO] Rewired graph for 50 iterations, 4 edge additions and 2 edge removal exists...\n",
      "[INFO] Rewired graph for 50 iterations, 4 edge additions and 2 edge removal exists...\n",
      "[INFO] Rewired graph for 50 iterations, 4 edge additions and 2 edge removal exists...\n",
      "[INFO] Rewired graph for 50 iterations, 4 edge additions and 2 edge removal exists...\n",
      "[INFO] Rewired graph for 50 iterations, 4 edge additions and 2 edge removal exists...\n",
      "[INFO] Rewired graph for 50 iterations, 4 edge additions and 2 edge removal exists...\n"
     ]
    },
    {
     "name": "stderr",
     "output_type": "stream",
     "text": [
      "  7%|▋         | 73/1113 [00:01<00:18, 56.95it/s]"
     ]
    },
    {
     "name": "stdout",
     "output_type": "stream",
     "text": [
      "[INFO] Rewired graph for 50 iterations, 4 edge additions and 2 edge removal exists...\n",
      "[INFO] Rewired graph for 50 iterations, 4 edge additions and 2 edge removal exists...\n",
      "[INFO] Rewired graph for 50 iterations, 4 edge additions and 2 edge removal exists...\n",
      "[INFO] Rewired graph for 50 iterations, 4 edge additions and 2 edge removal exists...\n"
     ]
    },
    {
     "name": "stderr",
     "output_type": "stream",
     "text": [
      "  8%|▊         | 88/1113 [00:01<00:24, 41.14it/s]"
     ]
    },
    {
     "name": "stdout",
     "output_type": "stream",
     "text": [
      "[INFO] Rewired graph for 50 iterations, 4 edge additions and 2 edge removal exists...\n",
      "[INFO] Rewired graph for 50 iterations, 4 edge additions and 2 edge removal exists...\n",
      "[INFO] Rewired graph for 50 iterations, 4 edge additions and 2 edge removal exists...\n",
      "[INFO] Rewired graph for 50 iterations, 4 edge additions and 2 edge removal exists...\n",
      "[INFO] Rewired graph for 50 iterations, 4 edge additions and 2 edge removal exists...\n",
      "[INFO] Rewired graph for 50 iterations, 4 edge additions and 2 edge removal exists...\n",
      "[INFO] Rewired graph for 50 iterations, 4 edge additions and 2 edge removal exists...\n",
      "[INFO] Rewired graph for 50 iterations, 4 edge additions and 2 edge removal exists...\n",
      "[INFO] Rewired graph for 50 iterations, 4 edge additions and 2 edge removal exists...\n",
      "[INFO] Rewired graph for 50 iterations, 4 edge additions and 2 edge removal exists...\n",
      "[INFO] Rewired graph for 50 iterations, 4 edge additions and 2 edge removal exists...\n",
      "[INFO] Rewired graph for 50 iterations, 4 edge additions and 2 edge removal exists...\n",
      "[INFO] Rewired graph for 50 iterations, 4 edge additions and 2 edge removal exists...\n",
      "[INFO] Rewired graph for 50 iterations, 4 edge additions and 2 edge removal exists...\n",
      "[INFO] Rewired graph for 50 iterations, 4 edge additions and 2 edge removal exists...\n"
     ]
    },
    {
     "name": "stderr",
     "output_type": "stream",
     "text": [
      "  9%|▉         | 101/1113 [00:02<00:20, 48.97it/s]"
     ]
    },
    {
     "name": "stdout",
     "output_type": "stream",
     "text": [
      "[INFO] Rewired graph for 50 iterations, 4 edge additions and 2 edge removal exists...\n",
      "[INFO] Rewired graph for 50 iterations, 4 edge additions and 2 edge removal exists...\n",
      "[INFO] Rewired graph for 50 iterations, 4 edge additions and 2 edge removal exists...\n",
      "[INFO] Rewired graph for 50 iterations, 4 edge additions and 2 edge removal exists...\n",
      "[INFO] Rewired graph for 50 iterations, 4 edge additions and 2 edge removal exists...\n",
      "[INFO] Rewired graph for 50 iterations, 4 edge additions and 2 edge removal exists...\n",
      "[INFO] Rewired graph for 50 iterations, 4 edge additions and 2 edge removal exists...\n",
      "[INFO] Rewired graph for 50 iterations, 4 edge additions and 2 edge removal exists...\n",
      "[INFO] Rewired graph for 50 iterations, 4 edge additions and 2 edge removal exists...\n",
      "[INFO] Rewired graph for 50 iterations, 4 edge additions and 2 edge removal exists...\n",
      "[INFO] Rewired graph for 50 iterations, 4 edge additions and 2 edge removal exists...\n",
      "[INFO] Rewired graph for 50 iterations, 4 edge additions and 2 edge removal exists...\n",
      "[INFO] Rewired graph for 50 iterations, 4 edge additions and 2 edge removal exists...\n",
      "[INFO] Rewired graph for 50 iterations, 4 edge additions and 2 edge removal exists...\n"
     ]
    },
    {
     "name": "stderr",
     "output_type": "stream",
     "text": [
      " 10%|█         | 115/1113 [00:02<00:19, 52.50it/s]"
     ]
    },
    {
     "name": "stdout",
     "output_type": "stream",
     "text": [
      "[INFO] Rewired graph for 50 iterations, 4 edge additions and 2 edge removal exists...\n",
      "[INFO] Rewired graph for 50 iterations, 4 edge additions and 2 edge removal exists...\n",
      "[INFO] Rewired graph for 50 iterations, 4 edge additions and 2 edge removal exists...\n",
      "[INFO] Rewired graph for 50 iterations, 4 edge additions and 2 edge removal exists...\n",
      "[INFO] Rewired graph for 50 iterations, 4 edge additions and 2 edge removal exists...\n",
      "[INFO] Rewired graph for 50 iterations, 4 edge additions and 2 edge removal exists...\n",
      "[INFO] Rewired graph for 50 iterations, 4 edge additions and 2 edge removal exists...\n",
      "[INFO] Rewired graph for 50 iterations, 4 edge additions and 2 edge removal exists...\n",
      "[INFO] Rewired graph for 50 iterations, 4 edge additions and 2 edge removal exists...\n",
      "[INFO] Rewired graph for 50 iterations, 4 edge additions and 2 edge removal exists...\n",
      "[INFO] Rewired graph for 50 iterations, 4 edge additions and 2 edge removal exists...\n"
     ]
    },
    {
     "name": "stderr",
     "output_type": "stream",
     "text": [
      " 11%|█         | 121/1113 [00:02<00:20, 49.58it/s]"
     ]
    },
    {
     "name": "stdout",
     "output_type": "stream",
     "text": [
      "[INFO] Rewired graph for 50 iterations, 4 edge additions and 2 edge removal exists...\n",
      "[INFO] Rewired graph for 50 iterations, 4 edge additions and 2 edge removal exists...\n",
      "[INFO] Rewired graph for 50 iterations, 4 edge additions and 2 edge removal exists...\n",
      "[INFO] Rewired graph for 50 iterations, 4 edge additions and 2 edge removal exists...\n",
      "[INFO] Rewired graph for 50 iterations, 4 edge additions and 2 edge removal exists...\n",
      "[INFO] Rewired graph for 50 iterations, 4 edge additions and 2 edge removal exists...\n",
      "[INFO] Rewired graph for 50 iterations, 4 edge additions and 2 edge removal exists...\n",
      "[INFO] Rewired graph for 50 iterations, 4 edge additions and 2 edge removal exists...\n",
      "[INFO] Rewired graph for 50 iterations, 4 edge additions and 2 edge removal exists...\n"
     ]
    },
    {
     "name": "stderr",
     "output_type": "stream",
     "text": [
      " 12%|█▏        | 134/1113 [00:02<00:18, 52.56it/s]"
     ]
    },
    {
     "name": "stdout",
     "output_type": "stream",
     "text": [
      "[INFO] Rewired graph for 50 iterations, 4 edge additions and 2 edge removal exists...\n",
      "[INFO] Rewired graph for 50 iterations, 4 edge additions and 2 edge removal exists...\n",
      "[INFO] Rewired graph for 50 iterations, 4 edge additions and 2 edge removal exists...\n",
      "[INFO] Rewired graph for 50 iterations, 4 edge additions and 2 edge removal exists...\n",
      "[INFO] Rewired graph for 50 iterations, 4 edge additions and 2 edge removal exists...\n",
      "[INFO] Rewired graph for 50 iterations, 4 edge additions and 2 edge removal exists...\n",
      "[INFO] Rewired graph for 50 iterations, 4 edge additions and 2 edge removal exists...\n",
      "[INFO] Rewired graph for 50 iterations, 4 edge additions and 2 edge removal exists...\n",
      "[INFO] Rewired graph for 50 iterations, 4 edge additions and 2 edge removal exists...\n",
      "[INFO] Rewired graph for 50 iterations, 4 edge additions and 2 edge removal exists...\n",
      "[INFO] Rewired graph for 50 iterations, 4 edge additions and 2 edge removal exists...\n",
      "[INFO] Rewired graph for 50 iterations, 4 edge additions and 2 edge removal exists...\n",
      "[INFO] Rewired graph for 50 iterations, 4 edge additions and 2 edge removal exists...\n",
      "[INFO] Rewired graph for 50 iterations, 4 edge additions and 2 edge removal exists...\n"
     ]
    },
    {
     "name": "stderr",
     "output_type": "stream",
     "text": [
      " 13%|█▎        | 146/1113 [00:03<00:19, 49.14it/s]"
     ]
    },
    {
     "name": "stdout",
     "output_type": "stream",
     "text": [
      "[INFO] Rewired graph for 50 iterations, 4 edge additions and 2 edge removal exists...\n",
      "[INFO] Rewired graph for 50 iterations, 4 edge additions and 2 edge removal exists...\n",
      "[INFO] Rewired graph for 50 iterations, 4 edge additions and 2 edge removal exists...\n",
      "[INFO] Rewired graph for 50 iterations, 4 edge additions and 2 edge removal exists...\n",
      "[INFO] Rewired graph for 50 iterations, 4 edge additions and 2 edge removal exists...\n",
      "[INFO] Rewired graph for 50 iterations, 4 edge additions and 2 edge removal exists...\n",
      "[INFO] Rewired graph for 50 iterations, 4 edge additions and 2 edge removal exists...\n",
      "[INFO] Rewired graph for 50 iterations, 4 edge additions and 2 edge removal exists...\n",
      "[INFO] Rewired graph for 50 iterations, 4 edge additions and 2 edge removal exists...\n",
      "[INFO] Rewired graph for 50 iterations, 4 edge additions and 2 edge removal exists...\n",
      "[INFO] Rewired graph for 50 iterations, 4 edge additions and 2 edge removal exists...\n",
      "[INFO] Rewired graph for 50 iterations, 4 edge additions and 2 edge removal exists...\n"
     ]
    },
    {
     "name": "stderr",
     "output_type": "stream",
     "text": [
      " 14%|█▍        | 158/1113 [00:03<00:18, 51.93it/s]"
     ]
    },
    {
     "name": "stdout",
     "output_type": "stream",
     "text": [
      "[INFO] Rewired graph for 50 iterations, 4 edge additions and 2 edge removal exists...\n",
      "[INFO] Rewired graph for 50 iterations, 4 edge additions and 2 edge removal exists...\n",
      "[INFO] Rewired graph for 50 iterations, 4 edge additions and 2 edge removal exists...\n",
      "[INFO] Rewired graph for 50 iterations, 4 edge additions and 2 edge removal exists...\n",
      "[INFO] Rewired graph for 50 iterations, 4 edge additions and 2 edge removal exists...\n",
      "[INFO] Rewired graph for 50 iterations, 4 edge additions and 2 edge removal exists...\n",
      "[INFO] Rewired graph for 50 iterations, 4 edge additions and 2 edge removal exists...\n",
      "[INFO] Rewired graph for 50 iterations, 4 edge additions and 2 edge removal exists...\n",
      "[INFO] Rewired graph for 50 iterations, 4 edge additions and 2 edge removal exists...\n",
      "[INFO] Rewired graph for 50 iterations, 4 edge additions and 2 edge removal exists...\n",
      "[INFO] Rewired graph for 50 iterations, 4 edge additions and 2 edge removal exists...\n"
     ]
    },
    {
     "name": "stderr",
     "output_type": "stream",
     "text": [
      " 15%|█▌        | 170/1113 [00:03<00:18, 50.12it/s]"
     ]
    },
    {
     "name": "stdout",
     "output_type": "stream",
     "text": [
      "[INFO] Rewired graph for 50 iterations, 4 edge additions and 2 edge removal exists...\n",
      "[INFO] Rewired graph for 50 iterations, 4 edge additions and 2 edge removal exists...\n",
      "[INFO] Rewired graph for 50 iterations, 4 edge additions and 2 edge removal exists...\n",
      "[INFO] Rewired graph for 50 iterations, 4 edge additions and 2 edge removal exists...\n",
      "[INFO] Rewired graph for 50 iterations, 4 edge additions and 2 edge removal exists...\n",
      "[INFO] Rewired graph for 50 iterations, 4 edge additions and 2 edge removal exists...\n",
      "[INFO] Rewired graph for 50 iterations, 4 edge additions and 2 edge removal exists...\n",
      "[INFO] Rewired graph for 50 iterations, 4 edge additions and 2 edge removal exists...\n",
      "[INFO] Rewired graph for 50 iterations, 4 edge additions and 2 edge removal exists...\n",
      "[INFO] Rewired graph for 50 iterations, 4 edge additions and 2 edge removal exists...\n",
      "[INFO] Rewired graph for 50 iterations, 4 edge additions and 2 edge removal exists...\n"
     ]
    },
    {
     "name": "stderr",
     "output_type": "stream",
     "text": [
      " 16%|█▋        | 182/1113 [00:03<00:19, 47.81it/s]"
     ]
    },
    {
     "name": "stdout",
     "output_type": "stream",
     "text": [
      "[INFO] Rewired graph for 50 iterations, 4 edge additions and 2 edge removal exists...\n",
      "[INFO] Rewired graph for 50 iterations, 4 edge additions and 2 edge removal exists...\n",
      "[INFO] Rewired graph for 50 iterations, 4 edge additions and 2 edge removal exists...\n",
      "[INFO] Rewired graph for 50 iterations, 4 edge additions and 2 edge removal exists...\n",
      "[INFO] Rewired graph for 50 iterations, 4 edge additions and 2 edge removal exists...\n",
      "[INFO] Rewired graph for 50 iterations, 4 edge additions and 2 edge removal exists...\n",
      "[INFO] Rewired graph for 50 iterations, 4 edge additions and 2 edge removal exists...\n",
      "[INFO] Rewired graph for 50 iterations, 4 edge additions and 2 edge removal exists...\n",
      "[INFO] Rewired graph for 50 iterations, 4 edge additions and 2 edge removal exists...\n",
      "[INFO] Rewired graph for 50 iterations, 4 edge additions and 2 edge removal exists...\n"
     ]
    },
    {
     "name": "stderr",
     "output_type": "stream",
     "text": [
      " 18%|█▊        | 195/1113 [00:04<00:17, 51.06it/s]"
     ]
    },
    {
     "name": "stdout",
     "output_type": "stream",
     "text": [
      "[INFO] Rewired graph for 50 iterations, 4 edge additions and 2 edge removal exists...\n",
      "[INFO] Rewired graph for 50 iterations, 4 edge additions and 2 edge removal exists...\n",
      "[INFO] Rewired graph for 50 iterations, 4 edge additions and 2 edge removal exists...\n",
      "[INFO] Rewired graph for 50 iterations, 4 edge additions and 2 edge removal exists...\n",
      "[INFO] Rewired graph for 50 iterations, 4 edge additions and 2 edge removal exists...\n",
      "[INFO] Rewired graph for 50 iterations, 4 edge additions and 2 edge removal exists...\n",
      "[INFO] Rewired graph for 50 iterations, 4 edge additions and 2 edge removal exists...\n",
      "[INFO] Rewired graph for 50 iterations, 4 edge additions and 2 edge removal exists...\n",
      "[INFO] Rewired graph for 50 iterations, 4 edge additions and 2 edge removal exists...\n",
      "[INFO] Rewired graph for 50 iterations, 4 edge additions and 2 edge removal exists...\n",
      "[INFO] Rewired graph for 50 iterations, 4 edge additions and 2 edge removal exists...\n",
      "[INFO] Rewired graph for 50 iterations, 4 edge additions and 2 edge removal exists...\n"
     ]
    },
    {
     "name": "stderr",
     "output_type": "stream",
     "text": [
      " 19%|█▊        | 208/1113 [00:04<00:16, 55.88it/s]"
     ]
    },
    {
     "name": "stdout",
     "output_type": "stream",
     "text": [
      "[INFO] Rewired graph for 50 iterations, 4 edge additions and 2 edge removal exists...\n",
      "[INFO] Rewired graph for 50 iterations, 4 edge additions and 2 edge removal exists...\n",
      "[INFO] Rewired graph for 50 iterations, 4 edge additions and 2 edge removal exists...\n",
      "[INFO] Rewired graph for 50 iterations, 4 edge additions and 2 edge removal exists...\n",
      "[INFO] Rewired graph for 50 iterations, 4 edge additions and 2 edge removal exists...\n",
      "[INFO] Rewired graph for 50 iterations, 4 edge additions and 2 edge removal exists...\n",
      "[INFO] Rewired graph for 50 iterations, 4 edge additions and 2 edge removal exists...\n",
      "[INFO] Rewired graph for 50 iterations, 4 edge additions and 2 edge removal exists...\n",
      "[INFO] Rewired graph for 50 iterations, 4 edge additions and 2 edge removal exists...\n",
      "[INFO] Rewired graph for 50 iterations, 4 edge additions and 2 edge removal exists...\n",
      "[INFO] Rewired graph for 50 iterations, 4 edge additions and 2 edge removal exists...\n",
      "[INFO] Rewired graph for 50 iterations, 4 edge additions and 2 edge removal exists...\n",
      "[INFO] Rewired graph for 50 iterations, 4 edge additions and 2 edge removal exists...\n"
     ]
    },
    {
     "name": "stderr",
     "output_type": "stream",
     "text": [
      " 20%|█▉        | 220/1113 [00:04<00:15, 56.87it/s]"
     ]
    },
    {
     "name": "stdout",
     "output_type": "stream",
     "text": [
      "[INFO] Rewired graph for 50 iterations, 4 edge additions and 2 edge removal exists...\n",
      "[INFO] Rewired graph for 50 iterations, 4 edge additions and 2 edge removal exists...\n",
      "[INFO] Rewired graph for 50 iterations, 4 edge additions and 2 edge removal exists...\n",
      "[INFO] Rewired graph for 50 iterations, 4 edge additions and 2 edge removal exists...\n",
      "[INFO] Rewired graph for 50 iterations, 4 edge additions and 2 edge removal exists...\n",
      "[INFO] Rewired graph for 50 iterations, 4 edge additions and 2 edge removal exists...\n",
      "[INFO] Rewired graph for 50 iterations, 4 edge additions and 2 edge removal exists...\n",
      "[INFO] Rewired graph for 50 iterations, 4 edge additions and 2 edge removal exists...\n",
      "[INFO] Rewired graph for 50 iterations, 4 edge additions and 2 edge removal exists...\n",
      "[INFO] Rewired graph for 50 iterations, 4 edge additions and 2 edge removal exists...\n",
      "[INFO] Rewired graph for 50 iterations, 4 edge additions and 2 edge removal exists...\n",
      "[INFO] Rewired graph for 50 iterations, 4 edge additions and 2 edge removal exists...\n",
      "[INFO] Rewired graph for 50 iterations, 4 edge additions and 2 edge removal exists...\n"
     ]
    },
    {
     "name": "stderr",
     "output_type": "stream",
     "text": [
      " 20%|██        | 228/1113 [00:04<00:14, 62.31it/s]"
     ]
    },
    {
     "name": "stdout",
     "output_type": "stream",
     "text": [
      "[INFO] Rewired graph for 50 iterations, 4 edge additions and 2 edge removal exists...\n",
      "[INFO] Rewired graph for 50 iterations, 4 edge additions and 2 edge removal exists...\n",
      "[INFO] Rewired graph for 50 iterations, 4 edge additions and 2 edge removal exists...\n",
      "[INFO] Rewired graph for 50 iterations, 4 edge additions and 2 edge removal exists...\n",
      "[INFO] Rewired graph for 50 iterations, 4 edge additions and 2 edge removal exists...\n",
      "[INFO] Rewired graph for 50 iterations, 4 edge additions and 2 edge removal exists...\n",
      "[INFO] Rewired graph for 50 iterations, 4 edge additions and 2 edge removal exists...\n",
      "[INFO] Rewired graph for 50 iterations, 4 edge additions and 2 edge removal exists...\n",
      "[INFO] Rewired graph for 50 iterations, 4 edge additions and 2 edge removal exists...\n",
      "[INFO] Rewired graph for 50 iterations, 4 edge additions and 2 edge removal exists...\n",
      "[INFO] Rewired graph for 50 iterations, 4 edge additions and 2 edge removal exists...\n"
     ]
    },
    {
     "name": "stderr",
     "output_type": "stream",
     "text": [
      " 22%|██▏       | 242/1113 [00:04<00:15, 57.25it/s]"
     ]
    },
    {
     "name": "stdout",
     "output_type": "stream",
     "text": [
      "[INFO] Rewired graph for 50 iterations, 4 edge additions and 2 edge removal exists...\n",
      "[INFO] Rewired graph for 50 iterations, 4 edge additions and 2 edge removal exists...\n",
      "[INFO] Rewired graph for 50 iterations, 4 edge additions and 2 edge removal exists...\n",
      "[INFO] Rewired graph for 50 iterations, 4 edge additions and 2 edge removal exists...\n",
      "[INFO] Rewired graph for 50 iterations, 4 edge additions and 2 edge removal exists...\n",
      "[INFO] Rewired graph for 50 iterations, 4 edge additions and 2 edge removal exists...\n",
      "[INFO] Rewired graph for 50 iterations, 4 edge additions and 2 edge removal exists...\n",
      "[INFO] Rewired graph for 50 iterations, 4 edge additions and 2 edge removal exists...\n",
      "[INFO] Rewired graph for 50 iterations, 4 edge additions and 2 edge removal exists...\n",
      "[INFO] Rewired graph for 50 iterations, 4 edge additions and 2 edge removal exists...\n",
      "[INFO] Rewired graph for 50 iterations, 4 edge additions and 2 edge removal exists...\n"
     ]
    },
    {
     "name": "stderr",
     "output_type": "stream",
     "text": [
      " 22%|██▏       | 248/1113 [00:05<00:21, 40.63it/s]"
     ]
    },
    {
     "name": "stdout",
     "output_type": "stream",
     "text": [
      "[INFO] Rewired graph for 50 iterations, 4 edge additions and 2 edge removal exists...\n",
      "[INFO] Rewired graph for 50 iterations, 4 edge additions and 2 edge removal exists...\n",
      "[INFO] Rewired graph for 50 iterations, 4 edge additions and 2 edge removal exists...\n",
      "[INFO] Rewired graph for 50 iterations, 4 edge additions and 2 edge removal exists...\n",
      "[INFO] Rewired graph for 50 iterations, 4 edge additions and 2 edge removal exists...\n"
     ]
    },
    {
     "name": "stderr",
     "output_type": "stream",
     "text": [
      " 23%|██▎       | 261/1113 [00:05<00:17, 48.27it/s]"
     ]
    },
    {
     "name": "stdout",
     "output_type": "stream",
     "text": [
      "[INFO] Rewired graph for 50 iterations, 4 edge additions and 2 edge removal exists...\n",
      "[INFO] Rewired graph for 50 iterations, 4 edge additions and 2 edge removal exists...\n",
      "[INFO] Rewired graph for 50 iterations, 4 edge additions and 2 edge removal exists...\n",
      "[INFO] Rewired graph for 50 iterations, 4 edge additions and 2 edge removal exists...\n",
      "[INFO] Rewired graph for 50 iterations, 4 edge additions and 2 edge removal exists...\n",
      "[INFO] Rewired graph for 50 iterations, 4 edge additions and 2 edge removal exists...\n",
      "[INFO] Rewired graph for 50 iterations, 4 edge additions and 2 edge removal exists...\n",
      "[INFO] Rewired graph for 50 iterations, 4 edge additions and 2 edge removal exists...\n",
      "[INFO] Rewired graph for 50 iterations, 4 edge additions and 2 edge removal exists...\n",
      "[INFO] Rewired graph for 50 iterations, 4 edge additions and 2 edge removal exists...\n",
      "[INFO] Rewired graph for 50 iterations, 4 edge additions and 2 edge removal exists...\n",
      "[INFO] Rewired graph for 50 iterations, 4 edge additions and 2 edge removal exists...\n",
      "[INFO] Rewired graph for 50 iterations, 4 edge additions and 2 edge removal exists...\n"
     ]
    },
    {
     "name": "stderr",
     "output_type": "stream",
     "text": [
      " 25%|██▍       | 273/1113 [00:05<00:17, 46.94it/s]"
     ]
    },
    {
     "name": "stdout",
     "output_type": "stream",
     "text": [
      "[INFO] Rewired graph for 50 iterations, 4 edge additions and 2 edge removal exists...\n",
      "[INFO] Rewired graph for 50 iterations, 4 edge additions and 2 edge removal exists...\n",
      "[INFO] Rewired graph for 50 iterations, 4 edge additions and 2 edge removal exists...\n",
      "[INFO] Rewired graph for 50 iterations, 4 edge additions and 2 edge removal exists...\n",
      "[INFO] Rewired graph for 50 iterations, 4 edge additions and 2 edge removal exists...\n",
      "[INFO] Rewired graph for 50 iterations, 4 edge additions and 2 edge removal exists...\n",
      "[INFO] Rewired graph for 50 iterations, 4 edge additions and 2 edge removal exists...\n",
      "[INFO] Rewired graph for 50 iterations, 4 edge additions and 2 edge removal exists...\n",
      "[INFO] Rewired graph for 50 iterations, 4 edge additions and 2 edge removal exists...\n",
      "[INFO] Rewired graph for 50 iterations, 4 edge additions and 2 edge removal exists...\n",
      "[INFO] Rewired graph for 50 iterations, 4 edge additions and 2 edge removal exists...\n",
      "[INFO] Rewired graph for 50 iterations, 4 edge additions and 2 edge removal exists...\n"
     ]
    },
    {
     "name": "stderr",
     "output_type": "stream",
     "text": [
      " 25%|██▌       | 279/1113 [00:05<00:18, 45.89it/s]"
     ]
    },
    {
     "name": "stdout",
     "output_type": "stream",
     "text": [
      "[INFO] Rewired graph for 50 iterations, 4 edge additions and 2 edge removal exists...\n",
      "[INFO] Rewired graph for 50 iterations, 4 edge additions and 2 edge removal exists...\n",
      "[INFO] Rewired graph for 50 iterations, 4 edge additions and 2 edge removal exists...\n",
      "[INFO] Rewired graph for 50 iterations, 4 edge additions and 2 edge removal exists...\n",
      "[INFO] Rewired graph for 50 iterations, 4 edge additions and 2 edge removal exists...\n",
      "[INFO] Rewired graph for 50 iterations, 4 edge additions and 2 edge removal exists...\n",
      "[INFO] Rewired graph for 50 iterations, 4 edge additions and 2 edge removal exists...\n",
      "[INFO] Rewired graph for 50 iterations, 4 edge additions and 2 edge removal exists...\n",
      "[INFO] Rewired graph for 50 iterations, 4 edge additions and 2 edge removal exists...\n"
     ]
    },
    {
     "name": "stderr",
     "output_type": "stream",
     "text": [
      " 26%|██▌       | 290/1113 [00:06<00:18, 45.31it/s]"
     ]
    },
    {
     "name": "stdout",
     "output_type": "stream",
     "text": [
      "[INFO] Rewired graph for 50 iterations, 4 edge additions and 2 edge removal exists...\n",
      "[INFO] Rewired graph for 50 iterations, 4 edge additions and 2 edge removal exists...\n",
      "[INFO] Rewired graph for 50 iterations, 4 edge additions and 2 edge removal exists...\n",
      "[INFO] Rewired graph for 50 iterations, 4 edge additions and 2 edge removal exists...\n",
      "[INFO] Rewired graph for 50 iterations, 4 edge additions and 2 edge removal exists...\n",
      "[INFO] Rewired graph for 50 iterations, 4 edge additions and 2 edge removal exists...\n",
      "[INFO] Rewired graph for 50 iterations, 4 edge additions and 2 edge removal exists...\n",
      "[INFO] Rewired graph for 50 iterations, 4 edge additions and 2 edge removal exists...\n",
      "[INFO] Rewired graph for 50 iterations, 4 edge additions and 2 edge removal exists...\n",
      "[INFO] Rewired graph for 50 iterations, 4 edge additions and 2 edge removal exists...\n",
      "[INFO] Rewired graph for 50 iterations, 4 edge additions and 2 edge removal exists...\n"
     ]
    },
    {
     "name": "stderr",
     "output_type": "stream",
     "text": [
      " 27%|██▋       | 301/1113 [00:06<00:17, 47.35it/s]"
     ]
    },
    {
     "name": "stdout",
     "output_type": "stream",
     "text": [
      "[INFO] Rewired graph for 50 iterations, 4 edge additions and 2 edge removal exists...\n",
      "[INFO] Rewired graph for 50 iterations, 4 edge additions and 2 edge removal exists...\n",
      "[INFO] Rewired graph for 50 iterations, 4 edge additions and 2 edge removal exists...\n",
      "[INFO] Rewired graph for 50 iterations, 4 edge additions and 2 edge removal exists...\n",
      "[INFO] Rewired graph for 50 iterations, 4 edge additions and 2 edge removal exists...\n",
      "[INFO] Rewired graph for 50 iterations, 4 edge additions and 2 edge removal exists...\n",
      "[INFO] Rewired graph for 50 iterations, 4 edge additions and 2 edge removal exists...\n",
      "[INFO] Rewired graph for 50 iterations, 4 edge additions and 2 edge removal exists...\n",
      "[INFO] Rewired graph for 50 iterations, 4 edge additions and 2 edge removal exists...\n",
      "[INFO] Rewired graph for 50 iterations, 4 edge additions and 2 edge removal exists...\n",
      "[INFO] Rewired graph for 50 iterations, 4 edge additions and 2 edge removal exists...\n",
      "[INFO] Rewired graph for 50 iterations, 4 edge additions and 2 edge removal exists...\n",
      "[INFO] Rewired graph for 50 iterations, 4 edge additions and 2 edge removal exists...\n"
     ]
    },
    {
     "name": "stderr",
     "output_type": "stream",
     "text": [
      " 28%|██▊       | 313/1113 [00:06<00:18, 44.07it/s]"
     ]
    },
    {
     "name": "stdout",
     "output_type": "stream",
     "text": [
      "[INFO] Rewired graph for 50 iterations, 4 edge additions and 2 edge removal exists...\n",
      "[INFO] Rewired graph for 50 iterations, 4 edge additions and 2 edge removal exists...\n",
      "[INFO] Rewired graph for 50 iterations, 4 edge additions and 2 edge removal exists...\n",
      "[INFO] Rewired graph for 50 iterations, 4 edge additions and 2 edge removal exists...\n",
      "[INFO] Rewired graph for 50 iterations, 4 edge additions and 2 edge removal exists...\n",
      "[INFO] Rewired graph for 50 iterations, 4 edge additions and 2 edge removal exists...\n",
      "[INFO] Rewired graph for 50 iterations, 4 edge additions and 2 edge removal exists...\n",
      "[INFO] Rewired graph for 50 iterations, 4 edge additions and 2 edge removal exists...\n"
     ]
    },
    {
     "name": "stderr",
     "output_type": "stream",
     "text": [
      " 29%|██▉       | 325/1113 [00:06<00:15, 50.50it/s]"
     ]
    },
    {
     "name": "stdout",
     "output_type": "stream",
     "text": [
      "[INFO] Rewired graph for 50 iterations, 4 edge additions and 2 edge removal exists...\n",
      "[INFO] Rewired graph for 50 iterations, 4 edge additions and 2 edge removal exists...\n",
      "[INFO] Rewired graph for 50 iterations, 4 edge additions and 2 edge removal exists...\n",
      "[INFO] Rewired graph for 50 iterations, 4 edge additions and 2 edge removal exists...\n",
      "[INFO] Rewired graph for 50 iterations, 4 edge additions and 2 edge removal exists...\n",
      "[INFO] Rewired graph for 50 iterations, 4 edge additions and 2 edge removal exists...\n",
      "[INFO] Rewired graph for 50 iterations, 4 edge additions and 2 edge removal exists...\n",
      "[INFO] Rewired graph for 50 iterations, 4 edge additions and 2 edge removal exists...\n",
      "[INFO] Rewired graph for 50 iterations, 4 edge additions and 2 edge removal exists...\n",
      "[INFO] Rewired graph for 50 iterations, 4 edge additions and 2 edge removal exists...\n",
      "[INFO] Rewired graph for 50 iterations, 4 edge additions and 2 edge removal exists...\n",
      "[INFO] Rewired graph for 50 iterations, 4 edge additions and 2 edge removal exists...\n",
      "[INFO] Rewired graph for 50 iterations, 4 edge additions and 2 edge removal exists...\n"
     ]
    },
    {
     "name": "stderr",
     "output_type": "stream",
     "text": [
      " 30%|███       | 338/1113 [00:06<00:14, 54.92it/s]"
     ]
    },
    {
     "name": "stdout",
     "output_type": "stream",
     "text": [
      "[INFO] Rewired graph for 50 iterations, 4 edge additions and 2 edge removal exists...\n",
      "[INFO] Rewired graph for 50 iterations, 4 edge additions and 2 edge removal exists...\n",
      "[INFO] Rewired graph for 50 iterations, 4 edge additions and 2 edge removal exists...\n",
      "[INFO] Rewired graph for 50 iterations, 4 edge additions and 2 edge removal exists...\n",
      "[INFO] Rewired graph for 50 iterations, 4 edge additions and 2 edge removal exists...\n",
      "[INFO] Rewired graph for 50 iterations, 4 edge additions and 2 edge removal exists...\n",
      "[INFO] Rewired graph for 50 iterations, 4 edge additions and 2 edge removal exists...\n",
      "[INFO] Rewired graph for 50 iterations, 4 edge additions and 2 edge removal exists...\n",
      "[INFO] Rewired graph for 50 iterations, 4 edge additions and 2 edge removal exists...\n",
      "[INFO] Rewired graph for 50 iterations, 4 edge additions and 2 edge removal exists...\n",
      "[INFO] Rewired graph for 50 iterations, 4 edge additions and 2 edge removal exists...\n",
      "[INFO] Rewired graph for 50 iterations, 4 edge additions and 2 edge removal exists...\n",
      "[INFO] Rewired graph for 50 iterations, 4 edge additions and 2 edge removal exists...\n"
     ]
    },
    {
     "name": "stderr",
     "output_type": "stream",
     "text": [
      " 32%|███▏      | 356/1113 [00:07<00:10, 69.82it/s]"
     ]
    },
    {
     "name": "stdout",
     "output_type": "stream",
     "text": [
      "[INFO] Rewired graph for 50 iterations, 4 edge additions and 2 edge removal exists...\n",
      "[INFO] Rewired graph for 50 iterations, 4 edge additions and 2 edge removal exists...\n",
      "[INFO] Rewired graph for 50 iterations, 4 edge additions and 2 edge removal exists...\n",
      "[INFO] Rewired graph for 50 iterations, 4 edge additions and 2 edge removal exists...\n",
      "[INFO] Rewired graph for 50 iterations, 4 edge additions and 2 edge removal exists...\n",
      "[INFO] Rewired graph for 50 iterations, 4 edge additions and 2 edge removal exists...\n",
      "[INFO] Rewired graph for 50 iterations, 4 edge additions and 2 edge removal exists...\n",
      "[INFO] Rewired graph for 50 iterations, 4 edge additions and 2 edge removal exists...\n",
      "[INFO] Rewired graph for 50 iterations, 4 edge additions and 2 edge removal exists...\n",
      "[INFO] Rewired graph for 50 iterations, 4 edge additions and 2 edge removal exists...\n",
      "[INFO] Rewired graph for 50 iterations, 4 edge additions and 2 edge removal exists...\n",
      "[INFO] Rewired graph for 50 iterations, 4 edge additions and 2 edge removal exists...\n",
      "[INFO] Rewired graph for 50 iterations, 4 edge additions and 2 edge removal exists...\n",
      "[INFO] Rewired graph for 50 iterations, 4 edge additions and 2 edge removal exists...\n",
      "[INFO] Rewired graph for 50 iterations, 4 edge additions and 2 edge removal exists...\n",
      "[INFO] Rewired graph for 50 iterations, 4 edge additions and 2 edge removal exists...\n",
      "[INFO] Rewired graph for 50 iterations, 4 edge additions and 2 edge removal exists...\n",
      "[INFO] Rewired graph for 50 iterations, 4 edge additions and 2 edge removal exists...\n"
     ]
    },
    {
     "name": "stderr",
     "output_type": "stream",
     "text": [
      " 33%|███▎      | 365/1113 [00:07<00:10, 72.30it/s]"
     ]
    },
    {
     "name": "stdout",
     "output_type": "stream",
     "text": [
      "[INFO] Rewired graph for 50 iterations, 4 edge additions and 2 edge removal exists...\n",
      "[INFO] Rewired graph for 50 iterations, 4 edge additions and 2 edge removal exists...\n",
      "[INFO] Rewired graph for 50 iterations, 4 edge additions and 2 edge removal exists...\n",
      "[INFO] Rewired graph for 50 iterations, 4 edge additions and 2 edge removal exists...\n",
      "[INFO] Rewired graph for 50 iterations, 4 edge additions and 2 edge removal exists...\n",
      "[INFO] Rewired graph for 50 iterations, 4 edge additions and 2 edge removal exists...\n",
      "[INFO] Rewired graph for 50 iterations, 4 edge additions and 2 edge removal exists...\n",
      "[INFO] Rewired graph for 50 iterations, 4 edge additions and 2 edge removal exists...\n",
      "[INFO] Rewired graph for 50 iterations, 4 edge additions and 2 edge removal exists...\n",
      "[INFO] Rewired graph for 50 iterations, 4 edge additions and 2 edge removal exists...\n",
      "[INFO] Rewired graph for 50 iterations, 4 edge additions and 2 edge removal exists...\n",
      "[INFO] Rewired graph for 50 iterations, 4 edge additions and 2 edge removal exists...\n"
     ]
    },
    {
     "name": "stderr",
     "output_type": "stream",
     "text": [
      " 34%|███▍      | 380/1113 [00:07<00:11, 61.17it/s]"
     ]
    },
    {
     "name": "stdout",
     "output_type": "stream",
     "text": [
      "[INFO] Rewired graph for 50 iterations, 4 edge additions and 2 edge removal exists...\n",
      "[INFO] Rewired graph for 50 iterations, 4 edge additions and 2 edge removal exists...\n",
      "[INFO] Rewired graph for 50 iterations, 4 edge additions and 2 edge removal exists...\n",
      "[INFO] Rewired graph for 50 iterations, 4 edge additions and 2 edge removal exists...\n",
      "[INFO] Rewired graph for 50 iterations, 4 edge additions and 2 edge removal exists...\n",
      "[INFO] Rewired graph for 50 iterations, 4 edge additions and 2 edge removal exists...\n",
      "[INFO] Rewired graph for 50 iterations, 4 edge additions and 2 edge removal exists...\n",
      "[INFO] Rewired graph for 50 iterations, 4 edge additions and 2 edge removal exists...\n",
      "[INFO] Rewired graph for 50 iterations, 4 edge additions and 2 edge removal exists...\n",
      "[INFO] Rewired graph for 50 iterations, 4 edge additions and 2 edge removal exists...\n",
      "[INFO] Rewired graph for 50 iterations, 4 edge additions and 2 edge removal exists...\n",
      "[INFO] Rewired graph for 50 iterations, 4 edge additions and 2 edge removal exists...\n",
      "[INFO] Rewired graph for 50 iterations, 4 edge additions and 2 edge removal exists...\n"
     ]
    },
    {
     "name": "stderr",
     "output_type": "stream",
     "text": [
      " 35%|███▌      | 395/1113 [00:07<00:12, 59.71it/s]"
     ]
    },
    {
     "name": "stdout",
     "output_type": "stream",
     "text": [
      "[INFO] Rewired graph for 50 iterations, 4 edge additions and 2 edge removal exists...\n",
      "[INFO] Rewired graph for 50 iterations, 4 edge additions and 2 edge removal exists...\n",
      "[INFO] Rewired graph for 50 iterations, 4 edge additions and 2 edge removal exists...\n",
      "[INFO] Rewired graph for 50 iterations, 4 edge additions and 2 edge removal exists...\n",
      "[INFO] Rewired graph for 50 iterations, 4 edge additions and 2 edge removal exists...\n",
      "[INFO] Rewired graph for 50 iterations, 4 edge additions and 2 edge removal exists...\n",
      "[INFO] Rewired graph for 50 iterations, 4 edge additions and 2 edge removal exists...\n",
      "[INFO] Rewired graph for 50 iterations, 4 edge additions and 2 edge removal exists...\n",
      "[INFO] Rewired graph for 50 iterations, 4 edge additions and 2 edge removal exists...\n",
      "[INFO] Rewired graph for 50 iterations, 4 edge additions and 2 edge removal exists...\n",
      "[INFO] Rewired graph for 50 iterations, 4 edge additions and 2 edge removal exists...\n",
      "[INFO] Rewired graph for 50 iterations, 4 edge additions and 2 edge removal exists...\n",
      "[INFO] Rewired graph for 50 iterations, 4 edge additions and 2 edge removal exists...\n",
      "[INFO] Rewired graph for 50 iterations, 4 edge additions and 2 edge removal exists...\n",
      "[INFO] Rewired graph for 50 iterations, 4 edge additions and 2 edge removal exists...\n",
      "[INFO] Rewired graph for 50 iterations, 4 edge additions and 2 edge removal exists...\n",
      "[INFO] Rewired graph for 50 iterations, 4 edge additions and 2 edge removal exists...\n"
     ]
    },
    {
     "name": "stderr",
     "output_type": "stream",
     "text": [
      " 36%|███▌      | 403/1113 [00:08<00:13, 52.11it/s]"
     ]
    },
    {
     "name": "stdout",
     "output_type": "stream",
     "text": [
      "[INFO] Rewired graph for 50 iterations, 4 edge additions and 2 edge removal exists...\n",
      "[INFO] Rewired graph for 50 iterations, 4 edge additions and 2 edge removal exists...\n",
      "[INFO] Rewired graph for 50 iterations, 4 edge additions and 2 edge removal exists...\n",
      "[INFO] Rewired graph for 50 iterations, 4 edge additions and 2 edge removal exists...\n",
      "[INFO] Rewired graph for 50 iterations, 4 edge additions and 2 edge removal exists...\n",
      "[INFO] Rewired graph for 50 iterations, 4 edge additions and 2 edge removal exists...\n",
      "[INFO] Rewired graph for 50 iterations, 4 edge additions and 2 edge removal exists...\n",
      "[INFO] Rewired graph for 50 iterations, 4 edge additions and 2 edge removal exists...\n"
     ]
    },
    {
     "name": "stderr",
     "output_type": "stream",
     "text": [
      " 37%|███▋      | 416/1113 [00:08<00:13, 51.25it/s]"
     ]
    },
    {
     "name": "stdout",
     "output_type": "stream",
     "text": [
      "[INFO] Rewired graph for 50 iterations, 4 edge additions and 2 edge removal exists...\n",
      "[INFO] Rewired graph for 50 iterations, 4 edge additions and 2 edge removal exists...\n",
      "[INFO] Rewired graph for 50 iterations, 4 edge additions and 2 edge removal exists...\n",
      "[INFO] Rewired graph for 50 iterations, 4 edge additions and 2 edge removal exists...\n",
      "[INFO] Rewired graph for 50 iterations, 4 edge additions and 2 edge removal exists...\n",
      "[INFO] Rewired graph for 50 iterations, 4 edge additions and 2 edge removal exists...\n",
      "[INFO] Rewired graph for 50 iterations, 4 edge additions and 2 edge removal exists...\n",
      "[INFO] Rewired graph for 50 iterations, 4 edge additions and 2 edge removal exists...\n",
      "[INFO] Rewired graph for 50 iterations, 4 edge additions and 2 edge removal exists...\n",
      "[INFO] Rewired graph for 50 iterations, 4 edge additions and 2 edge removal exists...\n"
     ]
    },
    {
     "name": "stderr",
     "output_type": "stream",
     "text": [
      " 39%|███▉      | 432/1113 [00:08<00:11, 61.00it/s]"
     ]
    },
    {
     "name": "stdout",
     "output_type": "stream",
     "text": [
      "[INFO] Rewired graph for 50 iterations, 4 edge additions and 2 edge removal exists...\n",
      "[INFO] Rewired graph for 50 iterations, 4 edge additions and 2 edge removal exists...\n",
      "[INFO] Rewired graph for 50 iterations, 4 edge additions and 2 edge removal exists...\n",
      "[INFO] Rewired graph for 50 iterations, 4 edge additions and 2 edge removal exists...\n",
      "[INFO] Rewired graph for 50 iterations, 4 edge additions and 2 edge removal exists...\n",
      "[INFO] Rewired graph for 50 iterations, 4 edge additions and 2 edge removal exists...\n",
      "[INFO] Rewired graph for 50 iterations, 4 edge additions and 2 edge removal exists...\n",
      "[INFO] Rewired graph for 50 iterations, 4 edge additions and 2 edge removal exists...\n",
      "[INFO] Rewired graph for 50 iterations, 4 edge additions and 2 edge removal exists...\n",
      "[INFO] Rewired graph for 50 iterations, 4 edge additions and 2 edge removal exists...\n",
      "[INFO] Rewired graph for 50 iterations, 4 edge additions and 2 edge removal exists...\n",
      "[INFO] Rewired graph for 50 iterations, 4 edge additions and 2 edge removal exists...\n",
      "[INFO] Rewired graph for 50 iterations, 4 edge additions and 2 edge removal exists...\n",
      "[INFO] Rewired graph for 50 iterations, 4 edge additions and 2 edge removal exists...\n"
     ]
    },
    {
     "name": "stderr",
     "output_type": "stream",
     "text": [
      " 39%|███▉      | 439/1113 [00:08<00:11, 58.94it/s]"
     ]
    },
    {
     "name": "stdout",
     "output_type": "stream",
     "text": [
      "[INFO] Rewired graph for 50 iterations, 4 edge additions and 2 edge removal exists...\n",
      "[INFO] Rewired graph for 50 iterations, 4 edge additions and 2 edge removal exists...\n",
      "[INFO] Rewired graph for 50 iterations, 4 edge additions and 2 edge removal exists...\n",
      "[INFO] Rewired graph for 50 iterations, 4 edge additions and 2 edge removal exists...\n",
      "[INFO] Rewired graph for 50 iterations, 4 edge additions and 2 edge removal exists...\n",
      "[INFO] Rewired graph for 50 iterations, 4 edge additions and 2 edge removal exists...\n",
      "[INFO] Rewired graph for 50 iterations, 4 edge additions and 2 edge removal exists...\n",
      "[INFO] Rewired graph for 50 iterations, 4 edge additions and 2 edge removal exists...\n",
      "[INFO] Rewired graph for 50 iterations, 4 edge additions and 2 edge removal exists...\n",
      "[INFO] Rewired graph for 50 iterations, 4 edge additions and 2 edge removal exists...\n",
      "[INFO] Rewired graph for 50 iterations, 4 edge additions and 2 edge removal exists...\n",
      "[INFO] Rewired graph for 50 iterations, 4 edge additions and 2 edge removal exists...\n"
     ]
    },
    {
     "name": "stderr",
     "output_type": "stream",
     "text": [
      " 41%|████      | 452/1113 [00:08<00:12, 54.96it/s]"
     ]
    },
    {
     "name": "stdout",
     "output_type": "stream",
     "text": [
      "[INFO] Rewired graph for 50 iterations, 4 edge additions and 2 edge removal exists...\n",
      "[INFO] Rewired graph for 50 iterations, 4 edge additions and 2 edge removal exists...\n",
      "[INFO] Rewired graph for 50 iterations, 4 edge additions and 2 edge removal exists...\n",
      "[INFO] Rewired graph for 50 iterations, 4 edge additions and 2 edge removal exists...\n",
      "[INFO] Rewired graph for 50 iterations, 4 edge additions and 2 edge removal exists...\n",
      "[INFO] Rewired graph for 50 iterations, 4 edge additions and 2 edge removal exists...\n",
      "[INFO] Rewired graph for 50 iterations, 4 edge additions and 2 edge removal exists...\n",
      "[INFO] Rewired graph for 50 iterations, 4 edge additions and 2 edge removal exists...\n",
      "[INFO] Rewired graph for 50 iterations, 4 edge additions and 2 edge removal exists...\n",
      "[INFO] Rewired graph for 50 iterations, 4 edge additions and 2 edge removal exists...\n",
      "[INFO] Rewired graph for 50 iterations, 4 edge additions and 2 edge removal exists...\n",
      "[INFO] Rewired graph for 50 iterations, 4 edge additions and 2 edge removal exists...\n",
      "[INFO] Rewired graph for 50 iterations, 4 edge additions and 2 edge removal exists...\n"
     ]
    },
    {
     "name": "stderr",
     "output_type": "stream",
     "text": [
      " 42%|████▏     | 468/1113 [00:09<00:10, 63.78it/s]"
     ]
    },
    {
     "name": "stdout",
     "output_type": "stream",
     "text": [
      "[INFO] Rewired graph for 50 iterations, 4 edge additions and 2 edge removal exists...\n",
      "[INFO] Rewired graph for 50 iterations, 4 edge additions and 2 edge removal exists...\n",
      "[INFO] Rewired graph for 50 iterations, 4 edge additions and 2 edge removal exists...\n",
      "[INFO] Rewired graph for 50 iterations, 4 edge additions and 2 edge removal exists...\n",
      "[INFO] Rewired graph for 50 iterations, 4 edge additions and 2 edge removal exists...\n",
      "[INFO] Rewired graph for 50 iterations, 4 edge additions and 2 edge removal exists...\n",
      "[INFO] Rewired graph for 50 iterations, 4 edge additions and 2 edge removal exists...\n",
      "[INFO] Rewired graph for 50 iterations, 4 edge additions and 2 edge removal exists...\n",
      "[INFO] Rewired graph for 50 iterations, 4 edge additions and 2 edge removal exists...\n",
      "[INFO] Rewired graph for 50 iterations, 4 edge additions and 2 edge removal exists...\n",
      "[INFO] Rewired graph for 50 iterations, 4 edge additions and 2 edge removal exists...\n",
      "[INFO] Rewired graph for 50 iterations, 4 edge additions and 2 edge removal exists...\n",
      "[INFO] Rewired graph for 50 iterations, 4 edge additions and 2 edge removal exists...\n",
      "[INFO] Rewired graph for 50 iterations, 4 edge additions and 2 edge removal exists...\n",
      "[INFO] Rewired graph for 50 iterations, 4 edge additions and 2 edge removal exists...\n"
     ]
    },
    {
     "name": "stderr",
     "output_type": "stream",
     "text": [
      " 43%|████▎     | 476/1113 [00:09<00:09, 65.26it/s]"
     ]
    },
    {
     "name": "stdout",
     "output_type": "stream",
     "text": [
      "[INFO] Rewired graph for 50 iterations, 4 edge additions and 2 edge removal exists...\n",
      "[INFO] Rewired graph for 50 iterations, 4 edge additions and 2 edge removal exists...\n",
      "[INFO] Rewired graph for 50 iterations, 4 edge additions and 2 edge removal exists...\n",
      "[INFO] Rewired graph for 50 iterations, 4 edge additions and 2 edge removal exists...\n",
      "[INFO] Rewired graph for 50 iterations, 4 edge additions and 2 edge removal exists...\n",
      "[INFO] Rewired graph for 50 iterations, 4 edge additions and 2 edge removal exists...\n",
      "[INFO] Rewired graph for 50 iterations, 4 edge additions and 2 edge removal exists...\n",
      "[INFO] Rewired graph for 50 iterations, 4 edge additions and 2 edge removal exists...\n",
      "[INFO] Rewired graph for 50 iterations, 4 edge additions and 2 edge removal exists...\n",
      "[INFO] Rewired graph for 50 iterations, 4 edge additions and 2 edge removal exists...\n"
     ]
    },
    {
     "name": "stderr",
     "output_type": "stream",
     "text": [
      " 44%|████▍     | 490/1113 [00:09<00:11, 56.41it/s]"
     ]
    },
    {
     "name": "stdout",
     "output_type": "stream",
     "text": [
      "[INFO] Rewired graph for 50 iterations, 4 edge additions and 2 edge removal exists...\n",
      "[INFO] Rewired graph for 50 iterations, 4 edge additions and 2 edge removal exists...\n",
      "[INFO] Rewired graph for 50 iterations, 4 edge additions and 2 edge removal exists...\n",
      "[INFO] Rewired graph for 50 iterations, 4 edge additions and 2 edge removal exists...\n",
      "[INFO] Rewired graph for 50 iterations, 4 edge additions and 2 edge removal exists...\n",
      "[INFO] Rewired graph for 50 iterations, 4 edge additions and 2 edge removal exists...\n",
      "[INFO] Rewired graph for 50 iterations, 4 edge additions and 2 edge removal exists...\n",
      "[INFO] Rewired graph for 50 iterations, 4 edge additions and 2 edge removal exists...\n",
      "[INFO] Rewired graph for 50 iterations, 4 edge additions and 2 edge removal exists...\n",
      "[INFO] Rewired graph for 50 iterations, 4 edge additions and 2 edge removal exists...\n"
     ]
    },
    {
     "name": "stderr",
     "output_type": "stream",
     "text": [
      " 45%|████▌     | 502/1113 [00:09<00:11, 53.47it/s]"
     ]
    },
    {
     "name": "stdout",
     "output_type": "stream",
     "text": [
      "[INFO] Rewired graph for 50 iterations, 4 edge additions and 2 edge removal exists...\n",
      "[INFO] Rewired graph for 50 iterations, 4 edge additions and 2 edge removal exists...\n",
      "[INFO] Rewired graph for 50 iterations, 4 edge additions and 2 edge removal exists...\n",
      "[INFO] Rewired graph for 50 iterations, 4 edge additions and 2 edge removal exists...\n",
      "[INFO] Rewired graph for 50 iterations, 4 edge additions and 2 edge removal exists...\n",
      "[INFO] Rewired graph for 50 iterations, 4 edge additions and 2 edge removal exists...\n",
      "[INFO] Rewired graph for 50 iterations, 4 edge additions and 2 edge removal exists...\n",
      "[INFO] Rewired graph for 50 iterations, 4 edge additions and 2 edge removal exists...\n",
      "[INFO] Rewired graph for 50 iterations, 4 edge additions and 2 edge removal exists...\n",
      "[INFO] Rewired graph for 50 iterations, 4 edge additions and 2 edge removal exists...\n",
      "[INFO] Rewired graph for 50 iterations, 4 edge additions and 2 edge removal exists...\n",
      "[INFO] Rewired graph for 50 iterations, 4 edge additions and 2 edge removal exists...\n"
     ]
    },
    {
     "name": "stderr",
     "output_type": "stream",
     "text": [
      " 46%|████▌     | 514/1113 [00:09<00:10, 54.54it/s]"
     ]
    },
    {
     "name": "stdout",
     "output_type": "stream",
     "text": [
      "[INFO] Rewired graph for 50 iterations, 4 edge additions and 2 edge removal exists...\n",
      "[INFO] Rewired graph for 50 iterations, 4 edge additions and 2 edge removal exists...\n",
      "[INFO] Rewired graph for 50 iterations, 4 edge additions and 2 edge removal exists...\n",
      "[INFO] Rewired graph for 50 iterations, 4 edge additions and 2 edge removal exists...\n",
      "[INFO] Rewired graph for 50 iterations, 4 edge additions and 2 edge removal exists...\n",
      "[INFO] Rewired graph for 50 iterations, 4 edge additions and 2 edge removal exists...\n",
      "[INFO] Rewired graph for 50 iterations, 4 edge additions and 2 edge removal exists...\n",
      "[INFO] Rewired graph for 50 iterations, 4 edge additions and 2 edge removal exists...\n",
      "[INFO] Rewired graph for 50 iterations, 4 edge additions and 2 edge removal exists...\n",
      "[INFO] Rewired graph for 50 iterations, 4 edge additions and 2 edge removal exists...\n",
      "[INFO] Rewired graph for 50 iterations, 4 edge additions and 2 edge removal exists...\n",
      "[INFO] Rewired graph for 50 iterations, 4 edge additions and 2 edge removal exists...\n"
     ]
    },
    {
     "name": "stderr",
     "output_type": "stream",
     "text": [
      " 48%|████▊     | 531/1113 [00:10<00:08, 68.82it/s]"
     ]
    },
    {
     "name": "stdout",
     "output_type": "stream",
     "text": [
      "[INFO] Rewired graph for 50 iterations, 4 edge additions and 2 edge removal exists...\n",
      "[INFO] Rewired graph for 50 iterations, 4 edge additions and 2 edge removal exists...\n",
      "[INFO] Rewired graph for 50 iterations, 4 edge additions and 2 edge removal exists...\n",
      "[INFO] Rewired graph for 50 iterations, 4 edge additions and 2 edge removal exists...\n",
      "[INFO] Rewired graph for 50 iterations, 4 edge additions and 2 edge removal exists...\n",
      "[INFO] Rewired graph for 50 iterations, 4 edge additions and 2 edge removal exists...\n",
      "[INFO] Rewired graph for 50 iterations, 4 edge additions and 2 edge removal exists...\n",
      "[INFO] Rewired graph for 50 iterations, 4 edge additions and 2 edge removal exists...\n",
      "[INFO] Rewired graph for 50 iterations, 4 edge additions and 2 edge removal exists...\n",
      "[INFO] Rewired graph for 50 iterations, 4 edge additions and 2 edge removal exists...\n",
      "[INFO] Rewired graph for 50 iterations, 4 edge additions and 2 edge removal exists...\n",
      "[INFO] Rewired graph for 50 iterations, 4 edge additions and 2 edge removal exists...\n",
      "[INFO] Rewired graph for 50 iterations, 4 edge additions and 2 edge removal exists...\n",
      "[INFO] Rewired graph for 50 iterations, 4 edge additions and 2 edge removal exists...\n",
      "[INFO] Rewired graph for 50 iterations, 4 edge additions and 2 edge removal exists...\n",
      "[INFO] Rewired graph for 50 iterations, 4 edge additions and 2 edge removal exists...\n",
      "[INFO] Rewired graph for 50 iterations, 4 edge additions and 2 edge removal exists...\n",
      "[INFO] Rewired graph for 50 iterations, 4 edge additions and 2 edge removal exists...\n"
     ]
    },
    {
     "name": "stderr",
     "output_type": "stream",
     "text": [
      " 49%|████▉     | 547/1113 [00:10<00:08, 68.35it/s]"
     ]
    },
    {
     "name": "stdout",
     "output_type": "stream",
     "text": [
      "[INFO] Rewired graph for 50 iterations, 4 edge additions and 2 edge removal exists...\n",
      "[INFO] Rewired graph for 50 iterations, 4 edge additions and 2 edge removal exists...\n",
      "[INFO] Rewired graph for 50 iterations, 4 edge additions and 2 edge removal exists...\n",
      "[INFO] Rewired graph for 50 iterations, 4 edge additions and 2 edge removal exists...\n",
      "[INFO] Rewired graph for 50 iterations, 4 edge additions and 2 edge removal exists...\n",
      "[INFO] Rewired graph for 50 iterations, 4 edge additions and 2 edge removal exists...\n",
      "[INFO] Rewired graph for 50 iterations, 4 edge additions and 2 edge removal exists...\n",
      "[INFO] Rewired graph for 50 iterations, 4 edge additions and 2 edge removal exists...\n",
      "[INFO] Rewired graph for 50 iterations, 4 edge additions and 2 edge removal exists...\n",
      "[INFO] Rewired graph for 50 iterations, 4 edge additions and 2 edge removal exists...\n",
      "[INFO] Rewired graph for 50 iterations, 4 edge additions and 2 edge removal exists...\n",
      "[INFO] Rewired graph for 50 iterations, 4 edge additions and 2 edge removal exists...\n",
      "[INFO] Rewired graph for 50 iterations, 4 edge additions and 2 edge removal exists...\n",
      "[INFO] Rewired graph for 50 iterations, 4 edge additions and 2 edge removal exists...\n",
      "[INFO] Rewired graph for 50 iterations, 4 edge additions and 2 edge removal exists...\n"
     ]
    },
    {
     "name": "stderr",
     "output_type": "stream",
     "text": [
      " 50%|█████     | 561/1113 [00:10<00:08, 61.67it/s]"
     ]
    },
    {
     "name": "stdout",
     "output_type": "stream",
     "text": [
      "[INFO] Rewired graph for 50 iterations, 4 edge additions and 2 edge removal exists...\n",
      "[INFO] Rewired graph for 50 iterations, 4 edge additions and 2 edge removal exists...\n",
      "[INFO] Rewired graph for 50 iterations, 4 edge additions and 2 edge removal exists...\n",
      "[INFO] Rewired graph for 50 iterations, 4 edge additions and 2 edge removal exists...\n",
      "[INFO] Rewired graph for 50 iterations, 4 edge additions and 2 edge removal exists...\n",
      "[INFO] Rewired graph for 50 iterations, 4 edge additions and 2 edge removal exists...\n",
      "[INFO] Rewired graph for 50 iterations, 4 edge additions and 2 edge removal exists...\n",
      "[INFO] Rewired graph for 50 iterations, 4 edge additions and 2 edge removal exists...\n",
      "[INFO] Rewired graph for 50 iterations, 4 edge additions and 2 edge removal exists...\n",
      "[INFO] Rewired graph for 50 iterations, 4 edge additions and 2 edge removal exists...\n",
      "[INFO] Rewired graph for 50 iterations, 4 edge additions and 2 edge removal exists...\n",
      "[INFO] Rewired graph for 50 iterations, 4 edge additions and 2 edge removal exists...\n",
      "[INFO] Rewired graph for 50 iterations, 4 edge additions and 2 edge removal exists...\n"
     ]
    },
    {
     "name": "stderr",
     "output_type": "stream",
     "text": [
      " 52%|█████▏    | 575/1113 [00:10<00:08, 60.66it/s]"
     ]
    },
    {
     "name": "stdout",
     "output_type": "stream",
     "text": [
      "[INFO] Rewired graph for 50 iterations, 4 edge additions and 2 edge removal exists...\n",
      "[INFO] Rewired graph for 50 iterations, 4 edge additions and 2 edge removal exists...\n",
      "[INFO] Rewired graph for 50 iterations, 4 edge additions and 2 edge removal exists...\n",
      "[INFO] Rewired graph for 50 iterations, 4 edge additions and 2 edge removal exists...\n",
      "[INFO] Rewired graph for 50 iterations, 4 edge additions and 2 edge removal exists...\n",
      "[INFO] Rewired graph for 50 iterations, 4 edge additions and 2 edge removal exists...\n",
      "[INFO] Rewired graph for 50 iterations, 4 edge additions and 2 edge removal exists...\n",
      "[INFO] Rewired graph for 50 iterations, 4 edge additions and 2 edge removal exists...\n",
      "[INFO] Rewired graph for 50 iterations, 4 edge additions and 2 edge removal exists...\n",
      "[INFO] Rewired graph for 50 iterations, 4 edge additions and 2 edge removal exists...\n",
      "[INFO] Rewired graph for 50 iterations, 4 edge additions and 2 edge removal exists...\n",
      "[INFO] Rewired graph for 50 iterations, 4 edge additions and 2 edge removal exists...\n",
      "[INFO] Rewired graph for 50 iterations, 4 edge additions and 2 edge removal exists...\n"
     ]
    },
    {
     "name": "stderr",
     "output_type": "stream",
     "text": [
      " 52%|█████▏    | 582/1113 [00:11<00:10, 52.60it/s]"
     ]
    },
    {
     "name": "stdout",
     "output_type": "stream",
     "text": [
      "[INFO] Rewired graph for 50 iterations, 4 edge additions and 2 edge removal exists...\n",
      "[INFO] Rewired graph for 50 iterations, 4 edge additions and 2 edge removal exists...\n",
      "[INFO] Rewired graph for 50 iterations, 4 edge additions and 2 edge removal exists...\n",
      "[INFO] Rewired graph for 50 iterations, 4 edge additions and 2 edge removal exists...\n",
      "[INFO] Rewired graph for 50 iterations, 4 edge additions and 2 edge removal exists...\n",
      "[INFO] Rewired graph for 50 iterations, 4 edge additions and 2 edge removal exists...\n",
      "[INFO] Rewired graph for 50 iterations, 4 edge additions and 2 edge removal exists...\n",
      "[INFO] Rewired graph for 50 iterations, 4 edge additions and 2 edge removal exists...\n",
      "[INFO] Rewired graph for 50 iterations, 4 edge additions and 2 edge removal exists...\n",
      "[INFO] Rewired graph for 50 iterations, 4 edge additions and 2 edge removal exists...\n",
      "[INFO] Rewired graph for 50 iterations, 4 edge additions and 2 edge removal exists...\n",
      "[INFO] Rewired graph for 50 iterations, 4 edge additions and 2 edge removal exists...\n"
     ]
    },
    {
     "name": "stderr",
     "output_type": "stream",
     "text": [
      " 53%|█████▎    | 594/1113 [00:11<00:10, 51.83it/s]"
     ]
    },
    {
     "name": "stdout",
     "output_type": "stream",
     "text": [
      "[INFO] Rewired graph for 50 iterations, 4 edge additions and 2 edge removal exists...\n",
      "[INFO] Rewired graph for 50 iterations, 4 edge additions and 2 edge removal exists...\n",
      "[INFO] Rewired graph for 50 iterations, 4 edge additions and 2 edge removal exists...\n",
      "[INFO] Rewired graph for 50 iterations, 4 edge additions and 2 edge removal exists...\n",
      "[INFO] Rewired graph for 50 iterations, 4 edge additions and 2 edge removal exists...\n",
      "[INFO] Rewired graph for 50 iterations, 4 edge additions and 2 edge removal exists...\n",
      "[INFO] Rewired graph for 50 iterations, 4 edge additions and 2 edge removal exists...\n",
      "[INFO] Rewired graph for 50 iterations, 4 edge additions and 2 edge removal exists...\n",
      "[INFO] Rewired graph for 50 iterations, 4 edge additions and 2 edge removal exists...\n",
      "[INFO] Rewired graph for 50 iterations, 4 edge additions and 2 edge removal exists...\n",
      "[INFO] Rewired graph for 50 iterations, 4 edge additions and 2 edge removal exists...\n",
      "[INFO] Rewired graph for 50 iterations, 4 edge additions and 2 edge removal exists...\n",
      "[INFO] Rewired graph for 50 iterations, 4 edge additions and 2 edge removal exists...\n"
     ]
    },
    {
     "name": "stderr",
     "output_type": "stream",
     "text": [
      " 55%|█████▍    | 610/1113 [00:11<00:08, 61.03it/s]"
     ]
    },
    {
     "name": "stdout",
     "output_type": "stream",
     "text": [
      "[INFO] Rewired graph for 50 iterations, 4 edge additions and 2 edge removal exists...\n",
      "[INFO] Rewired graph for 50 iterations, 4 edge additions and 2 edge removal exists...\n",
      "[INFO] Rewired graph for 50 iterations, 4 edge additions and 2 edge removal exists...\n",
      "[INFO] Rewired graph for 50 iterations, 4 edge additions and 2 edge removal exists...\n",
      "[INFO] Rewired graph for 50 iterations, 4 edge additions and 2 edge removal exists...\n",
      "[INFO] Rewired graph for 50 iterations, 4 edge additions and 2 edge removal exists...\n",
      "[INFO] Rewired graph for 50 iterations, 4 edge additions and 2 edge removal exists...\n",
      "[INFO] Rewired graph for 50 iterations, 4 edge additions and 2 edge removal exists...\n",
      "[INFO] Rewired graph for 50 iterations, 4 edge additions and 2 edge removal exists...\n",
      "[INFO] Rewired graph for 50 iterations, 4 edge additions and 2 edge removal exists...\n",
      "[INFO] Rewired graph for 50 iterations, 4 edge additions and 2 edge removal exists...\n",
      "[INFO] Rewired graph for 50 iterations, 4 edge additions and 2 edge removal exists...\n",
      "[INFO] Rewired graph for 50 iterations, 4 edge additions and 2 edge removal exists...\n"
     ]
    },
    {
     "name": "stderr",
     "output_type": "stream",
     "text": [
      " 56%|█████▌    | 623/1113 [00:11<00:08, 56.98it/s]"
     ]
    },
    {
     "name": "stdout",
     "output_type": "stream",
     "text": [
      "[INFO] Rewired graph for 50 iterations, 4 edge additions and 2 edge removal exists...\n",
      "[INFO] Rewired graph for 50 iterations, 4 edge additions and 2 edge removal exists...\n",
      "[INFO] Rewired graph for 50 iterations, 4 edge additions and 2 edge removal exists...\n",
      "[INFO] Rewired graph for 50 iterations, 4 edge additions and 2 edge removal exists...\n",
      "[INFO] Rewired graph for 50 iterations, 4 edge additions and 2 edge removal exists...\n",
      "[INFO] Rewired graph for 50 iterations, 4 edge additions and 2 edge removal exists...\n",
      "[INFO] Rewired graph for 50 iterations, 4 edge additions and 2 edge removal exists...\n",
      "[INFO] Rewired graph for 50 iterations, 4 edge additions and 2 edge removal exists...\n",
      "[INFO] Rewired graph for 50 iterations, 4 edge additions and 2 edge removal exists...\n",
      "[INFO] Rewired graph for 50 iterations, 4 edge additions and 2 edge removal exists...\n",
      "[INFO] Rewired graph for 50 iterations, 4 edge additions and 2 edge removal exists...\n",
      "[INFO] Rewired graph for 50 iterations, 4 edge additions and 2 edge removal exists...\n",
      "[INFO] Rewired graph for 50 iterations, 4 edge additions and 2 edge removal exists...\n"
     ]
    },
    {
     "name": "stderr",
     "output_type": "stream",
     "text": [
      " 57%|█████▋    | 638/1113 [00:11<00:07, 62.85it/s]"
     ]
    },
    {
     "name": "stdout",
     "output_type": "stream",
     "text": [
      "[INFO] Rewired graph for 50 iterations, 4 edge additions and 2 edge removal exists...\n",
      "[INFO] Rewired graph for 50 iterations, 4 edge additions and 2 edge removal exists...\n",
      "[INFO] Rewired graph for 50 iterations, 4 edge additions and 2 edge removal exists...\n",
      "[INFO] Rewired graph for 50 iterations, 4 edge additions and 2 edge removal exists...\n",
      "[INFO] Rewired graph for 50 iterations, 4 edge additions and 2 edge removal exists...\n",
      "[INFO] Rewired graph for 50 iterations, 4 edge additions and 2 edge removal exists...\n",
      "[INFO] Rewired graph for 50 iterations, 4 edge additions and 2 edge removal exists...\n",
      "[INFO] Rewired graph for 50 iterations, 4 edge additions and 2 edge removal exists...\n",
      "[INFO] Rewired graph for 50 iterations, 4 edge additions and 2 edge removal exists...\n",
      "[INFO] Rewired graph for 50 iterations, 4 edge additions and 2 edge removal exists...\n",
      "[INFO] Rewired graph for 50 iterations, 4 edge additions and 2 edge removal exists...\n",
      "[INFO] Rewired graph for 50 iterations, 4 edge additions and 2 edge removal exists...\n",
      "[INFO] Rewired graph for 50 iterations, 4 edge additions and 2 edge removal exists...\n"
     ]
    },
    {
     "name": "stderr",
     "output_type": "stream",
     "text": [
      " 58%|█████▊    | 651/1113 [00:12<00:08, 55.53it/s]"
     ]
    },
    {
     "name": "stdout",
     "output_type": "stream",
     "text": [
      "[INFO] Rewired graph for 50 iterations, 4 edge additions and 2 edge removal exists...\n",
      "[INFO] Rewired graph for 50 iterations, 4 edge additions and 2 edge removal exists...\n",
      "[INFO] Rewired graph for 50 iterations, 4 edge additions and 2 edge removal exists...\n",
      "[INFO] Rewired graph for 50 iterations, 4 edge additions and 2 edge removal exists...\n",
      "[INFO] Rewired graph for 50 iterations, 4 edge additions and 2 edge removal exists...\n",
      "[INFO] Rewired graph for 50 iterations, 4 edge additions and 2 edge removal exists...\n",
      "[INFO] Rewired graph for 50 iterations, 4 edge additions and 2 edge removal exists...\n",
      "[INFO] Rewired graph for 50 iterations, 4 edge additions and 2 edge removal exists...\n",
      "[INFO] Rewired graph for 50 iterations, 4 edge additions and 2 edge removal exists...\n",
      "[INFO] Rewired graph for 50 iterations, 4 edge additions and 2 edge removal exists...\n",
      "[INFO] Rewired graph for 50 iterations, 4 edge additions and 2 edge removal exists...\n",
      "[INFO] Rewired graph for 50 iterations, 4 edge additions and 2 edge removal exists...\n"
     ]
    },
    {
     "name": "stderr",
     "output_type": "stream",
     "text": [
      " 60%|█████▉    | 664/1113 [00:12<00:07, 56.93it/s]"
     ]
    },
    {
     "name": "stdout",
     "output_type": "stream",
     "text": [
      "[INFO] Rewired graph for 50 iterations, 4 edge additions and 2 edge removal exists...\n",
      "[INFO] Rewired graph for 50 iterations, 4 edge additions and 2 edge removal exists...\n",
      "[INFO] Rewired graph for 50 iterations, 4 edge additions and 2 edge removal exists...\n",
      "[INFO] Rewired graph for 50 iterations, 4 edge additions and 2 edge removal exists...\n",
      "[INFO] Rewired graph for 50 iterations, 4 edge additions and 2 edge removal exists...\n",
      "[INFO] Rewired graph for 50 iterations, 4 edge additions and 2 edge removal exists...\n",
      "[INFO] Rewired graph for 50 iterations, 4 edge additions and 2 edge removal exists...\n",
      "[INFO] Rewired graph for 50 iterations, 4 edge additions and 2 edge removal exists...\n",
      "[INFO] Rewired graph for 50 iterations, 4 edge additions and 2 edge removal exists...\n",
      "[INFO] Rewired graph for 50 iterations, 4 edge additions and 2 edge removal exists...\n",
      "[INFO] Rewired graph for 50 iterations, 4 edge additions and 2 edge removal exists...\n",
      "[INFO] Rewired graph for 50 iterations, 4 edge additions and 2 edge removal exists...\n"
     ]
    },
    {
     "name": "stderr",
     "output_type": "stream",
     "text": [
      " 60%|██████    | 671/1113 [00:12<00:07, 60.31it/s]"
     ]
    },
    {
     "name": "stdout",
     "output_type": "stream",
     "text": [
      "[INFO] Rewired graph for 50 iterations, 4 edge additions and 2 edge removal exists...\n",
      "[INFO] Rewired graph for 50 iterations, 4 edge additions and 2 edge removal exists...\n",
      "[INFO] Rewired graph for 50 iterations, 4 edge additions and 2 edge removal exists...\n",
      "[INFO] Rewired graph for 50 iterations, 4 edge additions and 2 edge removal exists...\n",
      "[INFO] Rewired graph for 50 iterations, 4 edge additions and 2 edge removal exists...\n",
      "[INFO] Rewired graph for 50 iterations, 4 edge additions and 2 edge removal exists...\n",
      "[INFO] Rewired graph for 50 iterations, 4 edge additions and 2 edge removal exists...\n",
      "[INFO] Rewired graph for 50 iterations, 4 edge additions and 2 edge removal exists...\n",
      "[INFO] Rewired graph for 50 iterations, 4 edge additions and 2 edge removal exists...\n",
      "[INFO] Rewired graph for 50 iterations, 4 edge additions and 2 edge removal exists...\n",
      "[INFO] Rewired graph for 50 iterations, 4 edge additions and 2 edge removal exists...\n",
      "[INFO] Rewired graph for 50 iterations, 4 edge additions and 2 edge removal exists...\n",
      "[INFO] Rewired graph for 50 iterations, 4 edge additions and 2 edge removal exists...\n",
      "[INFO] Rewired graph for 50 iterations, 4 edge additions and 2 edge removal exists...\n",
      "[INFO] Rewired graph for 50 iterations, 4 edge additions and 2 edge removal exists...\n"
     ]
    },
    {
     "name": "stderr",
     "output_type": "stream",
     "text": [
      " 62%|██████▏   | 687/1113 [00:12<00:06, 65.36it/s]"
     ]
    },
    {
     "name": "stdout",
     "output_type": "stream",
     "text": [
      "[INFO] Rewired graph for 50 iterations, 4 edge additions and 2 edge removal exists...\n",
      "[INFO] Rewired graph for 50 iterations, 4 edge additions and 2 edge removal exists...\n",
      "[INFO] Rewired graph for 50 iterations, 4 edge additions and 2 edge removal exists...\n",
      "[INFO] Rewired graph for 50 iterations, 4 edge additions and 2 edge removal exists...\n",
      "[INFO] Rewired graph for 50 iterations, 4 edge additions and 2 edge removal exists...\n",
      "[INFO] Rewired graph for 50 iterations, 4 edge additions and 2 edge removal exists...\n",
      "[INFO] Rewired graph for 50 iterations, 4 edge additions and 2 edge removal exists...\n",
      "[INFO] Rewired graph for 50 iterations, 4 edge additions and 2 edge removal exists...\n",
      "[INFO] Rewired graph for 50 iterations, 4 edge additions and 2 edge removal exists...\n",
      "[INFO] Rewired graph for 50 iterations, 4 edge additions and 2 edge removal exists...\n",
      "[INFO] Rewired graph for 50 iterations, 4 edge additions and 2 edge removal exists...\n",
      "[INFO] Rewired graph for 50 iterations, 4 edge additions and 2 edge removal exists...\n",
      "[INFO] Rewired graph for 50 iterations, 4 edge additions and 2 edge removal exists...\n",
      "[INFO] Rewired graph for 50 iterations, 4 edge additions and 2 edge removal exists...\n",
      "[INFO] Rewired graph for 50 iterations, 4 edge additions and 2 edge removal exists...\n"
     ]
    },
    {
     "name": "stderr",
     "output_type": "stream",
     "text": [
      " 63%|██████▎   | 702/1113 [00:13<00:06, 64.28it/s]"
     ]
    },
    {
     "name": "stdout",
     "output_type": "stream",
     "text": [
      "[INFO] Rewired graph for 50 iterations, 4 edge additions and 2 edge removal exists...\n",
      "[INFO] Rewired graph for 50 iterations, 4 edge additions and 2 edge removal exists...\n",
      "[INFO] Rewired graph for 50 iterations, 4 edge additions and 2 edge removal exists...\n",
      "[INFO] Rewired graph for 50 iterations, 4 edge additions and 2 edge removal exists...\n",
      "[INFO] Rewired graph for 50 iterations, 4 edge additions and 2 edge removal exists...\n",
      "[INFO] Rewired graph for 50 iterations, 4 edge additions and 2 edge removal exists...\n",
      "[INFO] Rewired graph for 50 iterations, 4 edge additions and 2 edge removal exists...\n",
      "[INFO] Rewired graph for 50 iterations, 4 edge additions and 2 edge removal exists...\n",
      "[INFO] Rewired graph for 50 iterations, 4 edge additions and 2 edge removal exists...\n",
      "[INFO] Rewired graph for 50 iterations, 4 edge additions and 2 edge removal exists...\n",
      "[INFO] Rewired graph for 50 iterations, 4 edge additions and 2 edge removal exists...\n"
     ]
    },
    {
     "name": "stderr",
     "output_type": "stream",
     "text": [
      " 64%|██████▍   | 716/1113 [00:13<00:06, 60.31it/s]"
     ]
    },
    {
     "name": "stdout",
     "output_type": "stream",
     "text": [
      "[INFO] Rewired graph for 50 iterations, 4 edge additions and 2 edge removal exists...\n",
      "[INFO] Rewired graph for 50 iterations, 4 edge additions and 2 edge removal exists...\n",
      "[INFO] Rewired graph for 50 iterations, 4 edge additions and 2 edge removal exists...\n",
      "[INFO] Rewired graph for 50 iterations, 4 edge additions and 2 edge removal exists...\n",
      "[INFO] Rewired graph for 50 iterations, 4 edge additions and 2 edge removal exists...\n",
      "[INFO] Rewired graph for 50 iterations, 4 edge additions and 2 edge removal exists...\n",
      "[INFO] Rewired graph for 50 iterations, 4 edge additions and 2 edge removal exists...\n",
      "[INFO] Rewired graph for 50 iterations, 4 edge additions and 2 edge removal exists...\n",
      "[INFO] Rewired graph for 50 iterations, 4 edge additions and 2 edge removal exists...\n",
      "[INFO] Rewired graph for 50 iterations, 4 edge additions and 2 edge removal exists...\n",
      "[INFO] Rewired graph for 50 iterations, 4 edge additions and 2 edge removal exists...\n",
      "[INFO] Rewired graph for 50 iterations, 4 edge additions and 2 edge removal exists...\n",
      "[INFO] Rewired graph for 50 iterations, 4 edge additions and 2 edge removal exists...\n"
     ]
    },
    {
     "name": "stderr",
     "output_type": "stream",
     "text": [
      " 66%|██████▌   | 734/1113 [00:13<00:05, 73.42it/s]"
     ]
    },
    {
     "name": "stdout",
     "output_type": "stream",
     "text": [
      "[INFO] Rewired graph for 50 iterations, 4 edge additions and 2 edge removal exists...\n",
      "[INFO] Rewired graph for 50 iterations, 4 edge additions and 2 edge removal exists...\n",
      "[INFO] Rewired graph for 50 iterations, 4 edge additions and 2 edge removal exists...\n",
      "[INFO] Rewired graph for 50 iterations, 4 edge additions and 2 edge removal exists...\n",
      "[INFO] Rewired graph for 50 iterations, 4 edge additions and 2 edge removal exists...\n",
      "[INFO] Rewired graph for 50 iterations, 4 edge additions and 2 edge removal exists...\n",
      "[INFO] Rewired graph for 50 iterations, 4 edge additions and 2 edge removal exists...\n",
      "[INFO] Rewired graph for 50 iterations, 4 edge additions and 2 edge removal exists...\n",
      "[INFO] Rewired graph for 50 iterations, 4 edge additions and 2 edge removal exists...\n",
      "[INFO] Rewired graph for 50 iterations, 4 edge additions and 2 edge removal exists...\n",
      "[INFO] Rewired graph for 50 iterations, 4 edge additions and 2 edge removal exists...\n",
      "[INFO] Rewired graph for 50 iterations, 4 edge additions and 2 edge removal exists...\n",
      "[INFO] Rewired graph for 50 iterations, 4 edge additions and 2 edge removal exists...\n",
      "[INFO] Rewired graph for 50 iterations, 4 edge additions and 2 edge removal exists...\n",
      "[INFO] Rewired graph for 50 iterations, 4 edge additions and 2 edge removal exists...\n",
      "[INFO] Rewired graph for 50 iterations, 4 edge additions and 2 edge removal exists...\n",
      "[INFO] Rewired graph for 50 iterations, 4 edge additions and 2 edge removal exists...\n",
      "[INFO] Rewired graph for 50 iterations, 4 edge additions and 2 edge removal exists...\n",
      "[INFO] Rewired graph for 50 iterations, 4 edge additions and 2 edge removal exists...\n"
     ]
    },
    {
     "name": "stderr",
     "output_type": "stream",
     "text": [
      " 68%|██████▊   | 754/1113 [00:13<00:04, 83.64it/s]"
     ]
    },
    {
     "name": "stdout",
     "output_type": "stream",
     "text": [
      "[INFO] Rewired graph for 50 iterations, 4 edge additions and 2 edge removal exists...\n",
      "[INFO] Rewired graph for 50 iterations, 4 edge additions and 2 edge removal exists...\n",
      "[INFO] Rewired graph for 50 iterations, 4 edge additions and 2 edge removal exists...\n",
      "[INFO] Rewired graph for 50 iterations, 4 edge additions and 2 edge removal exists...\n",
      "[INFO] Rewired graph for 50 iterations, 4 edge additions and 2 edge removal exists...\n",
      "[INFO] Rewired graph for 50 iterations, 4 edge additions and 2 edge removal exists...\n",
      "[INFO] Rewired graph for 50 iterations, 4 edge additions and 2 edge removal exists...\n",
      "[INFO] Rewired graph for 50 iterations, 4 edge additions and 2 edge removal exists...\n",
      "[INFO] Rewired graph for 50 iterations, 4 edge additions and 2 edge removal exists...\n",
      "[INFO] Rewired graph for 50 iterations, 4 edge additions and 2 edge removal exists...\n",
      "[INFO] Rewired graph for 50 iterations, 4 edge additions and 2 edge removal exists...\n",
      "[INFO] Rewired graph for 50 iterations, 4 edge additions and 2 edge removal exists...\n",
      "[INFO] Rewired graph for 50 iterations, 4 edge additions and 2 edge removal exists...\n",
      "[INFO] Rewired graph for 50 iterations, 4 edge additions and 2 edge removal exists...\n",
      "[INFO] Rewired graph for 50 iterations, 4 edge additions and 2 edge removal exists...\n",
      "[INFO] Rewired graph for 50 iterations, 4 edge additions and 2 edge removal exists...\n",
      "[INFO] Rewired graph for 50 iterations, 4 edge additions and 2 edge removal exists...\n",
      "[INFO] Rewired graph for 50 iterations, 4 edge additions and 2 edge removal exists...\n",
      "[INFO] Rewired graph for 50 iterations, 4 edge additions and 2 edge removal exists...\n"
     ]
    },
    {
     "name": "stderr",
     "output_type": "stream",
     "text": [
      " 69%|██████▊   | 763/1113 [00:13<00:04, 72.88it/s]"
     ]
    },
    {
     "name": "stdout",
     "output_type": "stream",
     "text": [
      "[INFO] Rewired graph for 50 iterations, 4 edge additions and 2 edge removal exists...\n",
      "[INFO] Rewired graph for 50 iterations, 4 edge additions and 2 edge removal exists...\n",
      "[INFO] Rewired graph for 50 iterations, 4 edge additions and 2 edge removal exists...\n",
      "[INFO] Rewired graph for 50 iterations, 4 edge additions and 2 edge removal exists...\n",
      "[INFO] Rewired graph for 50 iterations, 4 edge additions and 2 edge removal exists...\n",
      "[INFO] Rewired graph for 50 iterations, 4 edge additions and 2 edge removal exists...\n",
      "[INFO] Rewired graph for 50 iterations, 4 edge additions and 2 edge removal exists...\n",
      "[INFO] Rewired graph for 50 iterations, 4 edge additions and 2 edge removal exists...\n",
      "[INFO] Rewired graph for 50 iterations, 4 edge additions and 2 edge removal exists...\n",
      "[INFO] Rewired graph for 50 iterations, 4 edge additions and 2 edge removal exists...\n",
      "[INFO] Rewired graph for 50 iterations, 4 edge additions and 2 edge removal exists...\n"
     ]
    },
    {
     "name": "stderr",
     "output_type": "stream",
     "text": [
      " 70%|██████▉   | 779/1113 [00:14<00:04, 66.99it/s]"
     ]
    },
    {
     "name": "stdout",
     "output_type": "stream",
     "text": [
      "[INFO] Rewired graph for 50 iterations, 4 edge additions and 2 edge removal exists...\n",
      "[INFO] Rewired graph for 50 iterations, 4 edge additions and 2 edge removal exists...\n",
      "[INFO] Rewired graph for 50 iterations, 4 edge additions and 2 edge removal exists...\n",
      "[INFO] Rewired graph for 50 iterations, 4 edge additions and 2 edge removal exists...\n",
      "[INFO] Rewired graph for 50 iterations, 4 edge additions and 2 edge removal exists...\n",
      "[INFO] Rewired graph for 50 iterations, 4 edge additions and 2 edge removal exists...\n",
      "[INFO] Rewired graph for 50 iterations, 4 edge additions and 2 edge removal exists...\n",
      "[INFO] Rewired graph for 50 iterations, 4 edge additions and 2 edge removal exists...\n",
      "[INFO] Rewired graph for 50 iterations, 4 edge additions and 2 edge removal exists...\n",
      "[INFO] Rewired graph for 50 iterations, 4 edge additions and 2 edge removal exists...\n",
      "[INFO] Rewired graph for 50 iterations, 4 edge additions and 2 edge removal exists...\n",
      "[INFO] Rewired graph for 50 iterations, 4 edge additions and 2 edge removal exists...\n",
      "[INFO] Rewired graph for 50 iterations, 4 edge additions and 2 edge removal exists...\n",
      "[INFO] Rewired graph for 50 iterations, 4 edge additions and 2 edge removal exists...\n"
     ]
    },
    {
     "name": "stderr",
     "output_type": "stream",
     "text": [
      " 72%|███████▏  | 799/1113 [00:14<00:03, 78.82it/s]"
     ]
    },
    {
     "name": "stdout",
     "output_type": "stream",
     "text": [
      "[INFO] Rewired graph for 50 iterations, 4 edge additions and 2 edge removal exists...\n",
      "[INFO] Rewired graph for 50 iterations, 4 edge additions and 2 edge removal exists...\n",
      "[INFO] Rewired graph for 50 iterations, 4 edge additions and 2 edge removal exists...\n",
      "[INFO] Rewired graph for 50 iterations, 4 edge additions and 2 edge removal exists...\n",
      "[INFO] Rewired graph for 50 iterations, 4 edge additions and 2 edge removal exists...\n",
      "[INFO] Rewired graph for 50 iterations, 4 edge additions and 2 edge removal exists...\n",
      "[INFO] Rewired graph for 50 iterations, 4 edge additions and 2 edge removal exists...\n",
      "[INFO] Rewired graph for 50 iterations, 4 edge additions and 2 edge removal exists...\n",
      "[INFO] Rewired graph for 50 iterations, 4 edge additions and 2 edge removal exists...\n",
      "[INFO] Rewired graph for 50 iterations, 4 edge additions and 2 edge removal exists...\n",
      "[INFO] Rewired graph for 50 iterations, 4 edge additions and 2 edge removal exists...\n",
      "[INFO] Rewired graph for 50 iterations, 4 edge additions and 2 edge removal exists...\n",
      "[INFO] Rewired graph for 50 iterations, 4 edge additions and 2 edge removal exists...\n",
      "[INFO] Rewired graph for 50 iterations, 4 edge additions and 2 edge removal exists...\n",
      "[INFO] Rewired graph for 50 iterations, 4 edge additions and 2 edge removal exists...\n",
      "[INFO] Rewired graph for 50 iterations, 4 edge additions and 2 edge removal exists...\n",
      "[INFO] Rewired graph for 50 iterations, 4 edge additions and 2 edge removal exists...\n",
      "[INFO] Rewired graph for 50 iterations, 4 edge additions and 2 edge removal exists...\n",
      "[INFO] Rewired graph for 50 iterations, 4 edge additions and 2 edge removal exists...\n"
     ]
    },
    {
     "name": "stderr",
     "output_type": "stream",
     "text": [
      " 73%|███████▎  | 808/1113 [00:14<00:03, 80.91it/s]"
     ]
    },
    {
     "name": "stdout",
     "output_type": "stream",
     "text": [
      "[INFO] Rewired graph for 50 iterations, 4 edge additions and 2 edge removal exists...\n",
      "[INFO] Rewired graph for 50 iterations, 4 edge additions and 2 edge removal exists...\n",
      "[INFO] Rewired graph for 50 iterations, 4 edge additions and 2 edge removal exists...\n",
      "[INFO] Rewired graph for 50 iterations, 4 edge additions and 2 edge removal exists...\n",
      "[INFO] Rewired graph for 50 iterations, 4 edge additions and 2 edge removal exists...\n",
      "[INFO] Rewired graph for 50 iterations, 4 edge additions and 2 edge removal exists...\n",
      "[INFO] Rewired graph for 50 iterations, 4 edge additions and 2 edge removal exists...\n",
      "[INFO] Rewired graph for 50 iterations, 4 edge additions and 2 edge removal exists...\n",
      "[INFO] Rewired graph for 50 iterations, 4 edge additions and 2 edge removal exists...\n",
      "[INFO] Rewired graph for 50 iterations, 4 edge additions and 2 edge removal exists...\n",
      "[INFO] Rewired graph for 50 iterations, 4 edge additions and 2 edge removal exists...\n",
      "[INFO] Rewired graph for 50 iterations, 4 edge additions and 2 edge removal exists...\n",
      "[INFO] Rewired graph for 50 iterations, 4 edge additions and 2 edge removal exists...\n",
      "[INFO] Rewired graph for 50 iterations, 4 edge additions and 2 edge removal exists...\n",
      "[INFO] Rewired graph for 50 iterations, 4 edge additions and 2 edge removal exists...\n",
      "[INFO] Rewired graph for 50 iterations, 4 edge additions and 2 edge removal exists...\n",
      "[INFO] Rewired graph for 50 iterations, 4 edge additions and 2 edge removal exists...\n",
      "[INFO] Rewired graph for 50 iterations, 4 edge additions and 2 edge removal exists...\n"
     ]
    },
    {
     "name": "stderr",
     "output_type": "stream",
     "text": [
      " 74%|███████▍  | 828/1113 [00:14<00:03, 86.59it/s]"
     ]
    },
    {
     "name": "stdout",
     "output_type": "stream",
     "text": [
      "[INFO] Rewired graph for 50 iterations, 4 edge additions and 2 edge removal exists...\n",
      "[INFO] Rewired graph for 50 iterations, 4 edge additions and 2 edge removal exists...\n",
      "[INFO] Rewired graph for 50 iterations, 4 edge additions and 2 edge removal exists...\n",
      "[INFO] Rewired graph for 50 iterations, 4 edge additions and 2 edge removal exists...\n",
      "[INFO] Rewired graph for 50 iterations, 4 edge additions and 2 edge removal exists...\n",
      "[INFO] Rewired graph for 50 iterations, 4 edge additions and 2 edge removal exists...\n",
      "[INFO] Rewired graph for 50 iterations, 4 edge additions and 2 edge removal exists...\n",
      "[INFO] Rewired graph for 50 iterations, 4 edge additions and 2 edge removal exists...\n",
      "[INFO] Rewired graph for 50 iterations, 4 edge additions and 2 edge removal exists...\n",
      "[INFO] Rewired graph for 50 iterations, 4 edge additions and 2 edge removal exists...\n",
      "[INFO] Rewired graph for 50 iterations, 4 edge additions and 2 edge removal exists...\n",
      "[INFO] Rewired graph for 50 iterations, 4 edge additions and 2 edge removal exists...\n",
      "[INFO] Rewired graph for 50 iterations, 4 edge additions and 2 edge removal exists...\n",
      "[INFO] Rewired graph for 50 iterations, 4 edge additions and 2 edge removal exists...\n",
      "[INFO] Rewired graph for 50 iterations, 4 edge additions and 2 edge removal exists...\n",
      "[INFO] Rewired graph for 50 iterations, 4 edge additions and 2 edge removal exists...\n",
      "[INFO] Rewired graph for 50 iterations, 4 edge additions and 2 edge removal exists...\n",
      "[INFO] Rewired graph for 50 iterations, 4 edge additions and 2 edge removal exists...\n"
     ]
    },
    {
     "name": "stderr",
     "output_type": "stream",
     "text": [
      " 76%|███████▌  | 846/1113 [00:14<00:03, 77.96it/s]"
     ]
    },
    {
     "name": "stdout",
     "output_type": "stream",
     "text": [
      "[INFO] Rewired graph for 50 iterations, 4 edge additions and 2 edge removal exists...\n",
      "[INFO] Rewired graph for 50 iterations, 4 edge additions and 2 edge removal exists...\n",
      "[INFO] Rewired graph for 50 iterations, 4 edge additions and 2 edge removal exists...\n",
      "[INFO] Rewired graph for 50 iterations, 4 edge additions and 2 edge removal exists...\n",
      "[INFO] Rewired graph for 50 iterations, 4 edge additions and 2 edge removal exists...\n",
      "[INFO] Rewired graph for 50 iterations, 4 edge additions and 2 edge removal exists...\n",
      "[INFO] Rewired graph for 50 iterations, 4 edge additions and 2 edge removal exists...\n",
      "[INFO] Rewired graph for 50 iterations, 4 edge additions and 2 edge removal exists...\n",
      "[INFO] Rewired graph for 50 iterations, 4 edge additions and 2 edge removal exists...\n",
      "[INFO] Rewired graph for 50 iterations, 4 edge additions and 2 edge removal exists...\n",
      "[INFO] Rewired graph for 50 iterations, 4 edge additions and 2 edge removal exists...\n",
      "[INFO] Rewired graph for 50 iterations, 4 edge additions and 2 edge removal exists...\n",
      "[INFO] Rewired graph for 50 iterations, 4 edge additions and 2 edge removal exists...\n"
     ]
    },
    {
     "name": "stderr",
     "output_type": "stream",
     "text": [
      " 77%|███████▋  | 862/1113 [00:15<00:03, 74.87it/s]"
     ]
    },
    {
     "name": "stdout",
     "output_type": "stream",
     "text": [
      "[INFO] Rewired graph for 50 iterations, 4 edge additions and 2 edge removal exists...\n",
      "[INFO] Rewired graph for 50 iterations, 4 edge additions and 2 edge removal exists...\n",
      "[INFO] Rewired graph for 50 iterations, 4 edge additions and 2 edge removal exists...\n",
      "[INFO] Rewired graph for 50 iterations, 4 edge additions and 2 edge removal exists...\n",
      "[INFO] Rewired graph for 50 iterations, 4 edge additions and 2 edge removal exists...\n",
      "[INFO] Rewired graph for 50 iterations, 4 edge additions and 2 edge removal exists...\n",
      "[INFO] Rewired graph for 50 iterations, 4 edge additions and 2 edge removal exists...\n",
      "[INFO] Rewired graph for 50 iterations, 4 edge additions and 2 edge removal exists...\n",
      "[INFO] Rewired graph for 50 iterations, 4 edge additions and 2 edge removal exists...\n",
      "[INFO] Rewired graph for 50 iterations, 4 edge additions and 2 edge removal exists...\n",
      "[INFO] Rewired graph for 50 iterations, 4 edge additions and 2 edge removal exists...\n",
      "[INFO] Rewired graph for 50 iterations, 4 edge additions and 2 edge removal exists...\n",
      "[INFO] Rewired graph for 50 iterations, 4 edge additions and 2 edge removal exists...\n",
      "[INFO] Rewired graph for 50 iterations, 4 edge additions and 2 edge removal exists...\n",
      "[INFO] Rewired graph for 50 iterations, 4 edge additions and 2 edge removal exists...\n",
      "[INFO] Rewired graph for 50 iterations, 4 edge additions and 2 edge removal exists...\n"
     ]
    },
    {
     "name": "stderr",
     "output_type": "stream",
     "text": [
      " 78%|███████▊  | 870/1113 [00:15<00:03, 71.23it/s]"
     ]
    },
    {
     "name": "stdout",
     "output_type": "stream",
     "text": [
      "[INFO] Rewired graph for 50 iterations, 4 edge additions and 2 edge removal exists...\n",
      "[INFO] Rewired graph for 50 iterations, 4 edge additions and 2 edge removal exists...\n",
      "[INFO] Rewired graph for 50 iterations, 4 edge additions and 2 edge removal exists...\n",
      "[INFO] Rewired graph for 50 iterations, 4 edge additions and 2 edge removal exists...\n",
      "[INFO] Rewired graph for 50 iterations, 4 edge additions and 2 edge removal exists...\n",
      "[INFO] Rewired graph for 50 iterations, 4 edge additions and 2 edge removal exists...\n",
      "[INFO] Rewired graph for 50 iterations, 4 edge additions and 2 edge removal exists...\n",
      "[INFO] Rewired graph for 50 iterations, 4 edge additions and 2 edge removal exists...\n",
      "[INFO] Rewired graph for 50 iterations, 4 edge additions and 2 edge removal exists...\n",
      "[INFO] Rewired graph for 50 iterations, 4 edge additions and 2 edge removal exists...\n",
      "[INFO] Rewired graph for 50 iterations, 4 edge additions and 2 edge removal exists...\n",
      "[INFO] Rewired graph for 50 iterations, 4 edge additions and 2 edge removal exists...\n"
     ]
    },
    {
     "name": "stderr",
     "output_type": "stream",
     "text": [
      " 80%|███████▉  | 886/1113 [00:15<00:03, 68.09it/s]"
     ]
    },
    {
     "name": "stdout",
     "output_type": "stream",
     "text": [
      "[INFO] Rewired graph for 50 iterations, 4 edge additions and 2 edge removal exists...\n",
      "[INFO] Rewired graph for 50 iterations, 4 edge additions and 2 edge removal exists...\n",
      "[INFO] Rewired graph for 50 iterations, 4 edge additions and 2 edge removal exists...\n",
      "[INFO] Rewired graph for 50 iterations, 4 edge additions and 2 edge removal exists...\n",
      "[INFO] Rewired graph for 50 iterations, 4 edge additions and 2 edge removal exists...\n",
      "[INFO] Rewired graph for 50 iterations, 4 edge additions and 2 edge removal exists...\n",
      "[INFO] Rewired graph for 50 iterations, 4 edge additions and 2 edge removal exists...\n",
      "[INFO] Rewired graph for 50 iterations, 4 edge additions and 2 edge removal exists...\n",
      "[INFO] Rewired graph for 50 iterations, 4 edge additions and 2 edge removal exists...\n",
      "[INFO] Rewired graph for 50 iterations, 4 edge additions and 2 edge removal exists...\n",
      "[INFO] Rewired graph for 50 iterations, 4 edge additions and 2 edge removal exists...\n",
      "[INFO] Rewired graph for 50 iterations, 4 edge additions and 2 edge removal exists...\n",
      "[INFO] Rewired graph for 50 iterations, 4 edge additions and 2 edge removal exists...\n",
      "[INFO] Rewired graph for 50 iterations, 4 edge additions and 2 edge removal exists...\n",
      "[INFO] Rewired graph for 50 iterations, 4 edge additions and 2 edge removal exists...\n",
      "[INFO] Rewired graph for 50 iterations, 4 edge additions and 2 edge removal exists...\n"
     ]
    },
    {
     "name": "stderr",
     "output_type": "stream",
     "text": [
      " 81%|████████▏ | 906/1113 [00:15<00:02, 79.46it/s]"
     ]
    },
    {
     "name": "stdout",
     "output_type": "stream",
     "text": [
      "[INFO] Rewired graph for 50 iterations, 4 edge additions and 2 edge removal exists...\n",
      "[INFO] Rewired graph for 50 iterations, 4 edge additions and 2 edge removal exists...\n",
      "[INFO] Rewired graph for 50 iterations, 4 edge additions and 2 edge removal exists...\n",
      "[INFO] Rewired graph for 50 iterations, 4 edge additions and 2 edge removal exists...\n",
      "[INFO] Rewired graph for 50 iterations, 4 edge additions and 2 edge removal exists...\n",
      "[INFO] Rewired graph for 50 iterations, 4 edge additions and 2 edge removal exists...\n",
      "[INFO] Rewired graph for 50 iterations, 4 edge additions and 2 edge removal exists...\n",
      "[INFO] Rewired graph for 50 iterations, 4 edge additions and 2 edge removal exists...\n",
      "[INFO] Rewired graph for 50 iterations, 4 edge additions and 2 edge removal exists...\n",
      "[INFO] Rewired graph for 50 iterations, 4 edge additions and 2 edge removal exists...\n",
      "[INFO] Rewired graph for 50 iterations, 4 edge additions and 2 edge removal exists...\n",
      "[INFO] Rewired graph for 50 iterations, 4 edge additions and 2 edge removal exists...\n",
      "[INFO] Rewired graph for 50 iterations, 4 edge additions and 2 edge removal exists...\n",
      "[INFO] Rewired graph for 50 iterations, 4 edge additions and 2 edge removal exists...\n",
      "[INFO] Rewired graph for 50 iterations, 4 edge additions and 2 edge removal exists...\n",
      "[INFO] Rewired graph for 50 iterations, 4 edge additions and 2 edge removal exists...\n",
      "[INFO] Rewired graph for 50 iterations, 4 edge additions and 2 edge removal exists...\n",
      "[INFO] Rewired graph for 50 iterations, 4 edge additions and 2 edge removal exists...\n",
      "[INFO] Rewired graph for 50 iterations, 4 edge additions and 2 edge removal exists...\n"
     ]
    },
    {
     "name": "stderr",
     "output_type": "stream",
     "text": [
      " 83%|████████▎ | 925/1113 [00:15<00:02, 85.32it/s]"
     ]
    },
    {
     "name": "stdout",
     "output_type": "stream",
     "text": [
      "[INFO] Rewired graph for 50 iterations, 4 edge additions and 2 edge removal exists...\n",
      "[INFO] Rewired graph for 50 iterations, 4 edge additions and 2 edge removal exists...\n",
      "[INFO] Rewired graph for 50 iterations, 4 edge additions and 2 edge removal exists...\n",
      "[INFO] Rewired graph for 50 iterations, 4 edge additions and 2 edge removal exists...\n",
      "[INFO] Rewired graph for 50 iterations, 4 edge additions and 2 edge removal exists...\n",
      "[INFO] Rewired graph for 50 iterations, 4 edge additions and 2 edge removal exists...\n",
      "[INFO] Rewired graph for 50 iterations, 4 edge additions and 2 edge removal exists...\n",
      "[INFO] Rewired graph for 50 iterations, 4 edge additions and 2 edge removal exists...\n",
      "[INFO] Rewired graph for 50 iterations, 4 edge additions and 2 edge removal exists...\n",
      "[INFO] Rewired graph for 50 iterations, 4 edge additions and 2 edge removal exists...\n",
      "[INFO] Rewired graph for 50 iterations, 4 edge additions and 2 edge removal exists...\n",
      "[INFO] Rewired graph for 50 iterations, 4 edge additions and 2 edge removal exists...\n",
      "[INFO] Rewired graph for 50 iterations, 4 edge additions and 2 edge removal exists...\n",
      "[INFO] Rewired graph for 50 iterations, 4 edge additions and 2 edge removal exists...\n",
      "[INFO] Rewired graph for 50 iterations, 4 edge additions and 2 edge removal exists...\n",
      "[INFO] Rewired graph for 50 iterations, 4 edge additions and 2 edge removal exists...\n",
      "[INFO] Rewired graph for 50 iterations, 4 edge additions and 2 edge removal exists...\n",
      "[INFO] Rewired graph for 50 iterations, 4 edge additions and 2 edge removal exists...\n",
      "[INFO] Rewired graph for 50 iterations, 4 edge additions and 2 edge removal exists...\n"
     ]
    },
    {
     "name": "stderr",
     "output_type": "stream",
     "text": [
      " 85%|████████▍ | 945/1113 [00:16<00:01, 90.10it/s]"
     ]
    },
    {
     "name": "stdout",
     "output_type": "stream",
     "text": [
      "[INFO] Rewired graph for 50 iterations, 4 edge additions and 2 edge removal exists...\n",
      "[INFO] Rewired graph for 50 iterations, 4 edge additions and 2 edge removal exists...\n",
      "[INFO] Rewired graph for 50 iterations, 4 edge additions and 2 edge removal exists...\n",
      "[INFO] Rewired graph for 50 iterations, 4 edge additions and 2 edge removal exists...\n",
      "[INFO] Rewired graph for 50 iterations, 4 edge additions and 2 edge removal exists...\n",
      "[INFO] Rewired graph for 50 iterations, 4 edge additions and 2 edge removal exists...\n",
      "[INFO] Rewired graph for 50 iterations, 4 edge additions and 2 edge removal exists...\n",
      "[INFO] Rewired graph for 50 iterations, 4 edge additions and 2 edge removal exists...\n",
      "[INFO] Rewired graph for 50 iterations, 4 edge additions and 2 edge removal exists...\n",
      "[INFO] Rewired graph for 50 iterations, 4 edge additions and 2 edge removal exists...\n",
      "[INFO] Rewired graph for 50 iterations, 4 edge additions and 2 edge removal exists...\n",
      "[INFO] Rewired graph for 50 iterations, 4 edge additions and 2 edge removal exists...\n",
      "[INFO] Rewired graph for 50 iterations, 4 edge additions and 2 edge removal exists...\n",
      "[INFO] Rewired graph for 50 iterations, 4 edge additions and 2 edge removal exists...\n",
      "[INFO] Rewired graph for 50 iterations, 4 edge additions and 2 edge removal exists...\n",
      "[INFO] Rewired graph for 50 iterations, 4 edge additions and 2 edge removal exists...\n",
      "[INFO] Rewired graph for 50 iterations, 4 edge additions and 2 edge removal exists...\n",
      "[INFO] Rewired graph for 50 iterations, 4 edge additions and 2 edge removal exists...\n",
      "[INFO] Rewired graph for 50 iterations, 4 edge additions and 2 edge removal exists...\n"
     ]
    },
    {
     "name": "stderr",
     "output_type": "stream",
     "text": [
      " 87%|████████▋ | 965/1113 [00:16<00:01, 90.48it/s]"
     ]
    },
    {
     "name": "stdout",
     "output_type": "stream",
     "text": [
      "[INFO] Rewired graph for 50 iterations, 4 edge additions and 2 edge removal exists...\n",
      "[INFO] Rewired graph for 50 iterations, 4 edge additions and 2 edge removal exists...\n",
      "[INFO] Rewired graph for 50 iterations, 4 edge additions and 2 edge removal exists...\n",
      "[INFO] Rewired graph for 50 iterations, 4 edge additions and 2 edge removal exists...\n",
      "[INFO] Rewired graph for 50 iterations, 4 edge additions and 2 edge removal exists...\n",
      "[INFO] Rewired graph for 50 iterations, 4 edge additions and 2 edge removal exists...\n",
      "[INFO] Rewired graph for 50 iterations, 4 edge additions and 2 edge removal exists...\n",
      "[INFO] Rewired graph for 50 iterations, 4 edge additions and 2 edge removal exists...\n",
      "[INFO] Rewired graph for 50 iterations, 4 edge additions and 2 edge removal exists...\n",
      "[INFO] Rewired graph for 50 iterations, 4 edge additions and 2 edge removal exists...\n",
      "[INFO] Rewired graph for 50 iterations, 4 edge additions and 2 edge removal exists...\n",
      "[INFO] Rewired graph for 50 iterations, 4 edge additions and 2 edge removal exists...\n",
      "[INFO] Rewired graph for 50 iterations, 4 edge additions and 2 edge removal exists...\n",
      "[INFO] Rewired graph for 50 iterations, 4 edge additions and 2 edge removal exists...\n",
      "[INFO] Rewired graph for 50 iterations, 4 edge additions and 2 edge removal exists...\n",
      "[INFO] Rewired graph for 50 iterations, 4 edge additions and 2 edge removal exists...\n",
      "[INFO] Rewired graph for 50 iterations, 4 edge additions and 2 edge removal exists...\n",
      "[INFO] Rewired graph for 50 iterations, 4 edge additions and 2 edge removal exists...\n",
      "[INFO] Rewired graph for 50 iterations, 4 edge additions and 2 edge removal exists...\n"
     ]
    },
    {
     "name": "stderr",
     "output_type": "stream",
     "text": [
      " 88%|████████▊ | 985/1113 [00:16<00:01, 91.21it/s]"
     ]
    },
    {
     "name": "stdout",
     "output_type": "stream",
     "text": [
      "[INFO] Rewired graph for 50 iterations, 4 edge additions and 2 edge removal exists...\n",
      "[INFO] Rewired graph for 50 iterations, 4 edge additions and 2 edge removal exists...\n",
      "[INFO] Rewired graph for 50 iterations, 4 edge additions and 2 edge removal exists...\n",
      "[INFO] Rewired graph for 50 iterations, 4 edge additions and 2 edge removal exists...\n",
      "[INFO] Rewired graph for 50 iterations, 4 edge additions and 2 edge removal exists...\n",
      "[INFO] Rewired graph for 50 iterations, 4 edge additions and 2 edge removal exists...\n",
      "[INFO] Rewired graph for 50 iterations, 4 edge additions and 2 edge removal exists...\n",
      "[INFO] Rewired graph for 50 iterations, 4 edge additions and 2 edge removal exists...\n",
      "[INFO] Rewired graph for 50 iterations, 4 edge additions and 2 edge removal exists...\n",
      "[INFO] Rewired graph for 50 iterations, 4 edge additions and 2 edge removal exists...\n",
      "[INFO] Rewired graph for 50 iterations, 4 edge additions and 2 edge removal exists...\n",
      "[INFO] Rewired graph for 50 iterations, 4 edge additions and 2 edge removal exists...\n",
      "[INFO] Rewired graph for 50 iterations, 4 edge additions and 2 edge removal exists...\n",
      "[INFO] Rewired graph for 50 iterations, 4 edge additions and 2 edge removal exists...\n",
      "[INFO] Rewired graph for 50 iterations, 4 edge additions and 2 edge removal exists...\n",
      "[INFO] Rewired graph for 50 iterations, 4 edge additions and 2 edge removal exists...\n",
      "[INFO] Rewired graph for 50 iterations, 4 edge additions and 2 edge removal exists...\n",
      "[INFO] Rewired graph for 50 iterations, 4 edge additions and 2 edge removal exists...\n",
      "[INFO] Rewired graph for 50 iterations, 4 edge additions and 2 edge removal exists...\n"
     ]
    },
    {
     "name": "stderr",
     "output_type": "stream",
     "text": [
      " 90%|█████████ | 1005/1113 [00:16<00:01, 89.83it/s]"
     ]
    },
    {
     "name": "stdout",
     "output_type": "stream",
     "text": [
      "[INFO] Rewired graph for 50 iterations, 4 edge additions and 2 edge removal exists...\n",
      "[INFO] Rewired graph for 50 iterations, 4 edge additions and 2 edge removal exists...\n",
      "[INFO] Rewired graph for 50 iterations, 4 edge additions and 2 edge removal exists...\n",
      "[INFO] Rewired graph for 50 iterations, 4 edge additions and 2 edge removal exists...\n",
      "[INFO] Rewired graph for 50 iterations, 4 edge additions and 2 edge removal exists...\n",
      "[INFO] Rewired graph for 50 iterations, 4 edge additions and 2 edge removal exists...\n",
      "[INFO] Rewired graph for 50 iterations, 4 edge additions and 2 edge removal exists...\n",
      "[INFO] Rewired graph for 50 iterations, 4 edge additions and 2 edge removal exists...\n",
      "[INFO] Rewired graph for 50 iterations, 4 edge additions and 2 edge removal exists...\n",
      "[INFO] Rewired graph for 50 iterations, 4 edge additions and 2 edge removal exists...\n",
      "[INFO] Rewired graph for 50 iterations, 4 edge additions and 2 edge removal exists...\n",
      "[INFO] Rewired graph for 50 iterations, 4 edge additions and 2 edge removal exists...\n",
      "[INFO] Rewired graph for 50 iterations, 4 edge additions and 2 edge removal exists...\n",
      "[INFO] Rewired graph for 50 iterations, 4 edge additions and 2 edge removal exists...\n",
      "[INFO] Rewired graph for 50 iterations, 4 edge additions and 2 edge removal exists...\n",
      "[INFO] Rewired graph for 50 iterations, 4 edge additions and 2 edge removal exists...\n",
      "[INFO] Rewired graph for 50 iterations, 4 edge additions and 2 edge removal exists...\n",
      "[INFO] Rewired graph for 50 iterations, 4 edge additions and 2 edge removal exists...\n"
     ]
    },
    {
     "name": "stderr",
     "output_type": "stream",
     "text": [
      " 92%|█████████▏| 1023/1113 [00:17<00:01, 89.54it/s]"
     ]
    },
    {
     "name": "stdout",
     "output_type": "stream",
     "text": [
      "[INFO] Rewired graph for 50 iterations, 4 edge additions and 2 edge removal exists...\n",
      "[INFO] Rewired graph for 50 iterations, 4 edge additions and 2 edge removal exists...\n",
      "[INFO] Rewired graph for 50 iterations, 4 edge additions and 2 edge removal exists...\n",
      "[INFO] Rewired graph for 50 iterations, 4 edge additions and 2 edge removal exists...\n",
      "[INFO] Rewired graph for 50 iterations, 4 edge additions and 2 edge removal exists...\n",
      "[INFO] Rewired graph for 50 iterations, 4 edge additions and 2 edge removal exists...\n",
      "[INFO] Rewired graph for 50 iterations, 4 edge additions and 2 edge removal exists...\n",
      "[INFO] Rewired graph for 50 iterations, 4 edge additions and 2 edge removal exists...\n",
      "[INFO] Rewired graph for 50 iterations, 4 edge additions and 2 edge removal exists...\n",
      "[INFO] Rewired graph for 50 iterations, 4 edge additions and 2 edge removal exists...\n",
      "[INFO] Rewired graph for 50 iterations, 4 edge additions and 2 edge removal exists...\n",
      "[INFO] Rewired graph for 50 iterations, 4 edge additions and 2 edge removal exists...\n",
      "[INFO] Rewired graph for 50 iterations, 4 edge additions and 2 edge removal exists...\n",
      "[INFO] Rewired graph for 50 iterations, 4 edge additions and 2 edge removal exists...\n",
      "[INFO] Rewired graph for 50 iterations, 4 edge additions and 2 edge removal exists...\n",
      "[INFO] Rewired graph for 50 iterations, 4 edge additions and 2 edge removal exists...\n",
      "[INFO] Rewired graph for 50 iterations, 4 edge additions and 2 edge removal exists...\n",
      "[INFO] Rewired graph for 50 iterations, 4 edge additions and 2 edge removal exists...\n",
      "[INFO] Rewired graph for 50 iterations, 4 edge additions and 2 edge removal exists...\n"
     ]
    },
    {
     "name": "stderr",
     "output_type": "stream",
     "text": [
      " 94%|█████████▎| 1041/1113 [00:17<00:00, 88.89it/s]"
     ]
    },
    {
     "name": "stdout",
     "output_type": "stream",
     "text": [
      "[INFO] Rewired graph for 50 iterations, 4 edge additions and 2 edge removal exists...\n",
      "[INFO] Rewired graph for 50 iterations, 4 edge additions and 2 edge removal exists...\n",
      "[INFO] Rewired graph for 50 iterations, 4 edge additions and 2 edge removal exists...\n",
      "[INFO] Rewired graph for 50 iterations, 4 edge additions and 2 edge removal exists...\n",
      "[INFO] Rewired graph for 50 iterations, 4 edge additions and 2 edge removal exists...\n",
      "[INFO] Rewired graph for 50 iterations, 4 edge additions and 2 edge removal exists...\n",
      "[INFO] Rewired graph for 50 iterations, 4 edge additions and 2 edge removal exists...\n",
      "[INFO] Rewired graph for 50 iterations, 4 edge additions and 2 edge removal exists...\n",
      "[INFO] Rewired graph for 50 iterations, 4 edge additions and 2 edge removal exists...\n",
      "[INFO] Rewired graph for 50 iterations, 4 edge additions and 2 edge removal exists...\n",
      "[INFO] Rewired graph for 50 iterations, 4 edge additions and 2 edge removal exists...\n",
      "[INFO] Rewired graph for 50 iterations, 4 edge additions and 2 edge removal exists...\n",
      "[INFO] Rewired graph for 50 iterations, 4 edge additions and 2 edge removal exists...\n",
      "[INFO] Rewired graph for 50 iterations, 4 edge additions and 2 edge removal exists...\n",
      "[INFO] Rewired graph for 50 iterations, 4 edge additions and 2 edge removal exists...\n",
      "[INFO] Rewired graph for 50 iterations, 4 edge additions and 2 edge removal exists...\n",
      "[INFO] Rewired graph for 50 iterations, 4 edge additions and 2 edge removal exists...\n",
      "[INFO] Rewired graph for 50 iterations, 4 edge additions and 2 edge removal exists...\n",
      "[INFO] Rewired graph for 50 iterations, 4 edge additions and 2 edge removal exists...\n"
     ]
    },
    {
     "name": "stderr",
     "output_type": "stream",
     "text": [
      " 95%|█████████▌| 1061/1113 [00:17<00:00, 90.71it/s]"
     ]
    },
    {
     "name": "stdout",
     "output_type": "stream",
     "text": [
      "[INFO] Rewired graph for 50 iterations, 4 edge additions and 2 edge removal exists...\n",
      "[INFO] Rewired graph for 50 iterations, 4 edge additions and 2 edge removal exists...\n",
      "[INFO] Rewired graph for 50 iterations, 4 edge additions and 2 edge removal exists...\n",
      "[INFO] Rewired graph for 50 iterations, 4 edge additions and 2 edge removal exists...\n",
      "[INFO] Rewired graph for 50 iterations, 4 edge additions and 2 edge removal exists...\n",
      "[INFO] Rewired graph for 50 iterations, 4 edge additions and 2 edge removal exists...\n",
      "[INFO] Rewired graph for 50 iterations, 4 edge additions and 2 edge removal exists...\n",
      "[INFO] Rewired graph for 50 iterations, 4 edge additions and 2 edge removal exists...\n",
      "[INFO] Rewired graph for 50 iterations, 4 edge additions and 2 edge removal exists...\n",
      "[INFO] Rewired graph for 50 iterations, 4 edge additions and 2 edge removal exists...\n",
      "[INFO] Rewired graph for 50 iterations, 4 edge additions and 2 edge removal exists...\n",
      "[INFO] Rewired graph for 50 iterations, 4 edge additions and 2 edge removal exists...\n",
      "[INFO] Rewired graph for 50 iterations, 4 edge additions and 2 edge removal exists...\n",
      "[INFO] Rewired graph for 50 iterations, 4 edge additions and 2 edge removal exists...\n",
      "[INFO] Rewired graph for 50 iterations, 4 edge additions and 2 edge removal exists...\n",
      "[INFO] Rewired graph for 50 iterations, 4 edge additions and 2 edge removal exists...\n",
      "[INFO] Rewired graph for 50 iterations, 4 edge additions and 2 edge removal exists...\n",
      "[INFO] Rewired graph for 50 iterations, 4 edge additions and 2 edge removal exists...\n",
      "[INFO] Rewired graph for 50 iterations, 4 edge additions and 2 edge removal exists...\n"
     ]
    },
    {
     "name": "stderr",
     "output_type": "stream",
     "text": [
      " 96%|█████████▌| 1071/1113 [00:17<00:00, 90.86it/s]"
     ]
    },
    {
     "name": "stdout",
     "output_type": "stream",
     "text": [
      "[INFO] Rewired graph for 50 iterations, 4 edge additions and 2 edge removal exists...\n",
      "[INFO] Rewired graph for 50 iterations, 4 edge additions and 2 edge removal exists...\n",
      "[INFO] Rewired graph for 50 iterations, 4 edge additions and 2 edge removal exists...\n",
      "[INFO] Rewired graph for 50 iterations, 4 edge additions and 2 edge removal exists...\n",
      "[INFO] Rewired graph for 50 iterations, 4 edge additions and 2 edge removal exists...\n",
      "[INFO] Rewired graph for 50 iterations, 4 edge additions and 2 edge removal exists...\n",
      "[INFO] Rewired graph for 50 iterations, 4 edge additions and 2 edge removal exists...\n",
      "[INFO] Rewired graph for 50 iterations, 4 edge additions and 2 edge removal exists...\n",
      "[INFO] Rewired graph for 50 iterations, 4 edge additions and 2 edge removal exists...\n",
      "[INFO] Rewired graph for 50 iterations, 4 edge additions and 2 edge removal exists...\n",
      "[INFO] Rewired graph for 50 iterations, 4 edge additions and 2 edge removal exists...\n",
      "[INFO] Rewired graph for 50 iterations, 4 edge additions and 2 edge removal exists...\n",
      "[INFO] Rewired graph for 50 iterations, 4 edge additions and 2 edge removal exists...\n",
      "[INFO] Rewired graph for 50 iterations, 4 edge additions and 2 edge removal exists...\n",
      "[INFO] Rewired graph for 50 iterations, 4 edge additions and 2 edge removal exists...\n"
     ]
    },
    {
     "name": "stderr",
     "output_type": "stream",
     "text": [
      " 98%|█████████▊| 1090/1113 [00:17<00:00, 75.20it/s]"
     ]
    },
    {
     "name": "stdout",
     "output_type": "stream",
     "text": [
      "[INFO] Rewired graph for 50 iterations, 4 edge additions and 2 edge removal exists...\n",
      "[INFO] Rewired graph for 50 iterations, 4 edge additions and 2 edge removal exists...\n",
      "[INFO] Rewired graph for 50 iterations, 4 edge additions and 2 edge removal exists...\n",
      "[INFO] Rewired graph for 50 iterations, 4 edge additions and 2 edge removal exists...\n",
      "[INFO] Rewired graph for 50 iterations, 4 edge additions and 2 edge removal exists...\n",
      "[INFO] Rewired graph for 50 iterations, 4 edge additions and 2 edge removal exists...\n",
      "[INFO] Rewired graph for 50 iterations, 4 edge additions and 2 edge removal exists...\n",
      "[INFO] Rewired graph for 50 iterations, 4 edge additions and 2 edge removal exists...\n",
      "[INFO] Rewired graph for 50 iterations, 4 edge additions and 2 edge removal exists...\n",
      "[INFO] Rewired graph for 50 iterations, 4 edge additions and 2 edge removal exists...\n",
      "[INFO] Rewired graph for 50 iterations, 4 edge additions and 2 edge removal exists...\n",
      "[INFO] Rewired graph for 50 iterations, 4 edge additions and 2 edge removal exists...\n",
      "[INFO] Rewired graph for 50 iterations, 4 edge additions and 2 edge removal exists...\n",
      "[INFO] Rewired graph for 50 iterations, 4 edge additions and 2 edge removal exists...\n"
     ]
    },
    {
     "name": "stderr",
     "output_type": "stream",
     "text": [
      "100%|█████████▉| 1110/1113 [00:18<00:00, 84.43it/s]"
     ]
    },
    {
     "name": "stdout",
     "output_type": "stream",
     "text": [
      "[INFO] Rewired graph for 50 iterations, 4 edge additions and 2 edge removal exists...\n",
      "[INFO] Rewired graph for 50 iterations, 4 edge additions and 2 edge removal exists...\n",
      "[INFO] Rewired graph for 50 iterations, 4 edge additions and 2 edge removal exists...\n",
      "[INFO] Rewired graph for 50 iterations, 4 edge additions and 2 edge removal exists...\n",
      "[INFO] Rewired graph for 50 iterations, 4 edge additions and 2 edge removal exists...\n",
      "[INFO] Rewired graph for 50 iterations, 4 edge additions and 2 edge removal exists...\n",
      "[INFO] Rewired graph for 50 iterations, 4 edge additions and 2 edge removal exists...\n",
      "[INFO] Rewired graph for 50 iterations, 4 edge additions and 2 edge removal exists...\n",
      "[INFO] Rewired graph for 50 iterations, 4 edge additions and 2 edge removal exists...\n",
      "[INFO] Rewired graph for 50 iterations, 4 edge additions and 2 edge removal exists...\n",
      "[INFO] Rewired graph for 50 iterations, 4 edge additions and 2 edge removal exists...\n",
      "[INFO] Rewired graph for 50 iterations, 4 edge additions and 2 edge removal exists...\n",
      "[INFO] Rewired graph for 50 iterations, 4 edge additions and 2 edge removal exists...\n",
      "[INFO] Rewired graph for 50 iterations, 4 edge additions and 2 edge removal exists...\n",
      "[INFO] Rewired graph for 50 iterations, 4 edge additions and 2 edge removal exists...\n",
      "[INFO] Rewired graph for 50 iterations, 4 edge additions and 2 edge removal exists...\n",
      "[INFO] Rewired graph for 50 iterations, 4 edge additions and 2 edge removal exists...\n",
      "[INFO] Rewired graph for 50 iterations, 4 edge additions and 2 edge removal exists...\n",
      "[INFO] Rewired graph for 50 iterations, 4 edge additions and 2 edge removal exists...\n",
      "[INFO] Rewired graph for 50 iterations, 4 edge additions and 2 edge removal exists...\n"
     ]
    },
    {
     "name": "stderr",
     "output_type": "stream",
     "text": [
      "100%|██████████| 1113/1113 [00:18<00:00, 61.45it/s]"
     ]
    },
    {
     "name": "stdout",
     "output_type": "stream",
     "text": [
      "[INFO] Rewired graph for 50 iterations, 4 edge additions and 2 edge removal exists...\n",
      "\n",
      "📂 Summary (Mean & Std) results saved to results/rewired_graph_avg_std_metrics_PROTEINS_BORF.csv.\n",
      "\n",
      " Distance Metrics results saved to results/rewired_graph_DISTANCE_metrics_PROTEINS_BORF.csv.\n"
     ]
    },
    {
     "name": "stderr",
     "output_type": "stream",
     "text": [
      "\n"
     ]
    }
   ],
   "source": [
    "from rewiring.rewiring_call import *\n",
    "from tqdm import tqdm\n",
    "import tkinter as tk\n",
    "from tkinter import ttk, messagebox\n",
    "\n",
    "# dataset_names = [\"REDDIT-BINARY\", \"IMDB-BINARY\", \"MUTAG\", \"ENZYMES\", \"PROTEINS\"]\n",
    "#                   0              1            2         3           4\n",
    "# dataset_names = dataset_names[2]\n",
    "\n",
    "# REWIRING_METHOD = [\"BORF\",\"SDRF\", \"FOSR\", \"DES\",\"PPR\", \"LASER\", \"UNREWIRED\"]\n",
    "# #                   0       1       2       3      4      5         6\n",
    "# REWIRING_METHOD = REWIRING_METHOD[0]\n",
    "\n",
    "# # flag all graph rewiring or not\n",
    "# ENTIRE_GRAPH = True\n",
    "\n",
    "dataset_loader = GraphDatasetLoader(dataset_names)\n",
    "loaded_datasets = dataset_loader.get_loaded_dataset_names()\n",
    "\n",
    "all_metrics_df = []\n",
    "distance_metrics_df = []\n",
    "\n",
    "for dataset_name in loaded_datasets:\n",
    "    for rewiring_name in [REWIRING_METHOD]:\n",
    "        print(\"Rewiring methods being used:\", rewiring_name)\n",
    "        print(f\"\\n🚀 Processing dataset: {dataset_name}\")\n",
    "        \n",
    "        # for testing purposes we can test on one graph\n",
    "        if not ENTIRE_GRAPH:  \n",
    "            # Get first graph\n",
    "            graphs = dataset_loader.first_graphs[dataset_name]\n",
    "            # print(\"first graph\", type(graphs))\n",
    "        else:\n",
    "            graphs = dataset_loader.datasets[dataset_name]  # Load full dataset\n",
    "\n",
    "            \n",
    "        for graph in tqdm(graphs):\n",
    "            \n",
    "            if isinstance(graphs, torch_geometric.data.data.Data):\n",
    "                rewiring_method = rewiring_call(graphs, dataset_name)\n",
    "            else:\n",
    "                rewiring_method = rewiring_call(graph, dataset_name)\n",
    "            \n",
    "            if rewiring_name == \"BORF\":\n",
    "                rewired_graph = rewiring_method.borf_rewiring()\n",
    "            elif rewiring_name == \"SDRF\":\n",
    "                rewired_graph = rewiring_method.sdrf_rewiring()\n",
    "            elif rewiring_name == \"FOSR\":\n",
    "                rewired_graph = rewiring_method.fosr_rewiring()\n",
    "            elif rewiring_name == \"LASER\":\n",
    "                rewired_graph = rewiring_method.laser_rewiring()\n",
    "            elif rewiring_name == \"DES\":\n",
    "                rewired_graph = rewiring_method.des_rewiring(dataset_loader)\n",
    "            elif rewiring_name == \"PPR\":\n",
    "                rewired_graph = rewiring_method.ppr_rewiring()\n",
    "            elif rewiring_name == \"UNREWIRED\":\n",
    "                \n",
    "                #To account for if only using a single graph\n",
    "                if isinstance(graphs, torch_geometric.data.data.Data):\n",
    "                    G_nx = to_networkx(graphs, to_undirected=True)  # Convert PyG graph to NetworkX\n",
    "                else:\n",
    "                    G_nx = to_networkx(graph, to_undirected=True)\n",
    "                print(\"G_nx\", G_nx)\n",
    "                rewired_graph = G_nx\n",
    "           \n",
    "            else:\n",
    "                raise ValueError(f\"Invalid rewiring method: {rewiring_name}\")\n",
    "            \n",
    "            # Compute metrics for the rewired graph\n",
    "            metrics_rewired = GraphMetrics(rewired_graph, dataset_name)\n",
    "            df_metrics = metrics_rewired.get_all_metrics()\n",
    "            df_metrics = pd.DataFrame([df_metrics]) \n",
    "            df_metrics[\"Rewiring Method\"] = rewiring_name\n",
    "            df_metrics[\"Dataset\"] = dataset_name\n",
    "\n",
    "            if metrics==\"Distance\":\n",
    "                #Extra portion for distance metrics\n",
    "                if isinstance(graphs, torch_geometric.data.data.Data):\n",
    "                    G_orig = to_networkx(graphs, to_undirected=True)\n",
    "                else:\n",
    "                    G_orig = to_networkx(graph, to_undirected=True)\n",
    "                distance_metrics_class = GraphDistanceMetrics(G_orig, rewired_graph, dataset_name)\n",
    "                dist_metrics = distance_metrics_class.comparison_metrics()\n",
    "                dist_metrics = pd.DataFrame([dist_metrics])\n",
    "                dist_metrics[\"Rewiring Method\"] = rewiring_name\n",
    "                dist_metrics[\"Dataset\"] = dataset_name\n",
    "\n",
    "                distance_metrics_df.append(dist_metrics)\n",
    "\n",
    "            \n",
    "            # Store and later save the metrics\n",
    "            all_metrics_df.append(df_metrics)\n",
    "    \n",
    "\n",
    "# Convert results to DataFrame\n",
    "final_df = pd.concat(all_metrics_df, ignore_index=True)\n",
    "#FOR DISTANCE METRICS\n",
    "if metrics==\"Distance\":\n",
    "    final_dist_df = pd.concat(distance_metrics_df, ignore_index=True)\n",
    "\n",
    "# Compute mean and standard deviation, excluding non-numeric columns\n",
    "if ENTIRE_GRAPH:\n",
    "    numeric_cols = final_df.select_dtypes(include=[\"number\"])  \n",
    "    avg_metrics = numeric_cols.mean().to_frame(name=\"Mean\")  \n",
    "    std_metrics = numeric_cols.std().to_frame(name=\"Std\")  \n",
    "\n",
    "    # Combine into a single DataFrame\n",
    "    summary_df = pd.concat([avg_metrics, std_metrics], axis=1)\n",
    "\n",
    "    # Format the output to display mean ± std in a single column\n",
    "    summary_df[\"Formatted\"] = summary_df.apply(lambda row: f\"{row['Mean']:.6f} ± {row['Std']:.6f}\", axis=1)\n",
    "\n",
    "    # Save summary results correctly\n",
    "    summary_output_csv = f\"results/rewired_graph_avg_std_metrics_{dataset_name}_{REWIRING_METHOD}.csv\"\n",
    "    parent = Path(summary_output_csv).parent\n",
    "    os.makedirs(parent, exist_ok=True)\n",
    "    \n",
    "    # If the path exists remove it\n",
    "    if os.path.exists(summary_output_csv):\n",
    "        os.remove(summary_output_csv)\n",
    "    summary_df.to_csv(summary_output_csv, index=True)\n",
    "\n",
    "    print(f\"\\n📂 Summary (Mean & Std) results saved to {summary_output_csv}.\")\n",
    "\n",
    "    if metrics==\"Distance\":\n",
    "        dist_num_cols = final_dist_df.select_dtypes(include=[\"number\"])\n",
    "        avg_dists = dist_num_cols.mean().to_frame(name=\"Mean\")\n",
    "        std_dists = dist_num_cols.std().to_frame(name=\"Std\")\n",
    "\n",
    "        summary_dists = pd.concat([avg_dists, std_dists], axis=1)\n",
    "\n",
    "        summary_dists[\"Formatted\"] = summary_dists.apply(lambda row: f\"{row['Mean']:.6f} ± {row['Std']:.6f}\", axis=1)\n",
    "\n",
    "        summary_output_csv_dist = f\"results/rewired_graph_DISTANCE_metrics_{dataset_name}_{REWIRING_METHOD}.csv\"\n",
    "        parent = Path(summary_output_csv_dist).parent\n",
    "        os.makedirs(parent, exist_ok=True)\n",
    "\n",
    "        if os.path.exists(summary_output_csv_dist):\n",
    "            os.remove(summary_output_csv_dist)\n",
    "        summary_dists.to_csv(summary_output_csv_dist, index=True)\n",
    "\n",
    "        print(f\"\\n Distance Metrics results saved to {summary_output_csv_dist}.\")\n",
    "\n",
    "\n",
    "else:\n",
    "    # Save individual rewiring results\n",
    "    if metrics==\"Normal\":\n",
    "        output_csv = f\"results/rewired_graph_metrics_{dataset_name}.csv\"\n",
    "    else:\n",
    "        output_csv = f\"results/distance_metrics_{dataset_name}.csv\"\n",
    "    # make sure the directory exists\n",
    "    parent = Path(output_csv).parent\n",
    "    os.makedirs(parent, exist_ok=True)\n",
    "    \n",
    "    if metrics==\"Normal\":\n",
    "        final_df.to_csv(output_csv, index=False)\n",
    "    else:\n",
    "        final_dist_df.to_csv(output_csv, index=False)\n",
    "    print(f\"\\n📂 All rewiring results saved to {output_csv}.\")"
   ]
  }
 ],
 "metadata": {
  "kernelspec": {
   "display_name": "Python 3",
   "language": "python",
   "name": "python3"
  },
  "language_info": {
   "codemirror_mode": {
    "name": "ipython",
    "version": 3
   },
   "file_extension": ".py",
   "mimetype": "text/x-python",
   "name": "python",
   "nbconvert_exporter": "python",
   "pygments_lexer": "ipython3",
   "version": "3.11.6"
  }
 },
 "nbformat": 4,
 "nbformat_minor": 2
}

{
 "cells": [
  {
   "cell_type": "code",
   "execution_count": 2,
   "metadata": {},
   "outputs": [
    {
     "name": "stdout",
     "output_type": "stream",
     "text": [
      "/usr/local/bin/python3.12\n"
     ]
    }
   ],
   "source": [
    "import sys\n",
    "print(sys.executable)"
   ]
  },
  {
   "cell_type": "code",
   "execution_count": 3,
   "metadata": {},
   "outputs": [],
   "source": [
    "import torch"
   ]
  },
  {
   "cell_type": "code",
   "execution_count": 4,
   "metadata": {},
   "outputs": [
    {
     "name": "stdout",
     "output_type": "stream",
     "text": [
      "2.6.0\n",
      "2.6.1\n"
     ]
    }
   ],
   "source": [
    "import torch_geometric\n",
    "print(torch.__version__)\n",
    "print(torch_geometric.__version__)"
   ]
  },
  {
   "cell_type": "code",
   "execution_count": 5,
   "metadata": {},
   "outputs": [],
   "source": [
    "#Attempt to download reddit-binary graph dataset\n",
    "from torch_geometric.datasets import TUDataset\n",
    "\n",
    "# Load the REDDIT-BINARY dataset\n",
    "red_dataset = TUDataset(root='./data', name='REDDIT-BINARY')"
   ]
  },
  {
   "cell_type": "code",
   "execution_count": 6,
   "metadata": {},
   "outputs": [],
   "source": [
    "#Get other dependencies\n",
    "import networkx as nx\n",
    "import numpy as np\n",
    "from scipy.sparse.csgraph import laplacian\n",
    "from scipy.linalg import pinv, eigvalsh\n",
    "\n",
    "redGraph = red_dataset[0]\n",
    "edge_index = redGraph.edge_index.numpy().T\n",
    "G_red = nx.Graph()\n",
    "G_red.add_edges_from(edge_index)"
   ]
  },
  {
   "cell_type": "code",
   "execution_count": 7,
   "metadata": {},
   "outputs": [
    {
     "name": "stdout",
     "output_type": "stream",
     "text": [
      "Reddit Graph Diameter: 8\n"
     ]
    }
   ],
   "source": [
    "#Get graph diameter\n",
    "if nx.is_connected(G_red):\n",
    "    diameter = nx.diameter(G_red)\n",
    "else:\n",
    "    diameter = max(nx.diameter(G_red.subgraph(c)) for c in nx.connected_components(G_red))\n",
    "\n",
    "print(\"Reddit Graph Diameter:\", diameter)"
   ]
  },
  {
   "cell_type": "code",
   "execution_count": 8,
   "metadata": {},
   "outputs": [],
   "source": [
    "#Function to get diameter\n",
    "\n",
    "def get_diameter(G):\n",
    "    if nx.is_connected(G):\n",
    "        diameter = nx.diameter(G)\n",
    "    else:\n",
    "        diameter = max(nx.diameter(G.subgraph(c)) for c in nx.connected_components(G))\n",
    "\n",
    "    return diameter"
   ]
  },
  {
   "cell_type": "code",
   "execution_count": 9,
   "metadata": {},
   "outputs": [],
   "source": [
    "#Function to convert dataset to a NetworkX Representation\n",
    "def make_G(dataset):\n",
    "    graph = dataset[0]\n",
    "    edge_index = graph.edge_index.numpy().T\n",
    "    G = nx.Graph()\n",
    "    G.add_edges_from(edge_index)\n",
    "\n",
    "    return G"
   ]
  },
  {
   "cell_type": "code",
   "execution_count": 10,
   "metadata": {},
   "outputs": [
    {
     "name": "stdout",
     "output_type": "stream",
     "text": [
      "8\n"
     ]
    }
   ],
   "source": [
    "red_G = make_G(red_dataset)\n",
    "print(get_diameter(red_G))"
   ]
  },
  {
   "cell_type": "code",
   "execution_count": 11,
   "metadata": {},
   "outputs": [],
   "source": [
    "#Function to get effective resistance\n",
    "def get_eff_res(G):\n",
    "    nodes = list(G.nodes())\n",
    "    u = nodes[0]\n",
    "    v = nodes[1]\n",
    "\n",
    "    L = laplacian(nx.to_numpy_array(G), normed=False)\n",
    "    L_pinv = pinv(L)\n",
    "    return L_pinv[u, u] + L_pinv[v, v] - 2 * L_pinv[u, v]"
   ]
  },
  {
   "cell_type": "code",
   "execution_count": 12,
   "metadata": {},
   "outputs": [
    {
     "name": "stdout",
     "output_type": "stream",
     "text": [
      "3.0027688909523844\n"
     ]
    }
   ],
   "source": [
    "print(get_eff_res(red_G))"
   ]
  },
  {
   "cell_type": "code",
   "execution_count": 12,
   "metadata": {},
   "outputs": [],
   "source": [
    "#Function to get modularity\n",
    "from networkx.algorithms.community import greedy_modularity_communities\n",
    "\n",
    "def get_modularity(G):\n",
    "    communities = list(greedy_modularity_communities(G))\n",
    "    modularity = nx.algorithms.community.modularity(G, communities)\n",
    "    return modularity"
   ]
  },
  {
   "cell_type": "code",
   "execution_count": 13,
   "metadata": {},
   "outputs": [
    {
     "name": "stdout",
     "output_type": "stream",
     "text": [
      "0.589201388888889\n"
     ]
    }
   ],
   "source": [
    "print(get_modularity(red_G))"
   ]
  },
  {
   "cell_type": "code",
   "execution_count": 14,
   "metadata": {},
   "outputs": [],
   "source": [
    "#Function to get Graph Assortativity\n",
    "def get_assort(G):\n",
    "    assortativity = nx.degree_assortativity_coefficient(G)\n",
    "    return assortativity"
   ]
  },
  {
   "cell_type": "code",
   "execution_count": 15,
   "metadata": {},
   "outputs": [
    {
     "name": "stdout",
     "output_type": "stream",
     "text": [
      "-0.4046069146077361\n"
     ]
    }
   ],
   "source": [
    "print(get_assort(red_G))"
   ]
  },
  {
   "cell_type": "code",
   "execution_count": 16,
   "metadata": {},
   "outputs": [],
   "source": [
    "#Function to get clustering coefficient\n",
    "def get_clust_coeff(G):\n",
    "    clustering_coeff = nx.average_clustering(G)\n",
    "    return clustering_coeff"
   ]
  },
  {
   "cell_type": "code",
   "execution_count": 17,
   "metadata": {},
   "outputs": [],
   "source": [
    "#Function to get Spectral Gap\n",
    "def get_spec_gap(G):\n",
    "    L = laplacian(nx.to_numpy_array(G), normed=True)\n",
    "    eigenvalues = eigvalsh(L)\n",
    "    spectral_gap = eigenvalues[1]\n",
    "    return spectral_gap"
   ]
  },
  {
   "cell_type": "code",
   "execution_count": 18,
   "metadata": {},
   "outputs": [],
   "source": [
    "#Function to get curvature\n",
    "def get_Forman_curve(G):\n",
    "    curvature = {}\n",
    "    for u, v in G.edges():\n",
    "        k_u = G.degree[u]\n",
    "        k_v = G.degree[v]\n",
    "        curvature[(u, v)] = 4 - (k_u + k_v)\n",
    "\n",
    "        avg_curvature = np.mean(list(curvature.values()))\n",
    "        return avg_curvature"
   ]
  },
  {
   "cell_type": "code",
   "execution_count": 19,
   "metadata": {},
   "outputs": [
    {
     "name": "stdout",
     "output_type": "stream",
     "text": [
      "Clustering Coefficient: 0.04106324376158408\n",
      "Spectral Gap: 6.333210574685239e-17\n",
      "Forman Curvature: 0.0\n"
     ]
    }
   ],
   "source": [
    "print(\"Clustering Coefficient:\", get_clust_coeff(red_G))\n",
    "print(\"Spectral Gap:\", get_spec_gap(red_G))\n",
    "print(\"Forman Curvature:\", get_Forman_curve(red_G))"
   ]
  },
  {
   "cell_type": "code",
   "execution_count": 20,
   "metadata": {},
   "outputs": [],
   "source": [
    "#Function to get average betweenness centrality\n",
    "def get_bet_cent(G):\n",
    "    bet_cent = nx.betweenness_centrality(G)\n",
    "    avg_bet = sum(bet_cent.values()) / len(bet_cent)\n",
    "    return avg_bet"
   ]
  },
  {
   "cell_type": "code",
   "execution_count": 21,
   "metadata": {},
   "outputs": [
    {
     "name": "stdout",
     "output_type": "stream",
     "text": [
      "Average Betweenness Centrality: 0.00911383099160548\n"
     ]
    }
   ],
   "source": [
    "print(\"Average Betweenness Centrality:\", get_bet_cent(red_G))"
   ]
  },
  {
   "cell_type": "code",
   "execution_count": 22,
   "metadata": {},
   "outputs": [],
   "source": [
    "#Overall function to complete all metrics for a specific dataset\n",
    "def get_metrics(dataset):\n",
    "    G = make_G(dataset)\n",
    "\n",
    "    print(\"Diameter: \", get_diameter(G))\n",
    "    print(\"Effective Resistance: \", get_eff_res(G))\n",
    "    print(\"Modularity: \", get_modularity(G))\n",
    "    print(\"Assortativity: \", get_assort(G))\n",
    "    print(\"Clustering Coefficient:\", get_clust_coeff(G))\n",
    "    print(\"Spectral Gap:\", get_spec_gap(G))\n",
    "    print(\"Forman Curvature:\", get_Forman_curve(G))\n",
    "    print(\"Average Betweenness Centrality:\", get_bet_cent(G))"
   ]
  },
  {
   "cell_type": "code",
   "execution_count": 23,
   "metadata": {},
   "outputs": [
    {
     "name": "stdout",
     "output_type": "stream",
     "text": [
      "Diameter:  8\n",
      "Effective Resistance:  3.0027688909523844\n",
      "Modularity:  0.589201388888889\n",
      "Assortativity:  -0.4046069146077361\n",
      "Clustering Coefficient: 0.04106324376158408\n",
      "Spectral Gap: 6.333210574685239e-17\n",
      "Forman Curvature: 0.0\n",
      "Average Betweenness Centrality: 0.00911383099160548\n"
     ]
    }
   ],
   "source": [
    "get_metrics(red_dataset)"
   ]
  },
  {
   "cell_type": "code",
   "execution_count": 24,
   "metadata": {},
   "outputs": [
    {
     "name": "stderr",
     "output_type": "stream",
     "text": [
      "Downloading https://www.chrsmrrs.com/graphkerneldatasets/REDDIT-BINARY.zip\n",
      "Processing...\n",
      "Done!\n",
      "Downloading https://www.chrsmrrs.com/graphkerneldatasets/IMDB-BINARY.zip\n",
      "Processing...\n",
      "Done!\n",
      "Downloading https://www.chrsmrrs.com/graphkerneldatasets/MUTAG.zip\n",
      "Processing...\n",
      "Done!\n",
      "Downloading https://www.chrsmrrs.com/graphkerneldatasets/ENZYMES.zip\n",
      "Processing...\n",
      "Done!\n",
      "Downloading https://www.chrsmrrs.com/graphkerneldatasets/PROTEINS.zip\n",
      "Processing...\n",
      "Done!\n",
      "Downloading https://www.chrsmrrs.com/graphkerneldatasets/COLLAB.zip\n",
      "Processing...\n",
      "Done!\n"
     ]
    },
    {
     "name": "stdout",
     "output_type": "stream",
     "text": [
      "Dataset: REDDIT-BINARY\n",
      "Diameter:  8\n",
      "Effective Resistance:  3.0027688909523844\n",
      "Modularity:  0.589201388888889\n",
      "Assortativity:  -0.4046069146077361\n",
      "Clustering Coefficient: 0.04106324376158408\n",
      "Spectral Gap: 6.333210574685239e-17\n",
      "Forman Curvature: 0.0\n",
      "Average Betweenness Centrality: 0.00911383099160548\n",
      "Dataset: IMDB-BINARY\n",
      "Diameter:  2\n",
      "Effective Resistance:  0.33333333333333426\n",
      "Modularity:  0.30174516794895845\n",
      "Assortativity:  -0.1629682197414267\n",
      "Clustering Coefficient: 0.9029106858054228\n",
      "Spectral Gap: 0.1761895716816948\n",
      "Forman Curvature: -20.0\n",
      "Average Betweenness Centrality: 0.03421052631578947\n",
      "Dataset: MUTAG\n",
      "Diameter:  9\n",
      "Effective Resistance:  0.8284313725490198\n",
      "Modularity:  0.45152354570637115\n",
      "Assortativity:  -0.2063492063492055\n",
      "Clustering Coefficient: 0.0\n",
      "Spectral Gap: 0.06421022480703144\n",
      "Forman Curvature: 0.0\n",
      "Average Betweenness Centrality: 0.17450980392156862\n",
      "Dataset: ENZYMES\n",
      "Diameter:  12\n",
      "Effective Resistance:  0.4501944087921115\n",
      "Modularity:  0.593608276643991\n",
      "Assortativity:  0.04587155963302928\n",
      "Clustering Coefficient: 0.5653796653796653\n",
      "Spectral Gap: 0.010067439725799918\n",
      "Forman Curvature: -4.0\n",
      "Average Betweenness Centrality: 0.11368511368511369\n",
      "Dataset: PROTEINS\n",
      "Diameter:  14\n",
      "Effective Resistance:  1.72185336075392\n",
      "Modularity:  0.657826550830666\n",
      "Assortativity:  -0.06978640143485916\n",
      "Clustering Coefficient: 0.3416666666666667\n",
      "Spectral Gap: 0.011674452294752617\n",
      "Forman Curvature: -2.0\n",
      "Average Betweenness Centrality: 0.10911730545876888\n",
      "Dataset: COLLAB\n",
      "Diameter:  1\n",
      "Effective Resistance:  0.04444444444444447\n",
      "Modularity:  0.0\n",
      "Assortativity:  nan\n",
      "Clustering Coefficient: 1.0\n",
      "Spectral Gap: 1.0227272727272707\n",
      "Forman Curvature: -84.0\n",
      "Average Betweenness Centrality: 0.0\n"
     ]
    },
    {
     "name": "stderr",
     "output_type": "stream",
     "text": [
      "/Library/Frameworks/Python.framework/Versions/3.12/lib/python3.12/site-packages/networkx/algorithms/assortativity/correlation.py:302: RuntimeWarning: invalid value encountered in scalar divide\n",
      "  return float((xy * (M - ab)).sum() / np.sqrt(vara * varb))\n"
     ]
    }
   ],
   "source": [
    "#Complete for all other datasets\n",
    "datasets = [\"REDDIT-BINARY\", \"IMDB-BINARY\", \"MUTAG\", \"ENZYMES\", \"PROTEINS\", \"COLLAB\"]\n",
    "\n",
    "data_dict = {name: TUDataset(root=f'./data/{name}', name=name) for name in datasets}\n",
    "\n",
    "for name, dataset in data_dict.items():\n",
    "    print(f\"Dataset: {name}\")\n",
    "    get_metrics(dataset)"
   ]
  },
  {
   "cell_type": "markdown",
   "metadata": {},
   "source": []
  }
 ],
 "metadata": {
  "kernelspec": {
   "display_name": "Python 3",
   "language": "python",
   "name": "python3"
  },
  "language_info": {
   "codemirror_mode": {
    "name": "ipython",
    "version": 3
   },
   "file_extension": ".py",
   "mimetype": "text/x-python",
   "name": "python",
   "nbconvert_exporter": "python",
   "pygments_lexer": "ipython3",
   "version": "3.12.6"
  }
 },
 "nbformat": 4,
 "nbformat_minor": 2
}

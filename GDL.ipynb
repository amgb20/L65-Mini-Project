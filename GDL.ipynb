{
 "cells": [
  {
   "cell_type": "code",
   "execution_count": 30,
   "metadata": {},
   "outputs": [
    {
     "name": "stdout",
     "output_type": "stream",
     "text": [
      "/usr/local/bin/python3\n"
     ]
    }
   ],
   "source": [
    "import sys\n",
    "print(sys.executable)"
   ]
  },
  {
   "cell_type": "code",
   "execution_count": 31,
   "metadata": {},
   "outputs": [],
   "source": [
    "import torch"
   ]
  },
  {
   "cell_type": "code",
   "execution_count": 32,
   "metadata": {},
   "outputs": [
    {
     "name": "stdout",
     "output_type": "stream",
     "text": [
      "2.6.0\n",
      "2.6.1\n"
     ]
    }
   ],
   "source": [
    "import torch_geometric\n",
    "print(torch.__version__)\n",
    "print(torch_geometric.__version__)"
   ]
  },
  {
   "cell_type": "code",
   "execution_count": 33,
   "metadata": {},
   "outputs": [],
   "source": [
    "#Attempt to download reddit-binary graph dataset\n",
    "from torch_geometric.datasets import TUDataset\n",
    "\n",
    "# Load the REDDIT-BINARY dataset\n",
    "red_dataset = TUDataset(root='./data', name='REDDIT-BINARY')"
   ]
  },
  {
   "cell_type": "code",
   "execution_count": 34,
   "metadata": {},
   "outputs": [],
   "source": [
    "#Get other dependencies\n",
    "import networkx as nx\n",
    "import numpy as np\n",
    "from scipy.sparse.csgraph import laplacian\n",
    "from scipy.linalg import pinv, eigvalsh\n",
    "\n",
    "redGraph = red_dataset[0]\n",
    "edge_index = redGraph.edge_index.numpy().T\n",
    "G_red = nx.Graph()\n",
    "G_red.add_edges_from(edge_index)"
   ]
  },
  {
   "cell_type": "code",
   "execution_count": 35,
   "metadata": {},
   "outputs": [
    {
     "name": "stdout",
     "output_type": "stream",
     "text": [
      "Reddit Graph Diameter: 8\n"
     ]
    }
   ],
   "source": [
    "#Get graph diameter\n",
    "if nx.is_connected(G_red):\n",
    "    diameter = nx.diameter(G_red)\n",
    "else:\n",
    "    diameter = max(nx.diameter(G_red.subgraph(c)) for c in nx.connected_components(G_red))\n",
    "\n",
    "print(\"Reddit Graph Diameter:\", diameter)"
   ]
  },
  {
   "cell_type": "code",
   "execution_count": 36,
   "metadata": {},
   "outputs": [],
   "source": [
    "#Function to get diameter\n",
    "\n",
    "def get_diameter(G):\n",
    "    if nx.is_connected(G):\n",
    "        diameter = nx.diameter(G)\n",
    "    else:\n",
    "        diameter = max(nx.diameter(G.subgraph(c)) for c in nx.connected_components(G))\n",
    "\n",
    "    return diameter"
   ]
  },
  {
   "cell_type": "code",
   "execution_count": 37,
   "metadata": {},
   "outputs": [],
   "source": [
    "#Function to convert dataset to a NetworkX Representation\n",
    "def make_G(dataset):\n",
    "    graph = dataset[0]\n",
    "    edge_index = graph.edge_index.numpy().T\n",
    "    G = nx.Graph()\n",
    "    G.add_edges_from(edge_index)\n",
    "\n",
    "    return G"
   ]
  },
  {
   "cell_type": "code",
   "execution_count": 38,
   "metadata": {},
   "outputs": [
    {
     "name": "stdout",
     "output_type": "stream",
     "text": [
      "8\n"
     ]
    }
   ],
   "source": [
    "red_G = make_G(red_dataset)\n",
    "print(get_diameter(red_G))"
   ]
  },
  {
   "cell_type": "code",
   "execution_count": 39,
   "metadata": {},
   "outputs": [],
   "source": [
    "#Function to get effective resistance\n",
    "def get_eff_res(G):\n",
    "    nodes = list(G.nodes())\n",
    "    u = nodes[0]\n",
    "    v = nodes[1]\n",
    "\n",
    "    L = laplacian(nx.to_numpy_array(G), normed=False)\n",
    "    L_pinv = pinv(L)\n",
    "    return L_pinv[u, u] + L_pinv[v, v] - 2 * L_pinv[u, v]"
   ]
  },
  {
   "cell_type": "code",
   "execution_count": 40,
   "metadata": {},
   "outputs": [
    {
     "name": "stdout",
     "output_type": "stream",
     "text": [
      "3.0027688909523844\n"
     ]
    }
   ],
   "source": [
    "print(get_eff_res(red_G))"
   ]
  },
  {
   "cell_type": "code",
   "execution_count": 41,
   "metadata": {},
   "outputs": [],
   "source": [
    "#Function to get modularity\n",
    "from networkx.algorithms.community import greedy_modularity_communities\n",
    "\n",
    "def get_modularity(G):\n",
    "    communities = list(greedy_modularity_communities(G))\n",
    "    modularity = nx.algorithms.community.modularity(G, communities)\n",
    "    return modularity"
   ]
  },
  {
   "cell_type": "code",
   "execution_count": 42,
   "metadata": {},
   "outputs": [
    {
     "name": "stdout",
     "output_type": "stream",
     "text": [
      "0.589201388888889\n"
     ]
    }
   ],
   "source": [
    "print(get_modularity(red_G))"
   ]
  },
  {
   "cell_type": "code",
   "execution_count": 43,
   "metadata": {},
   "outputs": [],
   "source": [
    "#Function to get Graph Assortativity\n",
    "def get_assort(G):\n",
    "    assortativity = nx.degree_assortativity_coefficient(G)\n",
    "    return assortativity"
   ]
  },
  {
   "cell_type": "code",
   "execution_count": 44,
   "metadata": {},
   "outputs": [
    {
     "name": "stdout",
     "output_type": "stream",
     "text": [
      "-0.4046069146077361\n"
     ]
    }
   ],
   "source": [
    "print(get_assort(red_G))"
   ]
  },
  {
   "cell_type": "code",
   "execution_count": 45,
   "metadata": {},
   "outputs": [],
   "source": [
    "#Function to get clustering coefficient\n",
    "def get_clust_coeff(G):\n",
    "    clustering_coeff = nx.average_clustering(G)\n",
    "    return clustering_coeff"
   ]
  },
  {
   "cell_type": "code",
   "execution_count": 46,
   "metadata": {},
   "outputs": [],
   "source": [
    "#Function to get Spectral Gap\n",
    "def get_spec_gap(G):\n",
    "    L = laplacian(nx.to_numpy_array(G), normed=True)\n",
    "    eigenvalues = eigvalsh(L)\n",
    "    spectral_gap = eigenvalues[1]\n",
    "    return spectral_gap"
   ]
  },
  {
   "cell_type": "code",
   "execution_count": 47,
   "metadata": {},
   "outputs": [],
   "source": [
    "#Function to get curvature\n",
    "def get_Forman_curve(G):\n",
    "    curvature = {}\n",
    "    for u, v in G.edges():\n",
    "        k_u = G.degree[u]\n",
    "        k_v = G.degree[v]\n",
    "        curvature[(u, v)] = 4 - (k_u + k_v)\n",
    "\n",
    "        avg_curvature = np.mean(list(curvature.values()))\n",
    "        return avg_curvature"
   ]
  },
  {
   "cell_type": "code",
   "execution_count": 48,
   "metadata": {},
   "outputs": [
    {
     "name": "stdout",
     "output_type": "stream",
     "text": [
      "Clustering Coefficient: 0.04106324376158408\n",
      "Spectral Gap: 6.333210574685239e-17\n",
      "Forman Curvature: 0.0\n"
     ]
    }
   ],
   "source": [
    "print(\"Clustering Coefficient:\", get_clust_coeff(red_G))\n",
    "print(\"Spectral Gap:\", get_spec_gap(red_G))\n",
    "print(\"Forman Curvature:\", get_Forman_curve(red_G))"
   ]
  },
  {
   "cell_type": "markdown",
   "metadata": {},
   "source": []
  }
 ],
 "metadata": {
  "kernelspec": {
   "display_name": "Python 3",
   "language": "python",
   "name": "python3"
  },
  "language_info": {
   "codemirror_mode": {
    "name": "ipython",
    "version": 3
   },
   "file_extension": ".py",
   "mimetype": "text/x-python",
   "name": "python",
   "nbconvert_exporter": "python",
   "pygments_lexer": "ipython3",
   "version": "3.12.6"
  }
 },
 "nbformat": 4,
 "nbformat_minor": 2
}

{
 "cells": [
  {
   "cell_type": "markdown",
   "metadata": {},
   "source": [
    "# GDL for main graph rewiring and metrics comparison"
   ]
  },
  {
   "cell_type": "markdown",
   "metadata": {},
   "source": [
    "## Import libraries"
   ]
  },
  {
   "cell_type": "code",
   "execution_count": 4,
   "metadata": {},
   "outputs": [
    {
     "name": "stdout",
     "output_type": "stream",
     "text": [
      "/media/alexandre/morespace/data/amgb20/CAM_venv/bin/python\n"
     ]
    },
    {
     "name": "stderr",
     "output_type": "stream",
     "text": [
      "/media/alexandre/morespace/data/amgb20/CAM_venv/lib/python3.10/site-packages/torch_geometric/typing.py:87: UserWarning: An issue occurred while importing 'torch-scatter'. Disabling its usage. Stacktrace: /media/alexandre/morespace/data/amgb20/CAM_venv/lib/python3.10/site-packages/torch_scatter/_scatter_cpu.so: undefined symbol: _ZN2at23SavedTensorDefaultHooks11set_tracingEb\n",
      "  warnings.warn(f\"An issue occurred while importing 'torch-scatter'. \"\n",
      "/media/alexandre/morespace/data/amgb20/CAM_venv/lib/python3.10/site-packages/torch_geometric/typing.py:125: UserWarning: An issue occurred while importing 'torch-sparse'. Disabling its usage. Stacktrace: libcudart.so.12: cannot open shared object file: No such file or directory\n",
      "  warnings.warn(f\"An issue occurred while importing 'torch-sparse'. \"\n"
     ]
    },
    {
     "name": "stdout",
     "output_type": "stream",
     "text": [
      "2.4.0+cpu\n",
      "2.7.0\n"
     ]
    }
   ],
   "source": [
    "import sys\n",
    "print(sys.executable)\n",
    "import torch\n",
    "import torch_geometric\n",
    "print(torch.__version__)\n",
    "print(torch_geometric.__version__)\n",
    "\n",
    "import matplotlib.pyplot as plt\n",
    "from torch_geometric.datasets import TUDataset\n",
    "# from GraphRicciCurvature.FormanRicci import FormanRicci\n",
    "\n",
    "import networkx as nx\n",
    "import numpy as np\n",
    "from scipy.sparse.csgraph import laplacian\n",
    "from scipy.linalg import pinv, eigvalsh\n",
    "\n",
    "from utils.load_data import *\n",
    "from evaluation.metrics import *\n",
    "from evaluation.metrics_distance import *\n",
    "from evaluation.curvature import *\n",
    "from visualization.plots import *\n",
    "from visualization.networkx_plot import *\n"
   ]
  },
  {
   "cell_type": "markdown",
   "metadata": {},
   "source": [
    "# Rewiring our graphs"
   ]
  },
  {
   "cell_type": "markdown",
   "metadata": {},
   "source": [
    "🚩 We need to respect the experimental details of hyperparameters describe on page 15"
   ]
  },
  {
   "cell_type": "markdown",
   "metadata": {},
   "source": [
    "## Dynamic Graph Rewiring Method Code"
   ]
  },
  {
   "cell_type": "code",
   "execution_count": null,
   "metadata": {},
   "outputs": [
    {
     "data": {
      "application/vnd.jupyter.widget-view+json": {
       "model_id": "7198a6b1f23d4a33b7da76035654aef3",
       "version_major": 2,
       "version_minor": 0
      },
      "text/plain": [
       "Tab(children=(VBox(children=(Dropdown(description='Dataset:', index=2, options=('REDDIT-BINARY', 'IMDB-BINARY'…"
      ]
     },
     "metadata": {},
     "output_type": "display_data"
    },
    {
     "data": {
      "application/vnd.jupyter.widget-view+json": {
       "model_id": "f7bfad65bba44d08899bcc62c481048e",
       "version_major": 2,
       "version_minor": 0
      },
      "text/plain": [
       "Output()"
      ]
     },
     "metadata": {},
     "output_type": "display_data"
    }
   ],
   "source": [
    "from ipywidgets import widgets, Tab, VBox, Output\n",
    "\n",
    "dataset_names = [\"MUTAG\"]  # Default dataset selection\n",
    "REWIRING_METHOD = \"BORF\"   # Default rewiring method\n",
    "ENTIRE_GRAPH = False       # Default entire graph selection\n",
    "metrics = \"Normal\"         \n",
    "\n",
    "output = Output()  \n",
    "\n",
    "\n",
    "\n",
    "data = widgets.Dropdown(\n",
    "    options=[\"REDDIT-BINARY\", \"IMDB-BINARY\", \"MUTAG\", \"ENZYMES\", \"PROTEINS\"],\n",
    "    value=\"MUTAG\",\n",
    "    description=\"Dataset:\"\n",
    ")\n",
    "\n",
    "rewired_method = widgets.Dropdown(\n",
    "    options=[\"BORF\", \"SDRF\", \"FOSR\", \"DES\", \"PPR\", \"LASER\", \"UNREWIRED\"],\n",
    "    value=\"BORF\",\n",
    "    description=\"Rewiring Method:\"\n",
    ")\n",
    "\n",
    "entire_graph = widgets.Checkbox(\n",
    "    value=False,\n",
    "    description=\"Entire Graph\"\n",
    ")\n",
    "\n",
    "\n",
    "metric = widgets.Dropdown(\n",
    "    options=[\"Distance\", \"Normal\"],\n",
    "    value=\"Normal\",\n",
    "    description=\"Metrics:\"\n",
    ")\n",
    "\n",
    "\n",
    "def update_dataset(change):\n",
    "    global dataset_names\n",
    "    dataset_names = [change[\"new\"]]\n",
    "    with output:\n",
    "        output.clear_output()\n",
    "        print(f\"Dataset Selected: {dataset_names}\")\n",
    "\n",
    "def update_rewiring_method(change):\n",
    "    global REWIRING_METHOD\n",
    "    REWIRING_METHOD = change[\"new\"]\n",
    "    with output:\n",
    "        output.clear_output()\n",
    "        print(f\"Rewiring Method Selected: {REWIRING_METHOD}\")\n",
    "\n",
    "def update_entire_graph(change):\n",
    "    global ENTIRE_GRAPH\n",
    "    ENTIRE_GRAPH = change[\"new\"]\n",
    "    with output:\n",
    "        output.clear_output()\n",
    "        print(f\"Entire Graph Selected: {ENTIRE_GRAPH}\")\n",
    "\n",
    "def update_metrics(change):\n",
    "    global metrics\n",
    "    metrics = change[\"new\"]\n",
    "    with output:\n",
    "        output.clear_output()\n",
    "        print(f\"Metrics Selected: {metrics}\")\n",
    "\n",
    "\n",
    "data.observe(update_dataset, names=\"value\")\n",
    "rewired_method.observe(update_rewiring_method, names=\"value\")\n",
    "entire_graph.observe(update_entire_graph, names=\"value\")\n",
    "metric.observe(update_metrics, names=\"value\")\n",
    "\n",
    "\n",
    "tab_contents = [\n",
    "    VBox([data]),\n",
    "    VBox([rewired_method]),\n",
    "    VBox([entire_graph]),\n",
    "    VBox([metric])\n",
    "]\n",
    "\n",
    "tab = Tab(children=tab_contents)\n",
    "\n",
    "# Set tab titles\n",
    "for i, title in enumerate([\"Dataset\", \"Rewiring Method\", \"Entire Graph\", \"Metrics\"]):\n",
    "    tab.set_title(i, title)\n",
    "\n",
    "display(tab, output)\n"
   ]
  },
  {
   "cell_type": "code",
   "execution_count": 43,
   "metadata": {},
   "outputs": [
    {
     "name": "stdout",
     "output_type": "stream",
     "text": [
      "Selected dataset: ['REDDIT-BINARY']\n",
      "Selected rewiring method: SDRF\n",
      "Selected entire graph: True\n",
      "Selected metrics: Normal\n"
     ]
    }
   ],
   "source": [
    "\n",
    "print(f\"Selected dataset: {dataset_names}\")\n",
    "print(f\"Selected rewiring method: {REWIRING_METHOD}\")\n",
    "print(f\"Selected entire graph: {ENTIRE_GRAPH}\")\n",
    "print(f\"Selected metrics: {metrics}\")"
   ]
  },
  {
   "cell_type": "code",
   "execution_count": 44,
   "metadata": {},
   "outputs": [
    {
     "name": "stdout",
     "output_type": "stream",
     "text": [
      "⚠️ Warning: 'REDDIT-BINARY' not found. Did you mean 'REDDIT-BINARY'?\n",
      "✅ Dataset REDDIT-BINARY already exists. Loading from disk...\n",
      "✅ Converted 2000 graphs from REDDIT-BINARY into NetworkX format.\n",
      "Rewiring methods being used: SDRF\n",
      "\n",
      "🚀 Processing dataset: REDDIT-BINARY\n"
     ]
    },
    {
     "name": "stderr",
     "output_type": "stream",
     "text": [
      "  0%|          | 0/2000 [00:00<?, ?it/s]"
     ]
    },
    {
     "name": "stdout",
     "output_type": "stream",
     "text": [
      "🔄 Applying SDRF on REDDIT-BINARY...\n",
      "✅ Rewiring complete! REDDIT-BINARY now has 240 edges.\n"
     ]
    },
    {
     "name": "stderr",
     "output_type": "stream",
     "text": [
      "/media/alexandre/morespace/University of Cambridge/L65/L65-Mini-Project/rewiring/sdrf/sdrf.py:278: UserWarning: To copy construct from a tensor, it is recommended to use sourceTensor.clone().detach() or sourceTensor.clone().detach().requires_grad_(True), rather than torch.tensor(sourceTensor).\n",
      "  new_edge_index = torch.tensor(new_edge_index)\n",
      "  0%|          | 1/2000 [00:03<2:05:54,  3.78s/it]"
     ]
    },
    {
     "name": "stdout",
     "output_type": "stream",
     "text": [
      "🔄 Applying SDRF on REDDIT-BINARY...\n"
     ]
    },
    {
     "name": "stderr",
     "output_type": "stream",
     "text": [
      "/media/alexandre/morespace/University of Cambridge/L65/L65-Mini-Project/rewiring/sdrf/sdrf.py:278: UserWarning: To copy construct from a tensor, it is recommended to use sourceTensor.clone().detach() or sourceTensor.clone().detach().requires_grad_(True), rather than torch.tensor(sourceTensor).\n",
      "  new_edge_index = torch.tensor(new_edge_index)\n"
     ]
    },
    {
     "name": "stdout",
     "output_type": "stream",
     "text": [
      "✅ Rewiring complete! REDDIT-BINARY now has 831 edges.\n"
     ]
    },
    {
     "name": "stderr",
     "output_type": "stream",
     "text": [
      "  0%|          | 2/2000 [00:30<9:30:40, 17.14s/it]"
     ]
    },
    {
     "name": "stdout",
     "output_type": "stream",
     "text": [
      "🔄 Applying SDRF on REDDIT-BINARY...\n",
      "✅ Rewiring complete! REDDIT-BINARY now has 250 edges.\n"
     ]
    },
    {
     "name": "stderr",
     "output_type": "stream",
     "text": [
      "/media/alexandre/morespace/University of Cambridge/L65/L65-Mini-Project/rewiring/sdrf/sdrf.py:278: UserWarning: To copy construct from a tensor, it is recommended to use sourceTensor.clone().detach() or sourceTensor.clone().detach().requires_grad_(True), rather than torch.tensor(sourceTensor).\n",
      "  new_edge_index = torch.tensor(new_edge_index)\n",
      "  0%|          | 3/2000 [00:33<5:58:18, 10.77s/it]"
     ]
    },
    {
     "name": "stdout",
     "output_type": "stream",
     "text": [
      "🔄 Applying SDRF on REDDIT-BINARY...\n"
     ]
    },
    {
     "name": "stderr",
     "output_type": "stream",
     "text": [
      "/media/alexandre/morespace/University of Cambridge/L65/L65-Mini-Project/rewiring/sdrf/sdrf.py:278: UserWarning: To copy construct from a tensor, it is recommended to use sourceTensor.clone().detach() or sourceTensor.clone().detach().requires_grad_(True), rather than torch.tensor(sourceTensor).\n",
      "  new_edge_index = torch.tensor(new_edge_index)\n"
     ]
    },
    {
     "name": "stdout",
     "output_type": "stream",
     "text": [
      "✅ Rewiring complete! REDDIT-BINARY now has 632 edges.\n"
     ]
    },
    {
     "name": "stderr",
     "output_type": "stream",
     "text": [
      "  0%|          | 4/2000 [00:51<7:39:06, 13.80s/it]"
     ]
    },
    {
     "name": "stdout",
     "output_type": "stream",
     "text": [
      "🔄 Applying SDRF on REDDIT-BINARY...\n"
     ]
    },
    {
     "name": "stderr",
     "output_type": "stream",
     "text": [
      "/media/alexandre/morespace/University of Cambridge/L65/L65-Mini-Project/rewiring/sdrf/sdrf.py:278: UserWarning: To copy construct from a tensor, it is recommended to use sourceTensor.clone().detach() or sourceTensor.clone().detach().requires_grad_(True), rather than torch.tensor(sourceTensor).\n",
      "  new_edge_index = torch.tensor(new_edge_index)\n"
     ]
    },
    {
     "name": "stdout",
     "output_type": "stream",
     "text": [
      "✅ Rewiring complete! REDDIT-BINARY now has 504 edges.\n"
     ]
    },
    {
     "name": "stderr",
     "output_type": "stream",
     "text": [
      "  0%|          | 5/2000 [01:07<7:56:56, 14.34s/it]"
     ]
    },
    {
     "name": "stdout",
     "output_type": "stream",
     "text": [
      "🔄 Applying SDRF on REDDIT-BINARY...\n"
     ]
    },
    {
     "name": "stderr",
     "output_type": "stream",
     "text": [
      "/media/alexandre/morespace/University of Cambridge/L65/L65-Mini-Project/rewiring/sdrf/sdrf.py:278: UserWarning: To copy construct from a tensor, it is recommended to use sourceTensor.clone().detach() or sourceTensor.clone().detach().requires_grad_(True), rather than torch.tensor(sourceTensor).\n",
      "  new_edge_index = torch.tensor(new_edge_index)\n"
     ]
    },
    {
     "name": "stdout",
     "output_type": "stream",
     "text": [
      "✅ Rewiring complete! REDDIT-BINARY now has 1153 edges.\n"
     ]
    },
    {
     "name": "stderr",
     "output_type": "stream",
     "text": [
      "  0%|          | 6/2000 [01:41<11:47:13, 21.28s/it]"
     ]
    },
    {
     "name": "stdout",
     "output_type": "stream",
     "text": [
      "🔄 Applying SDRF on REDDIT-BINARY...\n",
      "✅ Rewiring complete! REDDIT-BINARY now has 336 edges.\n"
     ]
    },
    {
     "name": "stderr",
     "output_type": "stream",
     "text": [
      "/media/alexandre/morespace/University of Cambridge/L65/L65-Mini-Project/rewiring/sdrf/sdrf.py:278: UserWarning: To copy construct from a tensor, it is recommended to use sourceTensor.clone().detach() or sourceTensor.clone().detach().requires_grad_(True), rather than torch.tensor(sourceTensor).\n",
      "  new_edge_index = torch.tensor(new_edge_index)\n",
      "  0%|          | 7/2000 [01:45<8:31:18, 15.39s/it] "
     ]
    },
    {
     "name": "stdout",
     "output_type": "stream",
     "text": [
      "🔄 Applying SDRF on REDDIT-BINARY...\n",
      "✅ Rewiring complete! REDDIT-BINARY now has 382 edges.\n"
     ]
    },
    {
     "name": "stderr",
     "output_type": "stream",
     "text": [
      "/media/alexandre/morespace/University of Cambridge/L65/L65-Mini-Project/rewiring/sdrf/sdrf.py:278: UserWarning: To copy construct from a tensor, it is recommended to use sourceTensor.clone().detach() or sourceTensor.clone().detach().requires_grad_(True), rather than torch.tensor(sourceTensor).\n",
      "  new_edge_index = torch.tensor(new_edge_index)\n",
      "  0%|          | 8/2000 [01:49<6:29:56, 11.75s/it]"
     ]
    },
    {
     "name": "stdout",
     "output_type": "stream",
     "text": [
      "🔄 Applying SDRF on REDDIT-BINARY...\n"
     ]
    },
    {
     "name": "stderr",
     "output_type": "stream",
     "text": [
      "/media/alexandre/morespace/University of Cambridge/L65/L65-Mini-Project/rewiring/sdrf/sdrf.py:278: UserWarning: To copy construct from a tensor, it is recommended to use sourceTensor.clone().detach() or sourceTensor.clone().detach().requires_grad_(True), rather than torch.tensor(sourceTensor).\n",
      "  new_edge_index = torch.tensor(new_edge_index)\n"
     ]
    },
    {
     "name": "stdout",
     "output_type": "stream",
     "text": [
      "✅ Rewiring complete! REDDIT-BINARY now has 870 edges.\n"
     ]
    },
    {
     "name": "stderr",
     "output_type": "stream",
     "text": [
      "  0%|          | 9/2000 [02:12<8:29:35, 15.36s/it]"
     ]
    },
    {
     "name": "stdout",
     "output_type": "stream",
     "text": [
      "🔄 Applying SDRF on REDDIT-BINARY...\n"
     ]
    },
    {
     "name": "stderr",
     "output_type": "stream",
     "text": [
      "/media/alexandre/morespace/University of Cambridge/L65/L65-Mini-Project/rewiring/sdrf/sdrf.py:278: UserWarning: To copy construct from a tensor, it is recommended to use sourceTensor.clone().detach() or sourceTensor.clone().detach().requires_grad_(True), rather than torch.tensor(sourceTensor).\n",
      "  new_edge_index = torch.tensor(new_edge_index)\n"
     ]
    },
    {
     "name": "stdout",
     "output_type": "stream",
     "text": [
      "✅ Rewiring complete! REDDIT-BINARY now has 557 edges.\n"
     ]
    },
    {
     "name": "stderr",
     "output_type": "stream",
     "text": [
      "  0%|          | 10/2000 [02:23<7:45:51, 14.05s/it]"
     ]
    },
    {
     "name": "stdout",
     "output_type": "stream",
     "text": [
      "🔄 Applying SDRF on REDDIT-BINARY...\n",
      "✅ Rewiring complete! REDDIT-BINARY now has 565 edges.\n"
     ]
    },
    {
     "name": "stderr",
     "output_type": "stream",
     "text": [
      "/media/alexandre/morespace/University of Cambridge/L65/L65-Mini-Project/rewiring/sdrf/sdrf.py:278: UserWarning: To copy construct from a tensor, it is recommended to use sourceTensor.clone().detach() or sourceTensor.clone().detach().requires_grad_(True), rather than torch.tensor(sourceTensor).\n",
      "  new_edge_index = torch.tensor(new_edge_index)\n",
      "  1%|          | 11/2000 [02:31<6:44:26, 12.20s/it]"
     ]
    },
    {
     "name": "stdout",
     "output_type": "stream",
     "text": [
      "🔄 Applying SDRF on REDDIT-BINARY...\n",
      "✅ Rewiring complete! REDDIT-BINARY now has 195 edges.\n"
     ]
    },
    {
     "name": "stderr",
     "output_type": "stream",
     "text": [
      "/media/alexandre/morespace/University of Cambridge/L65/L65-Mini-Project/rewiring/sdrf/sdrf.py:278: UserWarning: To copy construct from a tensor, it is recommended to use sourceTensor.clone().detach() or sourceTensor.clone().detach().requires_grad_(True), rather than torch.tensor(sourceTensor).\n",
      "  new_edge_index = torch.tensor(new_edge_index)\n",
      "  1%|          | 12/2000 [02:33<4:56:27,  8.95s/it]"
     ]
    },
    {
     "name": "stdout",
     "output_type": "stream",
     "text": [
      "🔄 Applying SDRF on REDDIT-BINARY...\n"
     ]
    },
    {
     "name": "stderr",
     "output_type": "stream",
     "text": [
      "/media/alexandre/morespace/University of Cambridge/L65/L65-Mini-Project/rewiring/sdrf/sdrf.py:278: UserWarning: To copy construct from a tensor, it is recommended to use sourceTensor.clone().detach() or sourceTensor.clone().detach().requires_grad_(True), rather than torch.tensor(sourceTensor).\n",
      "  new_edge_index = torch.tensor(new_edge_index)\n"
     ]
    },
    {
     "name": "stdout",
     "output_type": "stream",
     "text": [
      "✅ Rewiring complete! REDDIT-BINARY now has 2629 edges.\n"
     ]
    },
    {
     "name": "stderr",
     "output_type": "stream",
     "text": [
      "  1%|          | 13/2000 [10:53<87:10:31, 157.94s/it]"
     ]
    },
    {
     "name": "stdout",
     "output_type": "stream",
     "text": [
      "🔄 Applying SDRF on REDDIT-BINARY...\n"
     ]
    },
    {
     "name": "stderr",
     "output_type": "stream",
     "text": [
      "/media/alexandre/morespace/University of Cambridge/L65/L65-Mini-Project/rewiring/sdrf/sdrf.py:278: UserWarning: To copy construct from a tensor, it is recommended to use sourceTensor.clone().detach() or sourceTensor.clone().detach().requires_grad_(True), rather than torch.tensor(sourceTensor).\n",
      "  new_edge_index = torch.tensor(new_edge_index)\n"
     ]
    },
    {
     "name": "stdout",
     "output_type": "stream",
     "text": [
      "✅ Rewiring complete! REDDIT-BINARY now has 635 edges.\n"
     ]
    },
    {
     "name": "stderr",
     "output_type": "stream",
     "text": [
      "  1%|          | 14/2000 [11:15<64:29:07, 116.89s/it]"
     ]
    },
    {
     "name": "stdout",
     "output_type": "stream",
     "text": [
      "🔄 Applying SDRF on REDDIT-BINARY...\n"
     ]
    },
    {
     "name": "stderr",
     "output_type": "stream",
     "text": [
      "/media/alexandre/morespace/University of Cambridge/L65/L65-Mini-Project/rewiring/sdrf/sdrf.py:278: UserWarning: To copy construct from a tensor, it is recommended to use sourceTensor.clone().detach() or sourceTensor.clone().detach().requires_grad_(True), rather than torch.tensor(sourceTensor).\n",
      "  new_edge_index = torch.tensor(new_edge_index)\n"
     ]
    },
    {
     "name": "stdout",
     "output_type": "stream",
     "text": [
      "✅ Rewiring complete! REDDIT-BINARY now has 1741 edges.\n"
     ]
    },
    {
     "name": "stderr",
     "output_type": "stream",
     "text": [
      "  1%|          | 15/2000 [13:17<65:18:37, 118.45s/it]"
     ]
    },
    {
     "name": "stdout",
     "output_type": "stream",
     "text": [
      "🔄 Applying SDRF on REDDIT-BINARY...\n"
     ]
    },
    {
     "name": "stderr",
     "output_type": "stream",
     "text": [
      "/media/alexandre/morespace/University of Cambridge/L65/L65-Mini-Project/rewiring/sdrf/sdrf.py:278: UserWarning: To copy construct from a tensor, it is recommended to use sourceTensor.clone().detach() or sourceTensor.clone().detach().requires_grad_(True), rather than torch.tensor(sourceTensor).\n",
      "  new_edge_index = torch.tensor(new_edge_index)\n"
     ]
    },
    {
     "name": "stdout",
     "output_type": "stream",
     "text": [
      "✅ Rewiring complete! REDDIT-BINARY now has 1198 edges.\n"
     ]
    },
    {
     "name": "stderr",
     "output_type": "stream",
     "text": [
      "  1%|          | 15/2000 [14:51<32:46:42, 59.45s/it] \n"
     ]
    },
    {
     "ename": "KeyboardInterrupt",
     "evalue": "",
     "output_type": "error",
     "traceback": [
      "\u001b[0;31m---------------------------------------------------------------------------\u001b[0m",
      "\u001b[0;31mKeyboardInterrupt\u001b[0m                         Traceback (most recent call last)",
      "Cell \u001b[0;32mIn[44], line 62\u001b[0m\n\u001b[1;32m     60\u001b[0m \u001b[38;5;66;03m# Compute metrics for the rewired graph\u001b[39;00m\n\u001b[1;32m     61\u001b[0m metrics_rewired \u001b[38;5;241m=\u001b[39m GraphMetrics(rewired_graph, dataset_name)\n\u001b[0;32m---> 62\u001b[0m df_metrics \u001b[38;5;241m=\u001b[39m \u001b[43mmetrics_rewired\u001b[49m\u001b[38;5;241;43m.\u001b[39;49m\u001b[43mget_all_metrics\u001b[49m\u001b[43m(\u001b[49m\u001b[43m)\u001b[49m\n\u001b[1;32m     63\u001b[0m df_metrics \u001b[38;5;241m=\u001b[39m pd\u001b[38;5;241m.\u001b[39mDataFrame([df_metrics]) \n\u001b[1;32m     64\u001b[0m df_metrics[\u001b[38;5;124m\"\u001b[39m\u001b[38;5;124mRewiring Method\u001b[39m\u001b[38;5;124m\"\u001b[39m] \u001b[38;5;241m=\u001b[39m rewiring_name\n",
      "File \u001b[0;32m/media/alexandre/morespace/University of Cambridge/L65/L65-Mini-Project/evaluation/metrics.py:125\u001b[0m, in \u001b[0;36mGraphMetrics.get_all_metrics\u001b[0;34m(self)\u001b[0m\n\u001b[1;32m    123\u001b[0m metrics[\u001b[38;5;124m\"\u001b[39m\u001b[38;5;124mClustering Coefficient\u001b[39m\u001b[38;5;124m\"\u001b[39m] \u001b[38;5;241m=\u001b[39m \u001b[38;5;28mself\u001b[39m\u001b[38;5;241m.\u001b[39mget_clust_coeff()\n\u001b[1;32m    124\u001b[0m metrics[\u001b[38;5;124m\"\u001b[39m\u001b[38;5;124mSpectral Gap\u001b[39m\u001b[38;5;124m\"\u001b[39m] \u001b[38;5;241m=\u001b[39m \u001b[38;5;28mself\u001b[39m\u001b[38;5;241m.\u001b[39mget_spec_gap()\n\u001b[0;32m--> 125\u001b[0m metrics[\u001b[38;5;124m\"\u001b[39m\u001b[38;5;124mAverage Betweenness Centrality\u001b[39m\u001b[38;5;124m\"\u001b[39m] \u001b[38;5;241m=\u001b[39m \u001b[38;5;28;43mself\u001b[39;49m\u001b[38;5;241;43m.\u001b[39;49m\u001b[43mget_bet_cent\u001b[49m\u001b[43m(\u001b[49m\u001b[43m)\u001b[49m\n\u001b[1;32m    127\u001b[0m \u001b[38;5;28;01mif\u001b[39;00m \u001b[38;5;28mself\u001b[39m\u001b[38;5;241m.\u001b[39mG_name \u001b[38;5;241m!=\u001b[39m \u001b[38;5;124m\"\u001b[39m\u001b[38;5;124mMUTAG\u001b[39m\u001b[38;5;124m\"\u001b[39m:\n\u001b[1;32m    128\u001b[0m     metrics[\u001b[38;5;124m\"\u001b[39m\u001b[38;5;124mEffective Resistance\u001b[39m\u001b[38;5;124m\"\u001b[39m] \u001b[38;5;241m=\u001b[39m \u001b[38;5;28mself\u001b[39m\u001b[38;5;241m.\u001b[39mget_eff_res()\n",
      "File \u001b[0;32m/media/alexandre/morespace/University of Cambridge/L65/L65-Mini-Project/evaluation/metrics.py:100\u001b[0m, in \u001b[0;36mGraphMetrics.get_bet_cent\u001b[0;34m(self)\u001b[0m\n\u001b[1;32m     99\u001b[0m \u001b[38;5;28;01mdef\u001b[39;00m\u001b[38;5;250m \u001b[39m\u001b[38;5;21mget_bet_cent\u001b[39m(\u001b[38;5;28mself\u001b[39m):\n\u001b[0;32m--> 100\u001b[0m     bet_cent \u001b[38;5;241m=\u001b[39m \u001b[43mnx\u001b[49m\u001b[38;5;241;43m.\u001b[39;49m\u001b[43mbetweenness_centrality\u001b[49m\u001b[43m(\u001b[49m\u001b[38;5;28;43mself\u001b[39;49m\u001b[38;5;241;43m.\u001b[39;49m\u001b[43mG\u001b[49m\u001b[43m)\u001b[49m\n\u001b[1;32m    101\u001b[0m     avg_bet \u001b[38;5;241m=\u001b[39m \u001b[38;5;28msum\u001b[39m(bet_cent\u001b[38;5;241m.\u001b[39mvalues()) \u001b[38;5;241m/\u001b[39m \u001b[38;5;28mlen\u001b[39m(bet_cent)\n\u001b[1;32m    102\u001b[0m     \u001b[38;5;28;01mreturn\u001b[39;00m avg_bet\n",
      "File \u001b[0;32m<class 'networkx.utils.decorators.argmap'> compilation 75:4\u001b[0m, in \u001b[0;36margmap_betweenness_centrality_71\u001b[0;34m(G, k, normalized, weight, endpoints, seed, backend, **backend_kwargs)\u001b[0m\n\u001b[1;32m      2\u001b[0m \u001b[38;5;28;01mimport\u001b[39;00m\u001b[38;5;250m \u001b[39m\u001b[38;5;21;01mcollections\u001b[39;00m\n\u001b[1;32m      3\u001b[0m \u001b[38;5;28;01mimport\u001b[39;00m\u001b[38;5;250m \u001b[39m\u001b[38;5;21;01mgzip\u001b[39;00m\n\u001b[0;32m----> 4\u001b[0m \u001b[38;5;28;01mimport\u001b[39;00m\u001b[38;5;250m \u001b[39m\u001b[38;5;21;01minspect\u001b[39;00m\n\u001b[1;32m      5\u001b[0m \u001b[38;5;28;01mimport\u001b[39;00m\u001b[38;5;250m \u001b[39m\u001b[38;5;21;01mitertools\u001b[39;00m\n\u001b[1;32m      6\u001b[0m \u001b[38;5;28;01mimport\u001b[39;00m\u001b[38;5;250m \u001b[39m\u001b[38;5;21;01mre\u001b[39;00m\n",
      "File \u001b[0;32m/media/alexandre/morespace/data/amgb20/CAM_venv/lib/python3.10/site-packages/networkx/utils/backends.py:967\u001b[0m, in \u001b[0;36m_dispatchable.__call__\u001b[0;34m(self, backend, *args, **kwargs)\u001b[0m\n\u001b[1;32m    965\u001b[0m     \u001b[38;5;28;01mif\u001b[39;00m backend \u001b[38;5;129;01mis\u001b[39;00m \u001b[38;5;129;01mnot\u001b[39;00m \u001b[38;5;28;01mNone\u001b[39;00m \u001b[38;5;129;01mand\u001b[39;00m backend \u001b[38;5;241m!=\u001b[39m \u001b[38;5;124m\"\u001b[39m\u001b[38;5;124mnetworkx\u001b[39m\u001b[38;5;124m\"\u001b[39m:\n\u001b[1;32m    966\u001b[0m         \u001b[38;5;28;01mraise\u001b[39;00m \u001b[38;5;167;01mImportError\u001b[39;00m(\u001b[38;5;124mf\u001b[39m\u001b[38;5;124m\"\u001b[39m\u001b[38;5;124m'\u001b[39m\u001b[38;5;132;01m{\u001b[39;00mbackend\u001b[38;5;132;01m}\u001b[39;00m\u001b[38;5;124m'\u001b[39m\u001b[38;5;124m backend is not installed\u001b[39m\u001b[38;5;124m\"\u001b[39m)\n\u001b[0;32m--> 967\u001b[0m     \u001b[38;5;28;01mreturn\u001b[39;00m \u001b[38;5;28;43mself\u001b[39;49m\u001b[38;5;241;43m.\u001b[39;49m\u001b[43morig_func\u001b[49m\u001b[43m(\u001b[49m\u001b[38;5;241;43m*\u001b[39;49m\u001b[43margs\u001b[49m\u001b[43m,\u001b[49m\u001b[43m \u001b[49m\u001b[38;5;241;43m*\u001b[39;49m\u001b[38;5;241;43m*\u001b[39;49m\u001b[43mkwargs\u001b[49m\u001b[43m)\u001b[49m\n\u001b[1;32m    969\u001b[0m \u001b[38;5;66;03m# Use `backend_name` in this function instead of `backend`.\u001b[39;00m\n\u001b[1;32m    970\u001b[0m \u001b[38;5;66;03m# This is purely for aesthetics and to make it easier to search for this\u001b[39;00m\n\u001b[1;32m    971\u001b[0m \u001b[38;5;66;03m# variable since \"backend\" is used in many comments and log/error messages.\u001b[39;00m\n\u001b[1;32m    972\u001b[0m backend_name \u001b[38;5;241m=\u001b[39m backend\n",
      "File \u001b[0;32m/media/alexandre/morespace/data/amgb20/CAM_venv/lib/python3.10/site-packages/networkx/algorithms/centrality/betweenness.py:137\u001b[0m, in \u001b[0;36mbetweenness_centrality\u001b[0;34m(G, k, normalized, weight, endpoints, seed)\u001b[0m\n\u001b[1;32m    134\u001b[0m \u001b[38;5;28;01mfor\u001b[39;00m s \u001b[38;5;129;01min\u001b[39;00m nodes:\n\u001b[1;32m    135\u001b[0m     \u001b[38;5;66;03m# single source shortest paths\u001b[39;00m\n\u001b[1;32m    136\u001b[0m     \u001b[38;5;28;01mif\u001b[39;00m weight \u001b[38;5;129;01mis\u001b[39;00m \u001b[38;5;28;01mNone\u001b[39;00m:  \u001b[38;5;66;03m# use BFS\u001b[39;00m\n\u001b[0;32m--> 137\u001b[0m         S, P, sigma, _ \u001b[38;5;241m=\u001b[39m \u001b[43m_single_source_shortest_path_basic\u001b[49m\u001b[43m(\u001b[49m\u001b[43mG\u001b[49m\u001b[43m,\u001b[49m\u001b[43m \u001b[49m\u001b[43ms\u001b[49m\u001b[43m)\u001b[49m\n\u001b[1;32m    138\u001b[0m     \u001b[38;5;28;01melse\u001b[39;00m:  \u001b[38;5;66;03m# use Dijkstra's algorithm\u001b[39;00m\n\u001b[1;32m    139\u001b[0m         S, P, sigma, _ \u001b[38;5;241m=\u001b[39m _single_source_dijkstra_path_basic(G, s, weight)\n",
      "File \u001b[0;32m/media/alexandre/morespace/data/amgb20/CAM_venv/lib/python3.10/site-packages/networkx/algorithms/centrality/betweenness.py:272\u001b[0m, in \u001b[0;36m_single_source_shortest_path_basic\u001b[0;34m(G, s)\u001b[0m\n\u001b[1;32m    270\u001b[0m sigmav \u001b[38;5;241m=\u001b[39m sigma[v]\n\u001b[1;32m    271\u001b[0m \u001b[38;5;28;01mfor\u001b[39;00m w \u001b[38;5;129;01min\u001b[39;00m G[v]:\n\u001b[0;32m--> 272\u001b[0m     \u001b[38;5;28;01mif\u001b[39;00m w \u001b[38;5;129;01mnot\u001b[39;00m \u001b[38;5;129;01min\u001b[39;00m D:\n\u001b[1;32m    273\u001b[0m         Q\u001b[38;5;241m.\u001b[39mappend(w)\n\u001b[1;32m    274\u001b[0m         D[w] \u001b[38;5;241m=\u001b[39m Dv \u001b[38;5;241m+\u001b[39m \u001b[38;5;241m1\u001b[39m\n",
      "\u001b[0;31mKeyboardInterrupt\u001b[0m: "
     ]
    }
   ],
   "source": [
    "from rewiring.rewiring_call import *\n",
    "from tqdm import tqdm\n",
    "import tkinter as tk\n",
    "from tkinter import ttk, messagebox\n",
    "\n",
    "# dataset_names = [\"REDDIT-BINARY\", \"IMDB-BINARY\", \"MUTAG\", \"ENZYMES\", \"PROTEINS\"]\n",
    "#                   0              1            2         3           4\n",
    "# dataset_names = dataset_names[2]\n",
    "\n",
    "# REWIRING_METHOD = [\"BORF\",\"SDRF\", \"FOSR\", \"DES\",\"PPR\", \"LASER\", \"UNREWIRED\"]\n",
    "# #                   0       1       2       3      4      5         6\n",
    "# REWIRING_METHOD = REWIRING_METHOD[0]\n",
    "\n",
    "# # flag all graph rewiring or not\n",
    "# ENTIRE_GRAPH = True\n",
    "\n",
    "dataset_loader = GraphDatasetLoader(dataset_names)\n",
    "loaded_datasets = dataset_loader.get_loaded_dataset_names()\n",
    "\n",
    "all_metrics_df = []\n",
    "\n",
    "for dataset_name in loaded_datasets:\n",
    "    for rewiring_name in [REWIRING_METHOD]:\n",
    "        print(\"Rewiring methods being used:\", rewiring_name)\n",
    "        print(f\"\\n🚀 Processing dataset: {dataset_name}\")\n",
    "        \n",
    "        # for testing purposes we can test on one graph\n",
    "        if not ENTIRE_GRAPH:  \n",
    "            # Get first graph\n",
    "            graphs = dataset_loader.first_graphs[dataset_name]\n",
    "            # print(\"first graph\", type(graphs))\n",
    "        else:\n",
    "            graphs = dataset_loader.datasets[dataset_name]  # Load full dataset\n",
    "            \n",
    "        for graph in tqdm(graphs):\n",
    "            graph_copy = graphs.copy()\n",
    "            \n",
    "            rewiring_method = rewiring_call(graph, dataset_name)\n",
    "            \n",
    "            if rewiring_name == \"BORF\":\n",
    "                rewired_graph = rewiring_method.borf_rewiring()\n",
    "            elif rewiring_name == \"SDRF\":\n",
    "                rewired_graph = rewiring_method.sdrf_rewiring()\n",
    "            elif rewiring_name == \"FOSR\":\n",
    "                rewired_graph = rewiring_method.fosr_rewiring()\n",
    "            elif rewiring_name == \"LASER\":\n",
    "                rewired_graph = rewiring_method.laser_rewiring()\n",
    "            elif rewiring_name == \"DES\":\n",
    "                rewired_graph = rewiring_method.des_rewiring(dataset_loader)\n",
    "            elif rewiring_name == \"PPR\":\n",
    "                rewired_graph = rewiring_method.ppr_rewiring()\n",
    "            elif rewiring_name == \"UNREWIRED\":\n",
    "                \n",
    "                G_nx = to_networkx(graph, to_undirected=True)  # Convert PyG graph to NetworkX\n",
    "                print(\"G_nx\", G_nx)\n",
    "                rewired_graph = G_nx\n",
    "            else:\n",
    "                raise ValueError(f\"Invalid rewiring method: {rewiring_name}\")\n",
    "            \n",
    "            # Compute metrics for the rewired graph\n",
    "            metrics_rewired = GraphMetrics(rewired_graph, dataset_name)\n",
    "            df_metrics = metrics_rewired.get_all_metrics()\n",
    "            df_metrics = pd.DataFrame([df_metrics]) \n",
    "            df_metrics[\"Rewiring Method\"] = rewiring_name\n",
    "            df_metrics[\"Dataset\"] = dataset_name\n",
    "            \n",
    "            # Store and later save the metrics\n",
    "            all_metrics_df.append(df_metrics)\n",
    "    \n",
    "# Convert results to DataFrame\n",
    "final_df = pd.concat(all_metrics_df, ignore_index=True)\n",
    "\n",
    "# Compute mean and standard deviation, excluding non-numeric columns\n",
    "if ENTIRE_GRAPH:\n",
    "    numeric_cols = final_df.select_dtypes(include=[\"number\"])  \n",
    "    avg_metrics = numeric_cols.mean().to_frame(name=\"Mean\")  \n",
    "    std_metrics = numeric_cols.std().to_frame(name=\"Std\")  \n",
    "\n",
    "    # Combine into a single DataFrame\n",
    "    summary_df = pd.concat([avg_metrics, std_metrics], axis=1)\n",
    "\n",
    "    # Format the output to display mean ± std in a single column\n",
    "    summary_df[\"Formatted\"] = summary_df.apply(lambda row: f\"{row['Mean']:.6f} ± {row['Std']:.6f}\", axis=1)\n",
    "\n",
    "    # Save summary results correctly\n",
    "    summary_output_csv = f\"results/rewired_graph_avg_std_metrics_{dataset_name}_{REWIRING_METHOD}.csv\"\n",
    "    \n",
    "    # If the path exists remove it\n",
    "    if os.path.exists(summary_output_csv):\n",
    "        os.remove(summary_output_csv)\n",
    "    summary_df.to_csv(summary_output_csv, index=True)\n",
    "\n",
    "    print(f\"\\n📂 Summary (Mean & Std) results saved to {summary_output_csv}.\")\n",
    "else:\n",
    "    # Save individual rewiring results\n",
    "    output_csv = f\"results/rewired_graph_metrics_{dataset_name}.csv\"\n",
    "    final_df.to_csv(output_csv, index=False)\n",
    "    print(f\"\\n📂 All rewiring results saved to {output_csv}.\")"
   ]
  }
 ],
 "metadata": {
  "kernelspec": {
   "display_name": "CAM_venv",
   "language": "python",
   "name": "python3"
  },
  "language_info": {
   "codemirror_mode": {
    "name": "ipython",
    "version": 3
   },
   "file_extension": ".py",
   "mimetype": "text/x-python",
   "name": "python",
   "nbconvert_exporter": "python",
   "pygments_lexer": "ipython3",
   "version": "3.10.12"
  }
 },
 "nbformat": 4,
 "nbformat_minor": 2
}

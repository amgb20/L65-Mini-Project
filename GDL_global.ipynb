{
 "cells": [
  {
   "cell_type": "markdown",
   "metadata": {},
   "source": [
    "# GDL for main graph rewiring and metrics comparison"
   ]
  },
  {
   "cell_type": "markdown",
   "metadata": {},
   "source": [
    "## Import libraries"
   ]
  },
  {
   "cell_type": "code",
   "execution_count": 4,
   "metadata": {},
   "outputs": [
    {
     "name": "stdout",
     "output_type": "stream",
     "text": [
      "/media/alexandre/morespace/data/amgb20/CAM_venv/bin/python\n"
     ]
    },
    {
     "name": "stderr",
     "output_type": "stream",
     "text": [
      "/media/alexandre/morespace/data/amgb20/CAM_venv/lib/python3.10/site-packages/torch_geometric/typing.py:87: UserWarning: An issue occurred while importing 'torch-scatter'. Disabling its usage. Stacktrace: /media/alexandre/morespace/data/amgb20/CAM_venv/lib/python3.10/site-packages/torch_scatter/_scatter_cpu.so: undefined symbol: _ZN2at23SavedTensorDefaultHooks11set_tracingEb\n",
      "  warnings.warn(f\"An issue occurred while importing 'torch-scatter'. \"\n",
      "/media/alexandre/morespace/data/amgb20/CAM_venv/lib/python3.10/site-packages/torch_geometric/typing.py:125: UserWarning: An issue occurred while importing 'torch-sparse'. Disabling its usage. Stacktrace: libcudart.so.12: cannot open shared object file: No such file or directory\n",
      "  warnings.warn(f\"An issue occurred while importing 'torch-sparse'. \"\n"
     ]
    },
    {
     "name": "stdout",
     "output_type": "stream",
     "text": [
      "2.4.0+cpu\n",
      "2.7.0\n"
     ]
    }
   ],
   "source": [
    "import sys\n",
    "print(sys.executable)\n",
    "import torch\n",
    "import torch_geometric\n",
    "print(torch.__version__)\n",
    "print(torch_geometric.__version__)\n",
    "\n",
    "import matplotlib.pyplot as plt\n",
    "from torch_geometric.datasets import TUDataset\n",
    "# from GraphRicciCurvature.FormanRicci import FormanRicci\n",
    "\n",
    "import networkx as nx\n",
    "import numpy as np\n",
    "from scipy.sparse.csgraph import laplacian\n",
    "from scipy.linalg import pinv, eigvalsh\n",
    "\n",
    "from utils.load_data import *\n",
    "from evaluation.metrics import *\n",
    "from evaluation.metrics_distance import *\n",
    "from evaluation.curvature import *\n",
    "from visualization.plots import *\n",
    "from visualization.networkx_plot import *\n"
   ]
  },
  {
   "cell_type": "markdown",
   "metadata": {},
   "source": [
    "# Rewiring our graphs"
   ]
  },
  {
   "cell_type": "markdown",
   "metadata": {},
   "source": [
    "🚩 We need to respect the experimental details of hyperparameters describe on page 15"
   ]
  },
  {
   "cell_type": "markdown",
   "metadata": {},
   "source": [
    "## Dynamic Graph Rewiring Method Code"
   ]
  },
  {
   "cell_type": "code",
   "execution_count": 23,
   "metadata": {},
   "outputs": [
    {
     "data": {
      "application/vnd.jupyter.widget-view+json": {
       "model_id": "7198a6b1f23d4a33b7da76035654aef3",
       "version_major": 2,
       "version_minor": 0
      },
      "text/plain": [
       "Tab(children=(VBox(children=(Dropdown(description='Dataset:', index=2, options=('REDDIT-BINARY', 'IMDB-BINARY'…"
      ]
     },
     "metadata": {},
     "output_type": "display_data"
    },
    {
     "data": {
      "application/vnd.jupyter.widget-view+json": {
       "model_id": "f7bfad65bba44d08899bcc62c481048e",
       "version_major": 2,
       "version_minor": 0
      },
      "text/plain": [
       "Output()"
      ]
     },
     "metadata": {},
     "output_type": "display_data"
    }
   ],
   "source": [
    "from ipywidgets import widgets, Tab, VBox, Output\n",
    "\n",
    "dataset_names = [\"MUTAG\"]  # Default dataset selection\n",
    "REWIRING_METHOD = \"BORF\"   # Default rewiring method\n",
    "ENTIRE_GRAPH = False       # Default entire graph selection\n",
    "metrics = \"Normal\"         \n",
    "\n",
    "output = Output()  \n",
    "\n",
    "\n",
    "\n",
    "data = widgets.Dropdown(\n",
    "    options=[\"REDDIT-BINARY\", \"IMDB-BINARY\", \"MUTAG\", \"ENZYMES\", \"PROTEINS\"],\n",
    "    value=\"MUTAG\",\n",
    "    description=\"Dataset:\"\n",
    ")\n",
    "\n",
    "rewired_method = widgets.Dropdown(\n",
    "    options=[\"BORF\", \"SDRF\", \"FOSR\", \"DES\", \"PPR\", \"LASER\", \"UNREWIRED\"],\n",
    "    value=\"BORF\",\n",
    "    description=\"Rewiring Method:\"\n",
    ")\n",
    "\n",
    "entire_graph = widgets.Checkbox(\n",
    "    value=False,\n",
    "    description=\"Entire Graph\"\n",
    ")\n",
    "\n",
    "\n",
    "metric = widgets.Dropdown(\n",
    "    options=[\"Distance\", \"Normal\"],\n",
    "    value=\"Normal\",\n",
    "    description=\"Metrics:\"\n",
    ")\n",
    "\n",
    "\n",
    "def update_dataset(change):\n",
    "    global dataset_names\n",
    "    dataset_names = [change[\"new\"]]\n",
    "    with output:\n",
    "        output.clear_output()\n",
    "        print(f\"Dataset Selected: {dataset_names}\")\n",
    "\n",
    "def update_rewiring_method(change):\n",
    "    global REWIRING_METHOD\n",
    "    REWIRING_METHOD = change[\"new\"]\n",
    "    with output:\n",
    "        output.clear_output()\n",
    "        print(f\"Rewiring Method Selected: {REWIRING_METHOD}\")\n",
    "\n",
    "def update_entire_graph(change):\n",
    "    global ENTIRE_GRAPH\n",
    "    ENTIRE_GRAPH = change[\"new\"]\n",
    "    with output:\n",
    "        output.clear_output()\n",
    "        print(f\"Entire Graph Selected: {ENTIRE_GRAPH}\")\n",
    "\n",
    "def update_metrics(change):\n",
    "    global metrics\n",
    "    metrics = change[\"new\"]\n",
    "    with output:\n",
    "        output.clear_output()\n",
    "        print(f\"Metrics Selected: {metrics}\")\n",
    "\n",
    "\n",
    "data.observe(update_dataset, names=\"value\")\n",
    "rewired_method.observe(update_rewiring_method, names=\"value\")\n",
    "entire_graph.observe(update_entire_graph, names=\"value\")\n",
    "metric.observe(update_metrics, names=\"value\")\n",
    "\n",
    "\n",
    "tab_contents = [\n",
    "    VBox([data]),\n",
    "    VBox([rewired_method]),\n",
    "    VBox([entire_graph]),\n",
    "    VBox([metric])\n",
    "]\n",
    "\n",
    "tab = Tab(children=tab_contents)\n",
    "\n",
    "# Set tab titles\n",
    "for i, title in enumerate([\"Dataset\", \"Rewiring Method\", \"Entire Graph\", \"Metrics\"]):\n",
    "    tab.set_title(i, title)\n",
    "\n",
    "display(tab, output)\n"
   ]
  },
  {
   "cell_type": "code",
   "execution_count": 32,
   "metadata": {},
   "outputs": [
    {
     "name": "stdout",
     "output_type": "stream",
     "text": [
      "Selected dataset: ['MUTAG']\n",
      "Selected rewiring method: SDRF\n",
      "Selected entire graph: True\n",
      "Selected metrics: Normal\n"
     ]
    }
   ],
   "source": [
    "\n",
    "print(f\"Selected dataset: {dataset_names}\")\n",
    "print(f\"Selected rewiring method: {REWIRING_METHOD}\")\n",
    "print(f\"Selected entire graph: {ENTIRE_GRAPH}\")\n",
    "print(f\"Selected metrics: {metrics}\")"
   ]
  },
  {
   "cell_type": "code",
   "execution_count": null,
   "metadata": {},
   "outputs": [
    {
     "name": "stdout",
     "output_type": "stream",
     "text": [
      "⚠️ Warning: 'MUTAG' not found. Did you mean 'MUTAG'?\n",
      "✅ Dataset MUTAG already exists. Loading from disk...\n",
      "✅ Converted 188 graphs from MUTAG into NetworkX format.\n",
      "Rewiring methods being used: SDRF\n",
      "\n",
      "🚀 Processing dataset: MUTAG\n"
     ]
    },
    {
     "name": "stderr",
     "output_type": "stream",
     "text": [
      "  0%|          | 0/188 [00:00<?, ?it/s]/media/alexandre/morespace/University of Cambridge/L65/L65-Mini-Project/rewiring/sdrf/sdrf.py:278: UserWarning: To copy construct from a tensor, it is recommended to use sourceTensor.clone().detach() or sourceTensor.clone().detach().requires_grad_(True), rather than torch.tensor(sourceTensor).\n",
      "  new_edge_index = torch.tensor(new_edge_index)\n",
      "/media/alexandre/morespace/University of Cambridge/L65/L65-Mini-Project/rewiring/sdrf/sdrf.py:278: UserWarning: To copy construct from a tensor, it is recommended to use sourceTensor.clone().detach() or sourceTensor.clone().detach().requires_grad_(True), rather than torch.tensor(sourceTensor).\n",
      "  new_edge_index = torch.tensor(new_edge_index)\n",
      "/media/alexandre/morespace/University of Cambridge/L65/L65-Mini-Project/rewiring/sdrf/sdrf.py:278: UserWarning: To copy construct from a tensor, it is recommended to use sourceTensor.clone().detach() or sourceTensor.clone().detach().requires_grad_(True), rather than torch.tensor(sourceTensor).\n",
      "  new_edge_index = torch.tensor(new_edge_index)\n",
      "/media/alexandre/morespace/University of Cambridge/L65/L65-Mini-Project/rewiring/sdrf/sdrf.py:278: UserWarning: To copy construct from a tensor, it is recommended to use sourceTensor.clone().detach() or sourceTensor.clone().detach().requires_grad_(True), rather than torch.tensor(sourceTensor).\n",
      "  new_edge_index = torch.tensor(new_edge_index)\n",
      "/media/alexandre/morespace/University of Cambridge/L65/L65-Mini-Project/rewiring/sdrf/sdrf.py:278: UserWarning: To copy construct from a tensor, it is recommended to use sourceTensor.clone().detach() or sourceTensor.clone().detach().requires_grad_(True), rather than torch.tensor(sourceTensor).\n",
      "  new_edge_index = torch.tensor(new_edge_index)\n",
      "/media/alexandre/morespace/University of Cambridge/L65/L65-Mini-Project/rewiring/sdrf/sdrf.py:278: UserWarning: To copy construct from a tensor, it is recommended to use sourceTensor.clone().detach() or sourceTensor.clone().detach().requires_grad_(True), rather than torch.tensor(sourceTensor).\n",
      "  new_edge_index = torch.tensor(new_edge_index)\n",
      "  3%|▎         | 6/188 [00:00<00:03, 55.01it/s]"
     ]
    },
    {
     "name": "stdout",
     "output_type": "stream",
     "text": [
      "🔄 Applying SDRF on MUTAG...\n",
      "✅ Rewiring complete! MUTAG now has 20 edges.\n",
      "🔄 Applying SDRF on MUTAG...\n",
      "✅ Rewiring complete! MUTAG now has 15 edges.\n",
      "🔄 Applying SDRF on MUTAG...\n",
      "✅ Rewiring complete! MUTAG now has 15 edges.\n",
      "🔄 Applying SDRF on MUTAG...\n",
      "✅ Rewiring complete! MUTAG now has 23 edges.\n",
      "🔄 Applying SDRF on MUTAG...\n",
      "✅ Rewiring complete! MUTAG now has 12 edges.\n",
      "🔄 Applying SDRF on MUTAG...\n",
      "✅ Rewiring complete! MUTAG now has 32 edges.\n",
      "🔄 Applying SDRF on MUTAG...\n",
      "✅ Rewiring complete! MUTAG now has 17 edges.\n",
      "🔄 Applying SDRF on MUTAG...\n",
      "✅ Rewiring complete! MUTAG now has 22 edges.\n",
      "🔄 Applying SDRF on MUTAG...\n",
      "✅ Rewiring complete! MUTAG now has 14 edges.\n",
      "🔄 Applying SDRF on MUTAG...\n",
      "✅ Rewiring complete! MUTAG now has 19 edges.\n"
     ]
    },
    {
     "name": "stderr",
     "output_type": "stream",
     "text": [
      "/media/alexandre/morespace/University of Cambridge/L65/L65-Mini-Project/rewiring/sdrf/sdrf.py:278: UserWarning: To copy construct from a tensor, it is recommended to use sourceTensor.clone().detach() or sourceTensor.clone().detach().requires_grad_(True), rather than torch.tensor(sourceTensor).\n",
      "  new_edge_index = torch.tensor(new_edge_index)\n",
      "/media/alexandre/morespace/University of Cambridge/L65/L65-Mini-Project/rewiring/sdrf/sdrf.py:278: UserWarning: To copy construct from a tensor, it is recommended to use sourceTensor.clone().detach() or sourceTensor.clone().detach().requires_grad_(True), rather than torch.tensor(sourceTensor).\n",
      "  new_edge_index = torch.tensor(new_edge_index)\n",
      "/media/alexandre/morespace/University of Cambridge/L65/L65-Mini-Project/rewiring/sdrf/sdrf.py:278: UserWarning: To copy construct from a tensor, it is recommended to use sourceTensor.clone().detach() or sourceTensor.clone().detach().requires_grad_(True), rather than torch.tensor(sourceTensor).\n",
      "  new_edge_index = torch.tensor(new_edge_index)\n",
      "/media/alexandre/morespace/University of Cambridge/L65/L65-Mini-Project/rewiring/sdrf/sdrf.py:278: UserWarning: To copy construct from a tensor, it is recommended to use sourceTensor.clone().detach() or sourceTensor.clone().detach().requires_grad_(True), rather than torch.tensor(sourceTensor).\n",
      "  new_edge_index = torch.tensor(new_edge_index)\n",
      "/media/alexandre/morespace/University of Cambridge/L65/L65-Mini-Project/rewiring/sdrf/sdrf.py:278: UserWarning: To copy construct from a tensor, it is recommended to use sourceTensor.clone().detach() or sourceTensor.clone().detach().requires_grad_(True), rather than torch.tensor(sourceTensor).\n",
      "  new_edge_index = torch.tensor(new_edge_index)\n"
     ]
    },
    {
     "name": "stdout",
     "output_type": "stream",
     "text": [
      "🔄 Applying SDRF on MUTAG...\n",
      "✅ Rewiring complete! MUTAG now has 20 edges.\n",
      "🔄 Applying SDRF on MUTAG...\n"
     ]
    },
    {
     "name": "stderr",
     "output_type": "stream",
     "text": [
      "/media/alexandre/morespace/University of Cambridge/L65/L65-Mini-Project/rewiring/sdrf/sdrf.py:278: UserWarning: To copy construct from a tensor, it is recommended to use sourceTensor.clone().detach() or sourceTensor.clone().detach().requires_grad_(True), rather than torch.tensor(sourceTensor).\n",
      "  new_edge_index = torch.tensor(new_edge_index)\n",
      "  6%|▋         | 12/188 [00:00<00:03, 54.91it/s]/media/alexandre/morespace/University of Cambridge/L65/L65-Mini-Project/rewiring/sdrf/sdrf.py:278: UserWarning: To copy construct from a tensor, it is recommended to use sourceTensor.clone().detach() or sourceTensor.clone().detach().requires_grad_(True), rather than torch.tensor(sourceTensor).\n",
      "  new_edge_index = torch.tensor(new_edge_index)\n",
      "/media/alexandre/morespace/University of Cambridge/L65/L65-Mini-Project/rewiring/sdrf/sdrf.py:278: UserWarning: To copy construct from a tensor, it is recommended to use sourceTensor.clone().detach() or sourceTensor.clone().detach().requires_grad_(True), rather than torch.tensor(sourceTensor).\n",
      "  new_edge_index = torch.tensor(new_edge_index)\n",
      "/media/alexandre/morespace/University of Cambridge/L65/L65-Mini-Project/rewiring/sdrf/sdrf.py:278: UserWarning: To copy construct from a tensor, it is recommended to use sourceTensor.clone().detach() or sourceTensor.clone().detach().requires_grad_(True), rather than torch.tensor(sourceTensor).\n",
      "  new_edge_index = torch.tensor(new_edge_index)\n",
      "/media/alexandre/morespace/University of Cambridge/L65/L65-Mini-Project/rewiring/sdrf/sdrf.py:278: UserWarning: To copy construct from a tensor, it is recommended to use sourceTensor.clone().detach() or sourceTensor.clone().detach().requires_grad_(True), rather than torch.tensor(sourceTensor).\n",
      "  new_edge_index = torch.tensor(new_edge_index)\n",
      "/media/alexandre/morespace/University of Cambridge/L65/L65-Mini-Project/rewiring/sdrf/sdrf.py:278: UserWarning: To copy construct from a tensor, it is recommended to use sourceTensor.clone().detach() or sourceTensor.clone().detach().requires_grad_(True), rather than torch.tensor(sourceTensor).\n",
      "  new_edge_index = torch.tensor(new_edge_index)\n",
      "/media/alexandre/morespace/University of Cambridge/L65/L65-Mini-Project/rewiring/sdrf/sdrf.py:278: UserWarning: To copy construct from a tensor, it is recommended to use sourceTensor.clone().detach() or sourceTensor.clone().detach().requires_grad_(True), rather than torch.tensor(sourceTensor).\n",
      "  new_edge_index = torch.tensor(new_edge_index)\n",
      " 10%|▉         | 18/188 [00:00<00:03, 53.05it/s]"
     ]
    },
    {
     "name": "stdout",
     "output_type": "stream",
     "text": [
      "✅ Rewiring complete! MUTAG now has 24 edges.\n",
      "🔄 Applying SDRF on MUTAG...\n",
      "✅ Rewiring complete! MUTAG now has 26 edges.\n",
      "🔄 Applying SDRF on MUTAG...\n",
      "✅ Rewiring complete! MUTAG now has 14 edges.\n",
      "🔄 Applying SDRF on MUTAG...\n",
      "✅ Rewiring complete! MUTAG now has 23 edges.\n",
      "🔄 Applying SDRF on MUTAG...\n",
      "✅ Rewiring complete! MUTAG now has 26 edges.\n",
      "🔄 Applying SDRF on MUTAG...\n",
      "✅ Rewiring complete! MUTAG now has 12 edges.\n",
      "🔄 Applying SDRF on MUTAG...\n",
      "✅ Rewiring complete! MUTAG now has 20 edges.\n",
      "🔄 Applying SDRF on MUTAG...\n",
      "✅ Rewiring complete! MUTAG now has 15 edges.\n",
      "🔄 Applying SDRF on MUTAG...\n",
      "✅ Rewiring complete! MUTAG now has 21 edges.\n",
      "🔄 Applying SDRF on MUTAG...\n"
     ]
    },
    {
     "name": "stderr",
     "output_type": "stream",
     "text": [
      "/media/alexandre/morespace/University of Cambridge/L65/L65-Mini-Project/rewiring/sdrf/sdrf.py:278: UserWarning: To copy construct from a tensor, it is recommended to use sourceTensor.clone().detach() or sourceTensor.clone().detach().requires_grad_(True), rather than torch.tensor(sourceTensor).\n",
      "  new_edge_index = torch.tensor(new_edge_index)\n",
      "/media/alexandre/morespace/University of Cambridge/L65/L65-Mini-Project/rewiring/sdrf/sdrf.py:278: UserWarning: To copy construct from a tensor, it is recommended to use sourceTensor.clone().detach() or sourceTensor.clone().detach().requires_grad_(True), rather than torch.tensor(sourceTensor).\n",
      "  new_edge_index = torch.tensor(new_edge_index)\n",
      "/media/alexandre/morespace/University of Cambridge/L65/L65-Mini-Project/rewiring/sdrf/sdrf.py:278: UserWarning: To copy construct from a tensor, it is recommended to use sourceTensor.clone().detach() or sourceTensor.clone().detach().requires_grad_(True), rather than torch.tensor(sourceTensor).\n",
      "  new_edge_index = torch.tensor(new_edge_index)\n"
     ]
    },
    {
     "name": "stdout",
     "output_type": "stream",
     "text": [
      "✅ Rewiring complete! MUTAG now has 20 edges.\n",
      "🔄 Applying SDRF on MUTAG...\n"
     ]
    },
    {
     "name": "stderr",
     "output_type": "stream",
     "text": [
      "/media/alexandre/morespace/University of Cambridge/L65/L65-Mini-Project/rewiring/sdrf/sdrf.py:278: UserWarning: To copy construct from a tensor, it is recommended to use sourceTensor.clone().detach() or sourceTensor.clone().detach().requires_grad_(True), rather than torch.tensor(sourceTensor).\n",
      "  new_edge_index = torch.tensor(new_edge_index)\n",
      "/media/alexandre/morespace/University of Cambridge/L65/L65-Mini-Project/rewiring/sdrf/sdrf.py:278: UserWarning: To copy construct from a tensor, it is recommended to use sourceTensor.clone().detach() or sourceTensor.clone().detach().requires_grad_(True), rather than torch.tensor(sourceTensor).\n",
      "  new_edge_index = torch.tensor(new_edge_index)\n",
      "/media/alexandre/morespace/University of Cambridge/L65/L65-Mini-Project/rewiring/sdrf/sdrf.py:278: UserWarning: To copy construct from a tensor, it is recommended to use sourceTensor.clone().detach() or sourceTensor.clone().detach().requires_grad_(True), rather than torch.tensor(sourceTensor).\n",
      "  new_edge_index = torch.tensor(new_edge_index)\n",
      " 13%|█▎        | 24/188 [00:00<00:04, 38.21it/s]"
     ]
    },
    {
     "name": "stdout",
     "output_type": "stream",
     "text": [
      "✅ Rewiring complete! MUTAG now has 20 edges.\n",
      "🔄 Applying SDRF on MUTAG...\n",
      "✅ Rewiring complete! MUTAG now has 28 edges.\n",
      "🔄 Applying SDRF on MUTAG...\n",
      "✅ Rewiring complete! MUTAG now has 34 edges.\n",
      "🔄 Applying SDRF on MUTAG...\n",
      "✅ Rewiring complete! MUTAG now has 20 edges.\n"
     ]
    },
    {
     "name": "stderr",
     "output_type": "stream",
     "text": [
      "/media/alexandre/morespace/University of Cambridge/L65/L65-Mini-Project/rewiring/sdrf/sdrf.py:278: UserWarning: To copy construct from a tensor, it is recommended to use sourceTensor.clone().detach() or sourceTensor.clone().detach().requires_grad_(True), rather than torch.tensor(sourceTensor).\n",
      "  new_edge_index = torch.tensor(new_edge_index)\n"
     ]
    },
    {
     "name": "stdout",
     "output_type": "stream",
     "text": [
      "🔄 Applying SDRF on MUTAG...\n"
     ]
    },
    {
     "name": "stderr",
     "output_type": "stream",
     "text": [
      "/media/alexandre/morespace/University of Cambridge/L65/L65-Mini-Project/rewiring/sdrf/sdrf.py:278: UserWarning: To copy construct from a tensor, it is recommended to use sourceTensor.clone().detach() or sourceTensor.clone().detach().requires_grad_(True), rather than torch.tensor(sourceTensor).\n",
      "  new_edge_index = torch.tensor(new_edge_index)\n",
      "/media/alexandre/morespace/University of Cambridge/L65/L65-Mini-Project/rewiring/sdrf/sdrf.py:278: UserWarning: To copy construct from a tensor, it is recommended to use sourceTensor.clone().detach() or sourceTensor.clone().detach().requires_grad_(True), rather than torch.tensor(sourceTensor).\n",
      "  new_edge_index = torch.tensor(new_edge_index)\n",
      "/media/alexandre/morespace/University of Cambridge/L65/L65-Mini-Project/rewiring/sdrf/sdrf.py:278: UserWarning: To copy construct from a tensor, it is recommended to use sourceTensor.clone().detach() or sourceTensor.clone().detach().requires_grad_(True), rather than torch.tensor(sourceTensor).\n",
      "  new_edge_index = torch.tensor(new_edge_index)\n"
     ]
    },
    {
     "name": "stdout",
     "output_type": "stream",
     "text": [
      "✅ Rewiring complete! MUTAG now has 14 edges.\n",
      "🔄 Applying SDRF on MUTAG...\n",
      "✅ Rewiring complete! MUTAG now has 28 edges.\n",
      "🔄 Applying SDRF on MUTAG...\n",
      "✅ Rewiring complete! MUTAG now has 20 edges.\n",
      "🔄 Applying SDRF on MUTAG...\n",
      "✅ Rewiring complete! MUTAG now has 26 edges.\n"
     ]
    },
    {
     "name": "stderr",
     "output_type": "stream",
     "text": [
      "/media/alexandre/morespace/University of Cambridge/L65/L65-Mini-Project/rewiring/sdrf/sdrf.py:278: UserWarning: To copy construct from a tensor, it is recommended to use sourceTensor.clone().detach() or sourceTensor.clone().detach().requires_grad_(True), rather than torch.tensor(sourceTensor).\n",
      "  new_edge_index = torch.tensor(new_edge_index)\n",
      " 15%|█▌        | 29/188 [00:00<00:05, 28.68it/s]/media/alexandre/morespace/University of Cambridge/L65/L65-Mini-Project/rewiring/sdrf/sdrf.py:278: UserWarning: To copy construct from a tensor, it is recommended to use sourceTensor.clone().detach() or sourceTensor.clone().detach().requires_grad_(True), rather than torch.tensor(sourceTensor).\n",
      "  new_edge_index = torch.tensor(new_edge_index)\n",
      "/media/alexandre/morespace/University of Cambridge/L65/L65-Mini-Project/rewiring/sdrf/sdrf.py:278: UserWarning: To copy construct from a tensor, it is recommended to use sourceTensor.clone().detach() or sourceTensor.clone().detach().requires_grad_(True), rather than torch.tensor(sourceTensor).\n",
      "  new_edge_index = torch.tensor(new_edge_index)\n"
     ]
    },
    {
     "name": "stdout",
     "output_type": "stream",
     "text": [
      "🔄 Applying SDRF on MUTAG...\n",
      "✅ Rewiring complete! MUTAG now has 28 edges.\n",
      "🔄 Applying SDRF on MUTAG...\n",
      "✅ Rewiring complete! MUTAG now has 26 edges.\n"
     ]
    },
    {
     "name": "stderr",
     "output_type": "stream",
     "text": [
      "/media/alexandre/morespace/University of Cambridge/L65/L65-Mini-Project/rewiring/sdrf/sdrf.py:278: UserWarning: To copy construct from a tensor, it is recommended to use sourceTensor.clone().detach() or sourceTensor.clone().detach().requires_grad_(True), rather than torch.tensor(sourceTensor).\n",
      "  new_edge_index = torch.tensor(new_edge_index)\n",
      "/media/alexandre/morespace/University of Cambridge/L65/L65-Mini-Project/rewiring/sdrf/sdrf.py:278: UserWarning: To copy construct from a tensor, it is recommended to use sourceTensor.clone().detach() or sourceTensor.clone().detach().requires_grad_(True), rather than torch.tensor(sourceTensor).\n",
      "  new_edge_index = torch.tensor(new_edge_index)\n",
      " 18%|█▊        | 33/188 [00:01<00:08, 18.44it/s]"
     ]
    },
    {
     "name": "stdout",
     "output_type": "stream",
     "text": [
      "🔄 Applying SDRF on MUTAG...\n",
      "✅ Rewiring complete! MUTAG now has 26 edges.\n",
      "🔄 Applying SDRF on MUTAG...\n",
      "✅ Rewiring complete! MUTAG now has 26 edges.\n",
      "🔄 Applying SDRF on MUTAG...\n",
      "✅ Rewiring complete! MUTAG now has 15 edges.\n"
     ]
    },
    {
     "name": "stderr",
     "output_type": "stream",
     "text": [
      "/media/alexandre/morespace/University of Cambridge/L65/L65-Mini-Project/rewiring/sdrf/sdrf.py:278: UserWarning: To copy construct from a tensor, it is recommended to use sourceTensor.clone().detach() or sourceTensor.clone().detach().requires_grad_(True), rather than torch.tensor(sourceTensor).\n",
      "  new_edge_index = torch.tensor(new_edge_index)\n",
      "/media/alexandre/morespace/University of Cambridge/L65/L65-Mini-Project/rewiring/sdrf/sdrf.py:278: UserWarning: To copy construct from a tensor, it is recommended to use sourceTensor.clone().detach() or sourceTensor.clone().detach().requires_grad_(True), rather than torch.tensor(sourceTensor).\n",
      "  new_edge_index = torch.tensor(new_edge_index)\n",
      "/media/alexandre/morespace/University of Cambridge/L65/L65-Mini-Project/rewiring/sdrf/sdrf.py:278: UserWarning: To copy construct from a tensor, it is recommended to use sourceTensor.clone().detach() or sourceTensor.clone().detach().requires_grad_(True), rather than torch.tensor(sourceTensor).\n",
      "  new_edge_index = torch.tensor(new_edge_index)\n",
      " 19%|█▉        | 36/188 [00:01<00:08, 17.93it/s]/media/alexandre/morespace/University of Cambridge/L65/L65-Mini-Project/rewiring/sdrf/sdrf.py:278: UserWarning: To copy construct from a tensor, it is recommended to use sourceTensor.clone().detach() or sourceTensor.clone().detach().requires_grad_(True), rather than torch.tensor(sourceTensor).\n",
      "  new_edge_index = torch.tensor(new_edge_index)\n"
     ]
    },
    {
     "name": "stdout",
     "output_type": "stream",
     "text": [
      "🔄 Applying SDRF on MUTAG...\n",
      "✅ Rewiring complete! MUTAG now has 20 edges.\n",
      "🔄 Applying SDRF on MUTAG...\n",
      "✅ Rewiring complete! MUTAG now has 15 edges.\n",
      "🔄 Applying SDRF on MUTAG...\n",
      "✅ Rewiring complete! MUTAG now has 19 edges.\n"
     ]
    },
    {
     "name": "stderr",
     "output_type": "stream",
     "text": [
      "/media/alexandre/morespace/University of Cambridge/L65/L65-Mini-Project/rewiring/sdrf/sdrf.py:278: UserWarning: To copy construct from a tensor, it is recommended to use sourceTensor.clone().detach() or sourceTensor.clone().detach().requires_grad_(True), rather than torch.tensor(sourceTensor).\n",
      "  new_edge_index = torch.tensor(new_edge_index)\n",
      "/media/alexandre/morespace/University of Cambridge/L65/L65-Mini-Project/rewiring/sdrf/sdrf.py:278: UserWarning: To copy construct from a tensor, it is recommended to use sourceTensor.clone().detach() or sourceTensor.clone().detach().requires_grad_(True), rather than torch.tensor(sourceTensor).\n",
      "  new_edge_index = torch.tensor(new_edge_index)\n",
      " 21%|██        | 39/188 [00:01<00:09, 15.14it/s]"
     ]
    },
    {
     "name": "stdout",
     "output_type": "stream",
     "text": [
      "🔄 Applying SDRF on MUTAG...\n",
      "✅ Rewiring complete! MUTAG now has 17 edges.\n",
      "🔄 Applying SDRF on MUTAG...\n",
      "✅ Rewiring complete! MUTAG now has 16 edges.\n"
     ]
    },
    {
     "name": "stderr",
     "output_type": "stream",
     "text": [
      "/media/alexandre/morespace/University of Cambridge/L65/L65-Mini-Project/rewiring/sdrf/sdrf.py:278: UserWarning: To copy construct from a tensor, it is recommended to use sourceTensor.clone().detach() or sourceTensor.clone().detach().requires_grad_(True), rather than torch.tensor(sourceTensor).\n",
      "  new_edge_index = torch.tensor(new_edge_index)\n",
      "/media/alexandre/morespace/University of Cambridge/L65/L65-Mini-Project/rewiring/sdrf/sdrf.py:278: UserWarning: To copy construct from a tensor, it is recommended to use sourceTensor.clone().detach() or sourceTensor.clone().detach().requires_grad_(True), rather than torch.tensor(sourceTensor).\n",
      "  new_edge_index = torch.tensor(new_edge_index)\n",
      " 22%|██▏       | 41/188 [00:01<00:10, 14.05it/s]"
     ]
    },
    {
     "name": "stdout",
     "output_type": "stream",
     "text": [
      "🔄 Applying SDRF on MUTAG...\n",
      "✅ Rewiring complete! MUTAG now has 15 edges.\n",
      "🔄 Applying SDRF on MUTAG...\n",
      "✅ Rewiring complete! MUTAG now has 20 edges.\n",
      "🔄 Applying SDRF on MUTAG...\n",
      "✅ Rewiring complete! MUTAG now has 14 edges.\n"
     ]
    },
    {
     "name": "stderr",
     "output_type": "stream",
     "text": [
      "/media/alexandre/morespace/University of Cambridge/L65/L65-Mini-Project/rewiring/sdrf/sdrf.py:278: UserWarning: To copy construct from a tensor, it is recommended to use sourceTensor.clone().detach() or sourceTensor.clone().detach().requires_grad_(True), rather than torch.tensor(sourceTensor).\n",
      "  new_edge_index = torch.tensor(new_edge_index)\n",
      "/media/alexandre/morespace/University of Cambridge/L65/L65-Mini-Project/rewiring/sdrf/sdrf.py:278: UserWarning: To copy construct from a tensor, it is recommended to use sourceTensor.clone().detach() or sourceTensor.clone().detach().requires_grad_(True), rather than torch.tensor(sourceTensor).\n",
      "  new_edge_index = torch.tensor(new_edge_index)\n",
      " 23%|██▎       | 43/188 [00:02<00:11, 12.98it/s]"
     ]
    },
    {
     "name": "stdout",
     "output_type": "stream",
     "text": [
      "🔄 Applying SDRF on MUTAG...\n",
      "✅ Rewiring complete! MUTAG now has 23 edges.\n",
      "🔄 Applying SDRF on MUTAG...\n",
      "✅ Rewiring complete! MUTAG now has 20 edges.\n",
      "🔄 Applying SDRF on MUTAG...\n",
      "✅ Rewiring complete! MUTAG now has 13 edges.\n"
     ]
    },
    {
     "name": "stderr",
     "output_type": "stream",
     "text": [
      "/media/alexandre/morespace/University of Cambridge/L65/L65-Mini-Project/rewiring/sdrf/sdrf.py:278: UserWarning: To copy construct from a tensor, it is recommended to use sourceTensor.clone().detach() or sourceTensor.clone().detach().requires_grad_(True), rather than torch.tensor(sourceTensor).\n",
      "  new_edge_index = torch.tensor(new_edge_index)\n",
      "/media/alexandre/morespace/University of Cambridge/L65/L65-Mini-Project/rewiring/sdrf/sdrf.py:278: UserWarning: To copy construct from a tensor, it is recommended to use sourceTensor.clone().detach() or sourceTensor.clone().detach().requires_grad_(True), rather than torch.tensor(sourceTensor).\n",
      "  new_edge_index = torch.tensor(new_edge_index)\n",
      " 24%|██▍       | 45/188 [00:02<00:11, 12.91it/s]/media/alexandre/morespace/University of Cambridge/L65/L65-Mini-Project/rewiring/sdrf/sdrf.py:278: UserWarning: To copy construct from a tensor, it is recommended to use sourceTensor.clone().detach() or sourceTensor.clone().detach().requires_grad_(True), rather than torch.tensor(sourceTensor).\n",
      "  new_edge_index = torch.tensor(new_edge_index)\n",
      "/media/alexandre/morespace/University of Cambridge/L65/L65-Mini-Project/rewiring/sdrf/sdrf.py:278: UserWarning: To copy construct from a tensor, it is recommended to use sourceTensor.clone().detach() or sourceTensor.clone().detach().requires_grad_(True), rather than torch.tensor(sourceTensor).\n",
      "  new_edge_index = torch.tensor(new_edge_index)\n",
      " 25%|██▌       | 47/188 [00:02<00:11, 12.09it/s]"
     ]
    },
    {
     "name": "stdout",
     "output_type": "stream",
     "text": [
      "🔄 Applying SDRF on MUTAG...\n",
      "✅ Rewiring complete! MUTAG now has 28 edges.\n",
      "🔄 Applying SDRF on MUTAG...\n",
      "✅ Rewiring complete! MUTAG now has 26 edges.\n",
      "🔄 Applying SDRF on MUTAG...\n"
     ]
    },
    {
     "name": "stderr",
     "output_type": "stream",
     "text": [
      "/media/alexandre/morespace/University of Cambridge/L65/L65-Mini-Project/rewiring/sdrf/sdrf.py:278: UserWarning: To copy construct from a tensor, it is recommended to use sourceTensor.clone().detach() or sourceTensor.clone().detach().requires_grad_(True), rather than torch.tensor(sourceTensor).\n",
      "  new_edge_index = torch.tensor(new_edge_index)\n",
      "/media/alexandre/morespace/University of Cambridge/L65/L65-Mini-Project/rewiring/sdrf/sdrf.py:278: UserWarning: To copy construct from a tensor, it is recommended to use sourceTensor.clone().detach() or sourceTensor.clone().detach().requires_grad_(True), rather than torch.tensor(sourceTensor).\n",
      "  new_edge_index = torch.tensor(new_edge_index)\n",
      " 26%|██▌       | 49/188 [00:02<00:12, 11.28it/s]"
     ]
    },
    {
     "name": "stdout",
     "output_type": "stream",
     "text": [
      "✅ Rewiring complete! MUTAG now has 20 edges.\n",
      "🔄 Applying SDRF on MUTAG...\n",
      "✅ Rewiring complete! MUTAG now has 23 edges.\n",
      "🔄 Applying SDRF on MUTAG...\n"
     ]
    },
    {
     "name": "stderr",
     "output_type": "stream",
     "text": [
      "/media/alexandre/morespace/University of Cambridge/L65/L65-Mini-Project/rewiring/sdrf/sdrf.py:278: UserWarning: To copy construct from a tensor, it is recommended to use sourceTensor.clone().detach() or sourceTensor.clone().detach().requires_grad_(True), rather than torch.tensor(sourceTensor).\n",
      "  new_edge_index = torch.tensor(new_edge_index)\n",
      "/media/alexandre/morespace/University of Cambridge/L65/L65-Mini-Project/rewiring/sdrf/sdrf.py:278: UserWarning: To copy construct from a tensor, it is recommended to use sourceTensor.clone().detach() or sourceTensor.clone().detach().requires_grad_(True), rather than torch.tensor(sourceTensor).\n",
      "  new_edge_index = torch.tensor(new_edge_index)\n",
      " 27%|██▋       | 51/188 [00:02<00:12, 11.20it/s]"
     ]
    },
    {
     "name": "stdout",
     "output_type": "stream",
     "text": [
      "✅ Rewiring complete! MUTAG now has 18 edges.\n",
      "🔄 Applying SDRF on MUTAG...\n",
      "✅ Rewiring complete! MUTAG now has 31 edges.\n",
      "🔄 Applying SDRF on MUTAG...\n",
      "✅ Rewiring complete! MUTAG now has 31 edges.\n"
     ]
    },
    {
     "name": "stderr",
     "output_type": "stream",
     "text": [
      "/media/alexandre/morespace/University of Cambridge/L65/L65-Mini-Project/rewiring/sdrf/sdrf.py:278: UserWarning: To copy construct from a tensor, it is recommended to use sourceTensor.clone().detach() or sourceTensor.clone().detach().requires_grad_(True), rather than torch.tensor(sourceTensor).\n",
      "  new_edge_index = torch.tensor(new_edge_index)\n",
      "/media/alexandre/morespace/University of Cambridge/L65/L65-Mini-Project/rewiring/sdrf/sdrf.py:278: UserWarning: To copy construct from a tensor, it is recommended to use sourceTensor.clone().detach() or sourceTensor.clone().detach().requires_grad_(True), rather than torch.tensor(sourceTensor).\n",
      "  new_edge_index = torch.tensor(new_edge_index)\n",
      " 28%|██▊       | 53/188 [00:03<00:14,  9.60it/s]"
     ]
    },
    {
     "name": "stdout",
     "output_type": "stream",
     "text": [
      "🔄 Applying SDRF on MUTAG...\n",
      "✅ Rewiring complete! MUTAG now has 22 edges.\n",
      "🔄 Applying SDRF on MUTAG...\n",
      "✅ Rewiring complete! MUTAG now has 22 edges.\n"
     ]
    },
    {
     "name": "stderr",
     "output_type": "stream",
     "text": [
      "/media/alexandre/morespace/University of Cambridge/L65/L65-Mini-Project/rewiring/sdrf/sdrf.py:278: UserWarning: To copy construct from a tensor, it is recommended to use sourceTensor.clone().detach() or sourceTensor.clone().detach().requires_grad_(True), rather than torch.tensor(sourceTensor).\n",
      "  new_edge_index = torch.tensor(new_edge_index)\n",
      "/media/alexandre/morespace/University of Cambridge/L65/L65-Mini-Project/rewiring/sdrf/sdrf.py:278: UserWarning: To copy construct from a tensor, it is recommended to use sourceTensor.clone().detach() or sourceTensor.clone().detach().requires_grad_(True), rather than torch.tensor(sourceTensor).\n",
      "  new_edge_index = torch.tensor(new_edge_index)\n",
      " 29%|██▉       | 55/188 [00:03<00:13,  9.90it/s]/media/alexandre/morespace/University of Cambridge/L65/L65-Mini-Project/rewiring/sdrf/sdrf.py:278: UserWarning: To copy construct from a tensor, it is recommended to use sourceTensor.clone().detach() or sourceTensor.clone().detach().requires_grad_(True), rather than torch.tensor(sourceTensor).\n",
      "  new_edge_index = torch.tensor(new_edge_index)\n"
     ]
    },
    {
     "name": "stdout",
     "output_type": "stream",
     "text": [
      "🔄 Applying SDRF on MUTAG...\n",
      "✅ Rewiring complete! MUTAG now has 15 edges.\n",
      "🔄 Applying SDRF on MUTAG...\n",
      "✅ Rewiring complete! MUTAG now has 20 edges.\n",
      "🔄 Applying SDRF on MUTAG...\n",
      "✅ Rewiring complete! MUTAG now has 23 edges.\n"
     ]
    },
    {
     "name": "stderr",
     "output_type": "stream",
     "text": [
      "/media/alexandre/morespace/University of Cambridge/L65/L65-Mini-Project/rewiring/sdrf/sdrf.py:278: UserWarning: To copy construct from a tensor, it is recommended to use sourceTensor.clone().detach() or sourceTensor.clone().detach().requires_grad_(True), rather than torch.tensor(sourceTensor).\n",
      "  new_edge_index = torch.tensor(new_edge_index)\n",
      " 30%|███       | 57/188 [00:03<00:12, 10.21it/s]/media/alexandre/morespace/University of Cambridge/L65/L65-Mini-Project/rewiring/sdrf/sdrf.py:278: UserWarning: To copy construct from a tensor, it is recommended to use sourceTensor.clone().detach() or sourceTensor.clone().detach().requires_grad_(True), rather than torch.tensor(sourceTensor).\n",
      "  new_edge_index = torch.tensor(new_edge_index)\n",
      "/media/alexandre/morespace/University of Cambridge/L65/L65-Mini-Project/rewiring/sdrf/sdrf.py:278: UserWarning: To copy construct from a tensor, it is recommended to use sourceTensor.clone().detach() or sourceTensor.clone().detach().requires_grad_(True), rather than torch.tensor(sourceTensor).\n",
      "  new_edge_index = torch.tensor(new_edge_index)\n",
      " 31%|███▏      | 59/188 [00:03<00:12, 10.08it/s]"
     ]
    },
    {
     "name": "stdout",
     "output_type": "stream",
     "text": [
      "🔄 Applying SDRF on MUTAG...\n",
      "✅ Rewiring complete! MUTAG now has 30 edges.\n",
      "🔄 Applying SDRF on MUTAG...\n",
      "✅ Rewiring complete! MUTAG now has 28 edges.\n",
      "🔄 Applying SDRF on MUTAG...\n"
     ]
    },
    {
     "name": "stderr",
     "output_type": "stream",
     "text": [
      "/media/alexandre/morespace/University of Cambridge/L65/L65-Mini-Project/rewiring/sdrf/sdrf.py:278: UserWarning: To copy construct from a tensor, it is recommended to use sourceTensor.clone().detach() or sourceTensor.clone().detach().requires_grad_(True), rather than torch.tensor(sourceTensor).\n",
      "  new_edge_index = torch.tensor(new_edge_index)\n",
      "/media/alexandre/morespace/University of Cambridge/L65/L65-Mini-Project/rewiring/sdrf/sdrf.py:278: UserWarning: To copy construct from a tensor, it is recommended to use sourceTensor.clone().detach() or sourceTensor.clone().detach().requires_grad_(True), rather than torch.tensor(sourceTensor).\n",
      "  new_edge_index = torch.tensor(new_edge_index)\n",
      " 32%|███▏      | 61/188 [00:03<00:11, 10.91it/s]/media/alexandre/morespace/University of Cambridge/L65/L65-Mini-Project/rewiring/sdrf/sdrf.py:278: UserWarning: To copy construct from a tensor, it is recommended to use sourceTensor.clone().detach() or sourceTensor.clone().detach().requires_grad_(True), rather than torch.tensor(sourceTensor).\n",
      "  new_edge_index = torch.tensor(new_edge_index)\n",
      "/media/alexandre/morespace/University of Cambridge/L65/L65-Mini-Project/rewiring/sdrf/sdrf.py:278: UserWarning: To copy construct from a tensor, it is recommended to use sourceTensor.clone().detach() or sourceTensor.clone().detach().requires_grad_(True), rather than torch.tensor(sourceTensor).\n",
      "  new_edge_index = torch.tensor(new_edge_index)\n"
     ]
    },
    {
     "name": "stdout",
     "output_type": "stream",
     "text": [
      "✅ Rewiring complete! MUTAG now has 21 edges.\n",
      "🔄 Applying SDRF on MUTAG...\n",
      "✅ Rewiring complete! MUTAG now has 20 edges.\n",
      "🔄 Applying SDRF on MUTAG...\n",
      "✅ Rewiring complete! MUTAG now has 12 edges.\n",
      "🔄 Applying SDRF on MUTAG...\n",
      "✅ Rewiring complete! MUTAG now has 25 edges.\n"
     ]
    },
    {
     "name": "stderr",
     "output_type": "stream",
     "text": [
      " 34%|███▎      | 63/188 [00:03<00:10, 12.05it/s]/media/alexandre/morespace/University of Cambridge/L65/L65-Mini-Project/rewiring/sdrf/sdrf.py:278: UserWarning: To copy construct from a tensor, it is recommended to use sourceTensor.clone().detach() or sourceTensor.clone().detach().requires_grad_(True), rather than torch.tensor(sourceTensor).\n",
      "  new_edge_index = torch.tensor(new_edge_index)\n",
      "/media/alexandre/morespace/University of Cambridge/L65/L65-Mini-Project/rewiring/sdrf/sdrf.py:278: UserWarning: To copy construct from a tensor, it is recommended to use sourceTensor.clone().detach() or sourceTensor.clone().detach().requires_grad_(True), rather than torch.tensor(sourceTensor).\n",
      "  new_edge_index = torch.tensor(new_edge_index)\n",
      " 35%|███▍      | 65/188 [00:04<00:09, 12.64it/s]/media/alexandre/morespace/University of Cambridge/L65/L65-Mini-Project/rewiring/sdrf/sdrf.py:278: UserWarning: To copy construct from a tensor, it is recommended to use sourceTensor.clone().detach() or sourceTensor.clone().detach().requires_grad_(True), rather than torch.tensor(sourceTensor).\n",
      "  new_edge_index = torch.tensor(new_edge_index)\n"
     ]
    },
    {
     "name": "stdout",
     "output_type": "stream",
     "text": [
      "🔄 Applying SDRF on MUTAG...\n",
      "✅ Rewiring complete! MUTAG now has 23 edges.\n",
      "🔄 Applying SDRF on MUTAG...\n",
      "✅ Rewiring complete! MUTAG now has 18 edges.\n",
      "🔄 Applying SDRF on MUTAG...\n",
      "✅ Rewiring complete! MUTAG now has 18 edges.\n"
     ]
    },
    {
     "name": "stderr",
     "output_type": "stream",
     "text": [
      "/media/alexandre/morespace/University of Cambridge/L65/L65-Mini-Project/rewiring/sdrf/sdrf.py:278: UserWarning: To copy construct from a tensor, it is recommended to use sourceTensor.clone().detach() or sourceTensor.clone().detach().requires_grad_(True), rather than torch.tensor(sourceTensor).\n",
      "  new_edge_index = torch.tensor(new_edge_index)\n",
      " 36%|███▌      | 67/188 [00:04<00:09, 12.98it/s]/media/alexandre/morespace/University of Cambridge/L65/L65-Mini-Project/rewiring/sdrf/sdrf.py:278: UserWarning: To copy construct from a tensor, it is recommended to use sourceTensor.clone().detach() or sourceTensor.clone().detach().requires_grad_(True), rather than torch.tensor(sourceTensor).\n",
      "  new_edge_index = torch.tensor(new_edge_index)\n"
     ]
    },
    {
     "name": "stdout",
     "output_type": "stream",
     "text": [
      "🔄 Applying SDRF on MUTAG...\n",
      "✅ Rewiring complete! MUTAG now has 24 edges.\n",
      "🔄 Applying SDRF on MUTAG...\n",
      "✅ Rewiring complete! MUTAG now has 28 edges.\n",
      "🔄 Applying SDRF on MUTAG...\n",
      "✅ Rewiring complete! MUTAG now has 22 edges.\n"
     ]
    },
    {
     "name": "stderr",
     "output_type": "stream",
     "text": [
      "/media/alexandre/morespace/University of Cambridge/L65/L65-Mini-Project/rewiring/sdrf/sdrf.py:278: UserWarning: To copy construct from a tensor, it is recommended to use sourceTensor.clone().detach() or sourceTensor.clone().detach().requires_grad_(True), rather than torch.tensor(sourceTensor).\n",
      "  new_edge_index = torch.tensor(new_edge_index)\n",
      " 37%|███▋      | 69/188 [00:04<00:09, 12.13it/s]/media/alexandre/morespace/University of Cambridge/L65/L65-Mini-Project/rewiring/sdrf/sdrf.py:278: UserWarning: To copy construct from a tensor, it is recommended to use sourceTensor.clone().detach() or sourceTensor.clone().detach().requires_grad_(True), rather than torch.tensor(sourceTensor).\n",
      "  new_edge_index = torch.tensor(new_edge_index)\n",
      "/media/alexandre/morespace/University of Cambridge/L65/L65-Mini-Project/rewiring/sdrf/sdrf.py:278: UserWarning: To copy construct from a tensor, it is recommended to use sourceTensor.clone().detach() or sourceTensor.clone().detach().requires_grad_(True), rather than torch.tensor(sourceTensor).\n",
      "  new_edge_index = torch.tensor(new_edge_index)\n"
     ]
    },
    {
     "name": "stdout",
     "output_type": "stream",
     "text": [
      "🔄 Applying SDRF on MUTAG...\n",
      "✅ Rewiring complete! MUTAG now has 16 edges.\n",
      "🔄 Applying SDRF on MUTAG...\n",
      "✅ Rewiring complete! MUTAG now has 31 edges.\n"
     ]
    },
    {
     "name": "stderr",
     "output_type": "stream",
     "text": [
      " 38%|███▊      | 71/188 [00:04<00:11, 10.42it/s]/media/alexandre/morespace/University of Cambridge/L65/L65-Mini-Project/rewiring/sdrf/sdrf.py:278: UserWarning: To copy construct from a tensor, it is recommended to use sourceTensor.clone().detach() or sourceTensor.clone().detach().requires_grad_(True), rather than torch.tensor(sourceTensor).\n",
      "  new_edge_index = torch.tensor(new_edge_index)\n",
      "/media/alexandre/morespace/University of Cambridge/L65/L65-Mini-Project/rewiring/sdrf/sdrf.py:278: UserWarning: To copy construct from a tensor, it is recommended to use sourceTensor.clone().detach() or sourceTensor.clone().detach().requires_grad_(True), rather than torch.tensor(sourceTensor).\n",
      "  new_edge_index = torch.tensor(new_edge_index)\n",
      " 39%|███▉      | 73/188 [00:04<00:10, 11.38it/s]/media/alexandre/morespace/University of Cambridge/L65/L65-Mini-Project/rewiring/sdrf/sdrf.py:278: UserWarning: To copy construct from a tensor, it is recommended to use sourceTensor.clone().detach() or sourceTensor.clone().detach().requires_grad_(True), rather than torch.tensor(sourceTensor).\n",
      "  new_edge_index = torch.tensor(new_edge_index)\n"
     ]
    },
    {
     "name": "stdout",
     "output_type": "stream",
     "text": [
      "🔄 Applying SDRF on MUTAG...\n",
      "✅ Rewiring complete! MUTAG now has 19 edges.\n",
      "🔄 Applying SDRF on MUTAG...\n",
      "✅ Rewiring complete! MUTAG now has 18 edges.\n",
      "🔄 Applying SDRF on MUTAG...\n",
      "✅ Rewiring complete! MUTAG now has 28 edges.\n"
     ]
    },
    {
     "name": "stderr",
     "output_type": "stream",
     "text": [
      "/media/alexandre/morespace/University of Cambridge/L65/L65-Mini-Project/rewiring/sdrf/sdrf.py:278: UserWarning: To copy construct from a tensor, it is recommended to use sourceTensor.clone().detach() or sourceTensor.clone().detach().requires_grad_(True), rather than torch.tensor(sourceTensor).\n",
      "  new_edge_index = torch.tensor(new_edge_index)\n",
      " 40%|███▉      | 75/188 [00:05<00:10, 11.25it/s]/media/alexandre/morespace/University of Cambridge/L65/L65-Mini-Project/rewiring/sdrf/sdrf.py:278: UserWarning: To copy construct from a tensor, it is recommended to use sourceTensor.clone().detach() or sourceTensor.clone().detach().requires_grad_(True), rather than torch.tensor(sourceTensor).\n",
      "  new_edge_index = torch.tensor(new_edge_index)\n"
     ]
    },
    {
     "name": "stdout",
     "output_type": "stream",
     "text": [
      "🔄 Applying SDRF on MUTAG...\n",
      "✅ Rewiring complete! MUTAG now has 20 edges.\n",
      "🔄 Applying SDRF on MUTAG...\n",
      "✅ Rewiring complete! MUTAG now has 11 edges.\n",
      "🔄 Applying SDRF on MUTAG...\n",
      "✅ Rewiring complete! MUTAG now has 18 edges.\n"
     ]
    },
    {
     "name": "stderr",
     "output_type": "stream",
     "text": [
      "/media/alexandre/morespace/University of Cambridge/L65/L65-Mini-Project/rewiring/sdrf/sdrf.py:278: UserWarning: To copy construct from a tensor, it is recommended to use sourceTensor.clone().detach() or sourceTensor.clone().detach().requires_grad_(True), rather than torch.tensor(sourceTensor).\n",
      "  new_edge_index = torch.tensor(new_edge_index)\n",
      " 41%|████      | 77/188 [00:05<00:09, 11.83it/s]/media/alexandre/morespace/University of Cambridge/L65/L65-Mini-Project/rewiring/sdrf/sdrf.py:278: UserWarning: To copy construct from a tensor, it is recommended to use sourceTensor.clone().detach() or sourceTensor.clone().detach().requires_grad_(True), rather than torch.tensor(sourceTensor).\n",
      "  new_edge_index = torch.tensor(new_edge_index)\n",
      "/media/alexandre/morespace/University of Cambridge/L65/L65-Mini-Project/rewiring/sdrf/sdrf.py:278: UserWarning: To copy construct from a tensor, it is recommended to use sourceTensor.clone().detach() or sourceTensor.clone().detach().requires_grad_(True), rather than torch.tensor(sourceTensor).\n",
      "  new_edge_index = torch.tensor(new_edge_index)\n",
      " 42%|████▏     | 79/188 [00:05<00:09, 11.39it/s]"
     ]
    },
    {
     "name": "stdout",
     "output_type": "stream",
     "text": [
      "🔄 Applying SDRF on MUTAG...\n",
      "✅ Rewiring complete! MUTAG now has 17 edges.\n",
      "🔄 Applying SDRF on MUTAG...\n",
      "✅ Rewiring complete! MUTAG now has 20 edges.\n",
      "🔄 Applying SDRF on MUTAG...\n"
     ]
    },
    {
     "name": "stderr",
     "output_type": "stream",
     "text": [
      "/media/alexandre/morespace/University of Cambridge/L65/L65-Mini-Project/rewiring/sdrf/sdrf.py:278: UserWarning: To copy construct from a tensor, it is recommended to use sourceTensor.clone().detach() or sourceTensor.clone().detach().requires_grad_(True), rather than torch.tensor(sourceTensor).\n",
      "  new_edge_index = torch.tensor(new_edge_index)\n",
      "/media/alexandre/morespace/University of Cambridge/L65/L65-Mini-Project/rewiring/sdrf/sdrf.py:278: UserWarning: To copy construct from a tensor, it is recommended to use sourceTensor.clone().detach() or sourceTensor.clone().detach().requires_grad_(True), rather than torch.tensor(sourceTensor).\n",
      "  new_edge_index = torch.tensor(new_edge_index)\n",
      " 43%|████▎     | 81/188 [00:05<00:09, 11.67it/s]/media/alexandre/morespace/University of Cambridge/L65/L65-Mini-Project/rewiring/sdrf/sdrf.py:278: UserWarning: To copy construct from a tensor, it is recommended to use sourceTensor.clone().detach() or sourceTensor.clone().detach().requires_grad_(True), rather than torch.tensor(sourceTensor).\n",
      "  new_edge_index = torch.tensor(new_edge_index)\n"
     ]
    },
    {
     "name": "stdout",
     "output_type": "stream",
     "text": [
      "✅ Rewiring complete! MUTAG now has 23 edges.\n",
      "🔄 Applying SDRF on MUTAG...\n",
      "✅ Rewiring complete! MUTAG now has 13 edges.\n",
      "🔄 Applying SDRF on MUTAG...\n",
      "✅ Rewiring complete! MUTAG now has 29 edges.\n"
     ]
    },
    {
     "name": "stderr",
     "output_type": "stream",
     "text": [
      "/media/alexandre/morespace/University of Cambridge/L65/L65-Mini-Project/rewiring/sdrf/sdrf.py:278: UserWarning: To copy construct from a tensor, it is recommended to use sourceTensor.clone().detach() or sourceTensor.clone().detach().requires_grad_(True), rather than torch.tensor(sourceTensor).\n",
      "  new_edge_index = torch.tensor(new_edge_index)\n",
      " 44%|████▍     | 83/188 [00:05<00:08, 11.88it/s]/media/alexandre/morespace/University of Cambridge/L65/L65-Mini-Project/rewiring/sdrf/sdrf.py:278: UserWarning: To copy construct from a tensor, it is recommended to use sourceTensor.clone().detach() or sourceTensor.clone().detach().requires_grad_(True), rather than torch.tensor(sourceTensor).\n",
      "  new_edge_index = torch.tensor(new_edge_index)\n",
      "/media/alexandre/morespace/University of Cambridge/L65/L65-Mini-Project/rewiring/sdrf/sdrf.py:278: UserWarning: To copy construct from a tensor, it is recommended to use sourceTensor.clone().detach() or sourceTensor.clone().detach().requires_grad_(True), rather than torch.tensor(sourceTensor).\n",
      "  new_edge_index = torch.tensor(new_edge_index)\n",
      " 45%|████▌     | 85/188 [00:05<00:08, 12.39it/s]"
     ]
    },
    {
     "name": "stdout",
     "output_type": "stream",
     "text": [
      "🔄 Applying SDRF on MUTAG...\n",
      "✅ Rewiring complete! MUTAG now has 19 edges.\n",
      "🔄 Applying SDRF on MUTAG...\n",
      "✅ Rewiring complete! MUTAG now has 11 edges.\n",
      "🔄 Applying SDRF on MUTAG...\n",
      "✅ Rewiring complete! MUTAG now has 28 edges.\n"
     ]
    },
    {
     "name": "stderr",
     "output_type": "stream",
     "text": [
      "/media/alexandre/morespace/University of Cambridge/L65/L65-Mini-Project/rewiring/sdrf/sdrf.py:278: UserWarning: To copy construct from a tensor, it is recommended to use sourceTensor.clone().detach() or sourceTensor.clone().detach().requires_grad_(True), rather than torch.tensor(sourceTensor).\n",
      "  new_edge_index = torch.tensor(new_edge_index)\n",
      "/media/alexandre/morespace/University of Cambridge/L65/L65-Mini-Project/rewiring/sdrf/sdrf.py:278: UserWarning: To copy construct from a tensor, it is recommended to use sourceTensor.clone().detach() or sourceTensor.clone().detach().requires_grad_(True), rather than torch.tensor(sourceTensor).\n",
      "  new_edge_index = torch.tensor(new_edge_index)\n",
      " 46%|████▋     | 87/188 [00:06<00:08, 12.13it/s]"
     ]
    },
    {
     "name": "stdout",
     "output_type": "stream",
     "text": [
      "🔄 Applying SDRF on MUTAG...\n",
      "✅ Rewiring complete! MUTAG now has 28 edges.\n",
      "🔄 Applying SDRF on MUTAG...\n",
      "✅ Rewiring complete! MUTAG now has 19 edges.\n",
      "🔄 Applying SDRF on MUTAG...\n",
      "✅ Rewiring complete! MUTAG now has 12 edges.\n"
     ]
    },
    {
     "name": "stderr",
     "output_type": "stream",
     "text": [
      "/media/alexandre/morespace/University of Cambridge/L65/L65-Mini-Project/rewiring/sdrf/sdrf.py:278: UserWarning: To copy construct from a tensor, it is recommended to use sourceTensor.clone().detach() or sourceTensor.clone().detach().requires_grad_(True), rather than torch.tensor(sourceTensor).\n",
      "  new_edge_index = torch.tensor(new_edge_index)\n",
      "/media/alexandre/morespace/University of Cambridge/L65/L65-Mini-Project/rewiring/sdrf/sdrf.py:278: UserWarning: To copy construct from a tensor, it is recommended to use sourceTensor.clone().detach() or sourceTensor.clone().detach().requires_grad_(True), rather than torch.tensor(sourceTensor).\n",
      "  new_edge_index = torch.tensor(new_edge_index)\n",
      " 47%|████▋     | 89/188 [00:06<00:07, 13.15it/s]/media/alexandre/morespace/University of Cambridge/L65/L65-Mini-Project/rewiring/sdrf/sdrf.py:278: UserWarning: To copy construct from a tensor, it is recommended to use sourceTensor.clone().detach() or sourceTensor.clone().detach().requires_grad_(True), rather than torch.tensor(sourceTensor).\n",
      "  new_edge_index = torch.tensor(new_edge_index)\n"
     ]
    },
    {
     "name": "stdout",
     "output_type": "stream",
     "text": [
      "🔄 Applying SDRF on MUTAG...\n",
      "✅ Rewiring complete! MUTAG now has 14 edges.\n",
      "🔄 Applying SDRF on MUTAG...\n",
      "✅ Rewiring complete! MUTAG now has 28 edges.\n",
      "🔄 Applying SDRF on MUTAG...\n",
      "✅ Rewiring complete! MUTAG now has 30 edges.\n"
     ]
    },
    {
     "name": "stderr",
     "output_type": "stream",
     "text": [
      "/media/alexandre/morespace/University of Cambridge/L65/L65-Mini-Project/rewiring/sdrf/sdrf.py:278: UserWarning: To copy construct from a tensor, it is recommended to use sourceTensor.clone().detach() or sourceTensor.clone().detach().requires_grad_(True), rather than torch.tensor(sourceTensor).\n",
      "  new_edge_index = torch.tensor(new_edge_index)\n",
      " 48%|████▊     | 91/188 [00:06<00:07, 12.22it/s]/media/alexandre/morespace/University of Cambridge/L65/L65-Mini-Project/rewiring/sdrf/sdrf.py:278: UserWarning: To copy construct from a tensor, it is recommended to use sourceTensor.clone().detach() or sourceTensor.clone().detach().requires_grad_(True), rather than torch.tensor(sourceTensor).\n",
      "  new_edge_index = torch.tensor(new_edge_index)\n",
      "/media/alexandre/morespace/University of Cambridge/L65/L65-Mini-Project/rewiring/sdrf/sdrf.py:278: UserWarning: To copy construct from a tensor, it is recommended to use sourceTensor.clone().detach() or sourceTensor.clone().detach().requires_grad_(True), rather than torch.tensor(sourceTensor).\n",
      "  new_edge_index = torch.tensor(new_edge_index)\n",
      " 49%|████▉     | 93/188 [00:06<00:07, 12.31it/s]"
     ]
    },
    {
     "name": "stdout",
     "output_type": "stream",
     "text": [
      "🔄 Applying SDRF on MUTAG...\n",
      "✅ Rewiring complete! MUTAG now has 23 edges.\n",
      "🔄 Applying SDRF on MUTAG...\n",
      "✅ Rewiring complete! MUTAG now has 28 edges.\n",
      "🔄 Applying SDRF on MUTAG...\n",
      "✅ Rewiring complete! MUTAG now has 23 edges.\n"
     ]
    },
    {
     "name": "stderr",
     "output_type": "stream",
     "text": [
      "/media/alexandre/morespace/University of Cambridge/L65/L65-Mini-Project/rewiring/sdrf/sdrf.py:278: UserWarning: To copy construct from a tensor, it is recommended to use sourceTensor.clone().detach() or sourceTensor.clone().detach().requires_grad_(True), rather than torch.tensor(sourceTensor).\n",
      "  new_edge_index = torch.tensor(new_edge_index)\n",
      "/media/alexandre/morespace/University of Cambridge/L65/L65-Mini-Project/rewiring/sdrf/sdrf.py:278: UserWarning: To copy construct from a tensor, it is recommended to use sourceTensor.clone().detach() or sourceTensor.clone().detach().requires_grad_(True), rather than torch.tensor(sourceTensor).\n",
      "  new_edge_index = torch.tensor(new_edge_index)\n",
      " 51%|█████     | 95/188 [00:06<00:07, 12.86it/s]/media/alexandre/morespace/University of Cambridge/L65/L65-Mini-Project/rewiring/sdrf/sdrf.py:278: UserWarning: To copy construct from a tensor, it is recommended to use sourceTensor.clone().detach() or sourceTensor.clone().detach().requires_grad_(True), rather than torch.tensor(sourceTensor).\n",
      "  new_edge_index = torch.tensor(new_edge_index)\n"
     ]
    },
    {
     "name": "stdout",
     "output_type": "stream",
     "text": [
      "🔄 Applying SDRF on MUTAG...\n",
      "✅ Rewiring complete! MUTAG now has 21 edges.\n",
      "🔄 Applying SDRF on MUTAG...\n",
      "✅ Rewiring complete! MUTAG now has 29 edges.\n",
      "🔄 Applying SDRF on MUTAG...\n",
      "✅ Rewiring complete! MUTAG now has 20 edges.\n"
     ]
    },
    {
     "name": "stderr",
     "output_type": "stream",
     "text": [
      "/media/alexandre/morespace/University of Cambridge/L65/L65-Mini-Project/rewiring/sdrf/sdrf.py:278: UserWarning: To copy construct from a tensor, it is recommended to use sourceTensor.clone().detach() or sourceTensor.clone().detach().requires_grad_(True), rather than torch.tensor(sourceTensor).\n",
      "  new_edge_index = torch.tensor(new_edge_index)\n",
      " 52%|█████▏    | 97/188 [00:06<00:07, 12.29it/s]/media/alexandre/morespace/University of Cambridge/L65/L65-Mini-Project/rewiring/sdrf/sdrf.py:278: UserWarning: To copy construct from a tensor, it is recommended to use sourceTensor.clone().detach() or sourceTensor.clone().detach().requires_grad_(True), rather than torch.tensor(sourceTensor).\n",
      "  new_edge_index = torch.tensor(new_edge_index)\n",
      "/media/alexandre/morespace/University of Cambridge/L65/L65-Mini-Project/rewiring/sdrf/sdrf.py:278: UserWarning: To copy construct from a tensor, it is recommended to use sourceTensor.clone().detach() or sourceTensor.clone().detach().requires_grad_(True), rather than torch.tensor(sourceTensor).\n",
      "  new_edge_index = torch.tensor(new_edge_index)\n",
      " 53%|█████▎    | 99/188 [00:06<00:06, 12.94it/s]/media/alexandre/morespace/University of Cambridge/L65/L65-Mini-Project/rewiring/sdrf/sdrf.py:278: UserWarning: To copy construct from a tensor, it is recommended to use sourceTensor.clone().detach() or sourceTensor.clone().detach().requires_grad_(True), rather than torch.tensor(sourceTensor).\n",
      "  new_edge_index = torch.tensor(new_edge_index)\n"
     ]
    },
    {
     "name": "stdout",
     "output_type": "stream",
     "text": [
      "🔄 Applying SDRF on MUTAG...\n",
      "✅ Rewiring complete! MUTAG now has 15 edges.\n",
      "🔄 Applying SDRF on MUTAG...\n",
      "✅ Rewiring complete! MUTAG now has 18 edges.\n",
      "🔄 Applying SDRF on MUTAG...\n",
      "✅ Rewiring complete! MUTAG now has 18 edges.\n",
      "🔄 Applying SDRF on MUTAG...\n"
     ]
    },
    {
     "name": "stderr",
     "output_type": "stream",
     "text": [
      "/media/alexandre/morespace/University of Cambridge/L65/L65-Mini-Project/rewiring/sdrf/sdrf.py:278: UserWarning: To copy construct from a tensor, it is recommended to use sourceTensor.clone().detach() or sourceTensor.clone().detach().requires_grad_(True), rather than torch.tensor(sourceTensor).\n",
      "  new_edge_index = torch.tensor(new_edge_index)\n",
      " 54%|█████▎    | 101/188 [00:07<00:06, 12.54it/s]/media/alexandre/morespace/University of Cambridge/L65/L65-Mini-Project/rewiring/sdrf/sdrf.py:278: UserWarning: To copy construct from a tensor, it is recommended to use sourceTensor.clone().detach() or sourceTensor.clone().detach().requires_grad_(True), rather than torch.tensor(sourceTensor).\n",
      "  new_edge_index = torch.tensor(new_edge_index)\n"
     ]
    },
    {
     "name": "stdout",
     "output_type": "stream",
     "text": [
      "✅ Rewiring complete! MUTAG now has 28 edges.\n",
      "🔄 Applying SDRF on MUTAG...\n",
      "✅ Rewiring complete! MUTAG now has 29 edges.\n"
     ]
    },
    {
     "name": "stderr",
     "output_type": "stream",
     "text": [
      "/media/alexandre/morespace/University of Cambridge/L65/L65-Mini-Project/rewiring/sdrf/sdrf.py:278: UserWarning: To copy construct from a tensor, it is recommended to use sourceTensor.clone().detach() or sourceTensor.clone().detach().requires_grad_(True), rather than torch.tensor(sourceTensor).\n",
      "  new_edge_index = torch.tensor(new_edge_index)\n",
      " 55%|█████▍    | 103/188 [00:07<00:08, 10.05it/s]"
     ]
    },
    {
     "name": "stdout",
     "output_type": "stream",
     "text": [
      "🔄 Applying SDRF on MUTAG...\n",
      "✅ Rewiring complete! MUTAG now has 23 edges.\n",
      "🔄 Applying SDRF on MUTAG...\n",
      "✅ Rewiring complete! MUTAG now has 28 edges.\n"
     ]
    },
    {
     "name": "stderr",
     "output_type": "stream",
     "text": [
      "/media/alexandre/morespace/University of Cambridge/L65/L65-Mini-Project/rewiring/sdrf/sdrf.py:278: UserWarning: To copy construct from a tensor, it is recommended to use sourceTensor.clone().detach() or sourceTensor.clone().detach().requires_grad_(True), rather than torch.tensor(sourceTensor).\n",
      "  new_edge_index = torch.tensor(new_edge_index)\n",
      "/media/alexandre/morespace/University of Cambridge/L65/L65-Mini-Project/rewiring/sdrf/sdrf.py:278: UserWarning: To copy construct from a tensor, it is recommended to use sourceTensor.clone().detach() or sourceTensor.clone().detach().requires_grad_(True), rather than torch.tensor(sourceTensor).\n",
      "  new_edge_index = torch.tensor(new_edge_index)\n",
      " 56%|█████▌    | 105/188 [00:07<00:08, 10.12it/s]/media/alexandre/morespace/University of Cambridge/L65/L65-Mini-Project/rewiring/sdrf/sdrf.py:278: UserWarning: To copy construct from a tensor, it is recommended to use sourceTensor.clone().detach() or sourceTensor.clone().detach().requires_grad_(True), rather than torch.tensor(sourceTensor).\n",
      "  new_edge_index = torch.tensor(new_edge_index)\n"
     ]
    },
    {
     "name": "stdout",
     "output_type": "stream",
     "text": [
      "🔄 Applying SDRF on MUTAG...\n",
      "✅ Rewiring complete! MUTAG now has 20 edges.\n",
      "🔄 Applying SDRF on MUTAG...\n",
      "✅ Rewiring complete! MUTAG now has 24 edges.\n",
      "🔄 Applying SDRF on MUTAG...\n",
      "✅ Rewiring complete! MUTAG now has 29 edges.\n"
     ]
    },
    {
     "name": "stderr",
     "output_type": "stream",
     "text": [
      "/media/alexandre/morespace/University of Cambridge/L65/L65-Mini-Project/rewiring/sdrf/sdrf.py:278: UserWarning: To copy construct from a tensor, it is recommended to use sourceTensor.clone().detach() or sourceTensor.clone().detach().requires_grad_(True), rather than torch.tensor(sourceTensor).\n",
      "  new_edge_index = torch.tensor(new_edge_index)\n",
      " 57%|█████▋    | 107/188 [00:07<00:07, 10.58it/s]/media/alexandre/morespace/University of Cambridge/L65/L65-Mini-Project/rewiring/sdrf/sdrf.py:278: UserWarning: To copy construct from a tensor, it is recommended to use sourceTensor.clone().detach() or sourceTensor.clone().detach().requires_grad_(True), rather than torch.tensor(sourceTensor).\n",
      "  new_edge_index = torch.tensor(new_edge_index)\n",
      "/media/alexandre/morespace/University of Cambridge/L65/L65-Mini-Project/rewiring/sdrf/sdrf.py:278: UserWarning: To copy construct from a tensor, it is recommended to use sourceTensor.clone().detach() or sourceTensor.clone().detach().requires_grad_(True), rather than torch.tensor(sourceTensor).\n",
      "  new_edge_index = torch.tensor(new_edge_index)\n",
      " 58%|█████▊    | 109/188 [00:07<00:07, 10.80it/s]"
     ]
    },
    {
     "name": "stdout",
     "output_type": "stream",
     "text": [
      "🔄 Applying SDRF on MUTAG...\n",
      "✅ Rewiring complete! MUTAG now has 23 edges.\n",
      "🔄 Applying SDRF on MUTAG...\n",
      "✅ Rewiring complete! MUTAG now has 34 edges.\n",
      "🔄 Applying SDRF on MUTAG...\n",
      "✅ Rewiring complete! MUTAG now has 26 edges.\n"
     ]
    },
    {
     "name": "stderr",
     "output_type": "stream",
     "text": [
      "/media/alexandre/morespace/University of Cambridge/L65/L65-Mini-Project/rewiring/sdrf/sdrf.py:278: UserWarning: To copy construct from a tensor, it is recommended to use sourceTensor.clone().detach() or sourceTensor.clone().detach().requires_grad_(True), rather than torch.tensor(sourceTensor).\n",
      "  new_edge_index = torch.tensor(new_edge_index)\n",
      "/media/alexandre/morespace/University of Cambridge/L65/L65-Mini-Project/rewiring/sdrf/sdrf.py:278: UserWarning: To copy construct from a tensor, it is recommended to use sourceTensor.clone().detach() or sourceTensor.clone().detach().requires_grad_(True), rather than torch.tensor(sourceTensor).\n",
      "  new_edge_index = torch.tensor(new_edge_index)\n",
      " 59%|█████▉    | 111/188 [00:08<00:06, 11.50it/s]/media/alexandre/morespace/University of Cambridge/L65/L65-Mini-Project/rewiring/sdrf/sdrf.py:278: UserWarning: To copy construct from a tensor, it is recommended to use sourceTensor.clone().detach() or sourceTensor.clone().detach().requires_grad_(True), rather than torch.tensor(sourceTensor).\n",
      "  new_edge_index = torch.tensor(new_edge_index)\n",
      "/media/alexandre/morespace/University of Cambridge/L65/L65-Mini-Project/rewiring/sdrf/sdrf.py:278: UserWarning: To copy construct from a tensor, it is recommended to use sourceTensor.clone().detach() or sourceTensor.clone().detach().requires_grad_(True), rather than torch.tensor(sourceTensor).\n",
      "  new_edge_index = torch.tensor(new_edge_index)\n",
      " 60%|██████    | 113/188 [00:08<00:05, 12.73it/s]"
     ]
    },
    {
     "name": "stdout",
     "output_type": "stream",
     "text": [
      "🔄 Applying SDRF on MUTAG...\n",
      "✅ Rewiring complete! MUTAG now has 12 edges.\n",
      "🔄 Applying SDRF on MUTAG...\n",
      "✅ Rewiring complete! MUTAG now has 18 edges.\n",
      "🔄 Applying SDRF on MUTAG...\n",
      "✅ Rewiring complete! MUTAG now has 14 edges.\n",
      "🔄 Applying SDRF on MUTAG...\n",
      "✅ Rewiring complete! MUTAG now has 18 edges.\n"
     ]
    },
    {
     "name": "stderr",
     "output_type": "stream",
     "text": [
      "/media/alexandre/morespace/University of Cambridge/L65/L65-Mini-Project/rewiring/sdrf/sdrf.py:278: UserWarning: To copy construct from a tensor, it is recommended to use sourceTensor.clone().detach() or sourceTensor.clone().detach().requires_grad_(True), rather than torch.tensor(sourceTensor).\n",
      "  new_edge_index = torch.tensor(new_edge_index)\n",
      "/media/alexandre/morespace/University of Cambridge/L65/L65-Mini-Project/rewiring/sdrf/sdrf.py:278: UserWarning: To copy construct from a tensor, it is recommended to use sourceTensor.clone().detach() or sourceTensor.clone().detach().requires_grad_(True), rather than torch.tensor(sourceTensor).\n",
      "  new_edge_index = torch.tensor(new_edge_index)\n",
      " 61%|██████    | 115/188 [00:08<00:05, 13.56it/s]/media/alexandre/morespace/University of Cambridge/L65/L65-Mini-Project/rewiring/sdrf/sdrf.py:278: UserWarning: To copy construct from a tensor, it is recommended to use sourceTensor.clone().detach() or sourceTensor.clone().detach().requires_grad_(True), rather than torch.tensor(sourceTensor).\n",
      "  new_edge_index = torch.tensor(new_edge_index)\n",
      "/media/alexandre/morespace/University of Cambridge/L65/L65-Mini-Project/rewiring/sdrf/sdrf.py:278: UserWarning: To copy construct from a tensor, it is recommended to use sourceTensor.clone().detach() or sourceTensor.clone().detach().requires_grad_(True), rather than torch.tensor(sourceTensor).\n",
      "  new_edge_index = torch.tensor(new_edge_index)\n",
      " 62%|██████▏   | 117/188 [00:08<00:05, 13.92it/s]"
     ]
    },
    {
     "name": "stdout",
     "output_type": "stream",
     "text": [
      "🔄 Applying SDRF on MUTAG...\n",
      "✅ Rewiring complete! MUTAG now has 14 edges.\n",
      "🔄 Applying SDRF on MUTAG...\n",
      "✅ Rewiring complete! MUTAG now has 11 edges.\n",
      "🔄 Applying SDRF on MUTAG...\n",
      "✅ Rewiring complete! MUTAG now has 23 edges.\n",
      "🔄 Applying SDRF on MUTAG...\n"
     ]
    },
    {
     "name": "stderr",
     "output_type": "stream",
     "text": [
      "/media/alexandre/morespace/University of Cambridge/L65/L65-Mini-Project/rewiring/sdrf/sdrf.py:278: UserWarning: To copy construct from a tensor, it is recommended to use sourceTensor.clone().detach() or sourceTensor.clone().detach().requires_grad_(True), rather than torch.tensor(sourceTensor).\n",
      "  new_edge_index = torch.tensor(new_edge_index)\n",
      "/media/alexandre/morespace/University of Cambridge/L65/L65-Mini-Project/rewiring/sdrf/sdrf.py:278: UserWarning: To copy construct from a tensor, it is recommended to use sourceTensor.clone().detach() or sourceTensor.clone().detach().requires_grad_(True), rather than torch.tensor(sourceTensor).\n",
      "  new_edge_index = torch.tensor(new_edge_index)\n",
      " 63%|██████▎   | 119/188 [00:08<00:05, 13.08it/s]/media/alexandre/morespace/University of Cambridge/L65/L65-Mini-Project/rewiring/sdrf/sdrf.py:278: UserWarning: To copy construct from a tensor, it is recommended to use sourceTensor.clone().detach() or sourceTensor.clone().detach().requires_grad_(True), rather than torch.tensor(sourceTensor).\n",
      "  new_edge_index = torch.tensor(new_edge_index)\n"
     ]
    },
    {
     "name": "stdout",
     "output_type": "stream",
     "text": [
      "✅ Rewiring complete! MUTAG now has 28 edges.\n",
      "🔄 Applying SDRF on MUTAG...\n",
      "✅ Rewiring complete! MUTAG now has 23 edges.\n",
      "🔄 Applying SDRF on MUTAG...\n",
      "✅ Rewiring complete! MUTAG now has 14 edges.\n"
     ]
    },
    {
     "name": "stderr",
     "output_type": "stream",
     "text": [
      "/media/alexandre/morespace/University of Cambridge/L65/L65-Mini-Project/rewiring/sdrf/sdrf.py:278: UserWarning: To copy construct from a tensor, it is recommended to use sourceTensor.clone().detach() or sourceTensor.clone().detach().requires_grad_(True), rather than torch.tensor(sourceTensor).\n",
      "  new_edge_index = torch.tensor(new_edge_index)\n",
      " 64%|██████▍   | 121/188 [00:08<00:05, 12.21it/s]/media/alexandre/morespace/University of Cambridge/L65/L65-Mini-Project/rewiring/sdrf/sdrf.py:278: UserWarning: To copy construct from a tensor, it is recommended to use sourceTensor.clone().detach() or sourceTensor.clone().detach().requires_grad_(True), rather than torch.tensor(sourceTensor).\n",
      "  new_edge_index = torch.tensor(new_edge_index)\n"
     ]
    },
    {
     "name": "stdout",
     "output_type": "stream",
     "text": [
      "🔄 Applying SDRF on MUTAG...\n",
      "✅ Rewiring complete! MUTAG now has 29 edges.\n",
      "🔄 Applying SDRF on MUTAG...\n",
      "✅ Rewiring complete! MUTAG now has 25 edges.\n"
     ]
    },
    {
     "name": "stderr",
     "output_type": "stream",
     "text": [
      "/media/alexandre/morespace/University of Cambridge/L65/L65-Mini-Project/rewiring/sdrf/sdrf.py:278: UserWarning: To copy construct from a tensor, it is recommended to use sourceTensor.clone().detach() or sourceTensor.clone().detach().requires_grad_(True), rather than torch.tensor(sourceTensor).\n",
      "  new_edge_index = torch.tensor(new_edge_index)\n",
      " 65%|██████▌   | 123/188 [00:09<00:05, 11.85it/s]/media/alexandre/morespace/University of Cambridge/L65/L65-Mini-Project/rewiring/sdrf/sdrf.py:278: UserWarning: To copy construct from a tensor, it is recommended to use sourceTensor.clone().detach() or sourceTensor.clone().detach().requires_grad_(True), rather than torch.tensor(sourceTensor).\n",
      "  new_edge_index = torch.tensor(new_edge_index)\n",
      "/media/alexandre/morespace/University of Cambridge/L65/L65-Mini-Project/rewiring/sdrf/sdrf.py:278: UserWarning: To copy construct from a tensor, it is recommended to use sourceTensor.clone().detach() or sourceTensor.clone().detach().requires_grad_(True), rather than torch.tensor(sourceTensor).\n",
      "  new_edge_index = torch.tensor(new_edge_index)\n",
      " 66%|██████▋   | 125/188 [00:09<00:04, 12.73it/s]"
     ]
    },
    {
     "name": "stdout",
     "output_type": "stream",
     "text": [
      "🔄 Applying SDRF on MUTAG...\n",
      "✅ Rewiring complete! MUTAG now has 18 edges.\n",
      "🔄 Applying SDRF on MUTAG...\n",
      "✅ Rewiring complete! MUTAG now has 12 edges.\n",
      "🔄 Applying SDRF on MUTAG...\n",
      "✅ Rewiring complete! MUTAG now has 23 edges.\n",
      "🔄 Applying SDRF on MUTAG...\n"
     ]
    },
    {
     "name": "stderr",
     "output_type": "stream",
     "text": [
      "/media/alexandre/morespace/University of Cambridge/L65/L65-Mini-Project/rewiring/sdrf/sdrf.py:278: UserWarning: To copy construct from a tensor, it is recommended to use sourceTensor.clone().detach() or sourceTensor.clone().detach().requires_grad_(True), rather than torch.tensor(sourceTensor).\n",
      "  new_edge_index = torch.tensor(new_edge_index)\n",
      "/media/alexandre/morespace/University of Cambridge/L65/L65-Mini-Project/rewiring/sdrf/sdrf.py:278: UserWarning: To copy construct from a tensor, it is recommended to use sourceTensor.clone().detach() or sourceTensor.clone().detach().requires_grad_(True), rather than torch.tensor(sourceTensor).\n",
      "  new_edge_index = torch.tensor(new_edge_index)\n",
      " 68%|██████▊   | 127/188 [00:09<00:05, 11.35it/s]"
     ]
    },
    {
     "name": "stdout",
     "output_type": "stream",
     "text": [
      "✅ Rewiring complete! MUTAG now has 23 edges.\n",
      "🔄 Applying SDRF on MUTAG...\n",
      "✅ Rewiring complete! MUTAG now has 23 edges.\n"
     ]
    },
    {
     "name": "stderr",
     "output_type": "stream",
     "text": [
      "/media/alexandre/morespace/University of Cambridge/L65/L65-Mini-Project/rewiring/sdrf/sdrf.py:278: UserWarning: To copy construct from a tensor, it is recommended to use sourceTensor.clone().detach() or sourceTensor.clone().detach().requires_grad_(True), rather than torch.tensor(sourceTensor).\n",
      "  new_edge_index = torch.tensor(new_edge_index)\n",
      "/media/alexandre/morespace/University of Cambridge/L65/L65-Mini-Project/rewiring/sdrf/sdrf.py:278: UserWarning: To copy construct from a tensor, it is recommended to use sourceTensor.clone().detach() or sourceTensor.clone().detach().requires_grad_(True), rather than torch.tensor(sourceTensor).\n",
      "  new_edge_index = torch.tensor(new_edge_index)\n",
      " 69%|██████▊   | 129/188 [00:09<00:05, 10.90it/s]"
     ]
    },
    {
     "name": "stdout",
     "output_type": "stream",
     "text": [
      "🔄 Applying SDRF on MUTAG...\n",
      "✅ Rewiring complete! MUTAG now has 18 edges.\n",
      "🔄 Applying SDRF on MUTAG...\n",
      "✅ Rewiring complete! MUTAG now has 15 edges.\n",
      "🔄 Applying SDRF on MUTAG...\n"
     ]
    },
    {
     "name": "stderr",
     "output_type": "stream",
     "text": [
      "/media/alexandre/morespace/University of Cambridge/L65/L65-Mini-Project/rewiring/sdrf/sdrf.py:278: UserWarning: To copy construct from a tensor, it is recommended to use sourceTensor.clone().detach() or sourceTensor.clone().detach().requires_grad_(True), rather than torch.tensor(sourceTensor).\n",
      "  new_edge_index = torch.tensor(new_edge_index)\n",
      "/media/alexandre/morespace/University of Cambridge/L65/L65-Mini-Project/rewiring/sdrf/sdrf.py:278: UserWarning: To copy construct from a tensor, it is recommended to use sourceTensor.clone().detach() or sourceTensor.clone().detach().requires_grad_(True), rather than torch.tensor(sourceTensor).\n",
      "  new_edge_index = torch.tensor(new_edge_index)\n",
      " 70%|██████▉   | 131/188 [00:09<00:05, 10.67it/s]/media/alexandre/morespace/University of Cambridge/L65/L65-Mini-Project/rewiring/sdrf/sdrf.py:278: UserWarning: To copy construct from a tensor, it is recommended to use sourceTensor.clone().detach() or sourceTensor.clone().detach().requires_grad_(True), rather than torch.tensor(sourceTensor).\n",
      "  new_edge_index = torch.tensor(new_edge_index)\n"
     ]
    },
    {
     "name": "stdout",
     "output_type": "stream",
     "text": [
      "✅ Rewiring complete! MUTAG now has 11 edges.\n",
      "🔄 Applying SDRF on MUTAG...\n",
      "✅ Rewiring complete! MUTAG now has 21 edges.\n",
      "🔄 Applying SDRF on MUTAG...\n",
      "✅ Rewiring complete! MUTAG now has 12 edges.\n"
     ]
    },
    {
     "name": "stderr",
     "output_type": "stream",
     "text": [
      "/media/alexandre/morespace/University of Cambridge/L65/L65-Mini-Project/rewiring/sdrf/sdrf.py:278: UserWarning: To copy construct from a tensor, it is recommended to use sourceTensor.clone().detach() or sourceTensor.clone().detach().requires_grad_(True), rather than torch.tensor(sourceTensor).\n",
      "  new_edge_index = torch.tensor(new_edge_index)\n",
      " 71%|███████   | 133/188 [00:09<00:05, 10.71it/s]/media/alexandre/morespace/University of Cambridge/L65/L65-Mini-Project/rewiring/sdrf/sdrf.py:278: UserWarning: To copy construct from a tensor, it is recommended to use sourceTensor.clone().detach() or sourceTensor.clone().detach().requires_grad_(True), rather than torch.tensor(sourceTensor).\n",
      "  new_edge_index = torch.tensor(new_edge_index)\n"
     ]
    },
    {
     "name": "stdout",
     "output_type": "stream",
     "text": [
      "🔄 Applying SDRF on MUTAG...\n",
      "✅ Rewiring complete! MUTAG now has 24 edges.\n",
      "🔄 Applying SDRF on MUTAG...\n",
      "✅ Rewiring complete! MUTAG now has 26 edges.\n"
     ]
    },
    {
     "name": "stderr",
     "output_type": "stream",
     "text": [
      "/media/alexandre/morespace/University of Cambridge/L65/L65-Mini-Project/rewiring/sdrf/sdrf.py:278: UserWarning: To copy construct from a tensor, it is recommended to use sourceTensor.clone().detach() or sourceTensor.clone().detach().requires_grad_(True), rather than torch.tensor(sourceTensor).\n",
      "  new_edge_index = torch.tensor(new_edge_index)\n",
      " 72%|███████▏  | 135/188 [00:10<00:04, 11.13it/s]/media/alexandre/morespace/University of Cambridge/L65/L65-Mini-Project/rewiring/sdrf/sdrf.py:278: UserWarning: To copy construct from a tensor, it is recommended to use sourceTensor.clone().detach() or sourceTensor.clone().detach().requires_grad_(True), rather than torch.tensor(sourceTensor).\n",
      "  new_edge_index = torch.tensor(new_edge_index)\n"
     ]
    },
    {
     "name": "stdout",
     "output_type": "stream",
     "text": [
      "🔄 Applying SDRF on MUTAG...\n",
      "✅ Rewiring complete! MUTAG now has 12 edges.\n",
      "🔄 Applying SDRF on MUTAG...\n",
      "✅ Rewiring complete! MUTAG now has 24 edges.\n",
      "🔄 Applying SDRF on MUTAG...\n",
      "✅ Rewiring complete! MUTAG now has 26 edges.\n"
     ]
    },
    {
     "name": "stderr",
     "output_type": "stream",
     "text": [
      "/media/alexandre/morespace/University of Cambridge/L65/L65-Mini-Project/rewiring/sdrf/sdrf.py:278: UserWarning: To copy construct from a tensor, it is recommended to use sourceTensor.clone().detach() or sourceTensor.clone().detach().requires_grad_(True), rather than torch.tensor(sourceTensor).\n",
      "  new_edge_index = torch.tensor(new_edge_index)\n",
      " 73%|███████▎  | 137/188 [00:10<00:04, 11.32it/s]/media/alexandre/morespace/University of Cambridge/L65/L65-Mini-Project/rewiring/sdrf/sdrf.py:278: UserWarning: To copy construct from a tensor, it is recommended to use sourceTensor.clone().detach() or sourceTensor.clone().detach().requires_grad_(True), rather than torch.tensor(sourceTensor).\n",
      "  new_edge_index = torch.tensor(new_edge_index)\n",
      "/media/alexandre/morespace/University of Cambridge/L65/L65-Mini-Project/rewiring/sdrf/sdrf.py:278: UserWarning: To copy construct from a tensor, it is recommended to use sourceTensor.clone().detach() or sourceTensor.clone().detach().requires_grad_(True), rather than torch.tensor(sourceTensor).\n",
      "  new_edge_index = torch.tensor(new_edge_index)\n",
      " 74%|███████▍  | 139/188 [00:10<00:03, 12.59it/s]/media/alexandre/morespace/University of Cambridge/L65/L65-Mini-Project/rewiring/sdrf/sdrf.py:278: UserWarning: To copy construct from a tensor, it is recommended to use sourceTensor.clone().detach() or sourceTensor.clone().detach().requires_grad_(True), rather than torch.tensor(sourceTensor).\n",
      "  new_edge_index = torch.tensor(new_edge_index)\n"
     ]
    },
    {
     "name": "stdout",
     "output_type": "stream",
     "text": [
      "🔄 Applying SDRF on MUTAG...\n",
      "✅ Rewiring complete! MUTAG now has 14 edges.\n",
      "🔄 Applying SDRF on MUTAG...\n",
      "✅ Rewiring complete! MUTAG now has 12 edges.\n",
      "🔄 Applying SDRF on MUTAG...\n",
      "✅ Rewiring complete! MUTAG now has 18 edges.\n",
      "🔄 Applying SDRF on MUTAG...\n",
      "✅ Rewiring complete! MUTAG now has 12 edges.\n"
     ]
    },
    {
     "name": "stderr",
     "output_type": "stream",
     "text": [
      "/media/alexandre/morespace/University of Cambridge/L65/L65-Mini-Project/rewiring/sdrf/sdrf.py:278: UserWarning: To copy construct from a tensor, it is recommended to use sourceTensor.clone().detach() or sourceTensor.clone().detach().requires_grad_(True), rather than torch.tensor(sourceTensor).\n",
      "  new_edge_index = torch.tensor(new_edge_index)\n",
      " 75%|███████▌  | 141/188 [00:10<00:03, 13.78it/s]/media/alexandre/morespace/University of Cambridge/L65/L65-Mini-Project/rewiring/sdrf/sdrf.py:278: UserWarning: To copy construct from a tensor, it is recommended to use sourceTensor.clone().detach() or sourceTensor.clone().detach().requires_grad_(True), rather than torch.tensor(sourceTensor).\n",
      "  new_edge_index = torch.tensor(new_edge_index)\n",
      "/media/alexandre/morespace/University of Cambridge/L65/L65-Mini-Project/rewiring/sdrf/sdrf.py:278: UserWarning: To copy construct from a tensor, it is recommended to use sourceTensor.clone().detach() or sourceTensor.clone().detach().requires_grad_(True), rather than torch.tensor(sourceTensor).\n",
      "  new_edge_index = torch.tensor(new_edge_index)\n",
      " 76%|███████▌  | 143/188 [00:10<00:03, 13.23it/s]"
     ]
    },
    {
     "name": "stdout",
     "output_type": "stream",
     "text": [
      "🔄 Applying SDRF on MUTAG...\n",
      "✅ Rewiring complete! MUTAG now has 23 edges.\n",
      "🔄 Applying SDRF on MUTAG...\n",
      "✅ Rewiring complete! MUTAG now has 12 edges.\n",
      "🔄 Applying SDRF on MUTAG...\n",
      "✅ Rewiring complete! MUTAG now has 12 edges.\n"
     ]
    },
    {
     "name": "stderr",
     "output_type": "stream",
     "text": [
      "/media/alexandre/morespace/University of Cambridge/L65/L65-Mini-Project/rewiring/sdrf/sdrf.py:278: UserWarning: To copy construct from a tensor, it is recommended to use sourceTensor.clone().detach() or sourceTensor.clone().detach().requires_grad_(True), rather than torch.tensor(sourceTensor).\n",
      "  new_edge_index = torch.tensor(new_edge_index)\n",
      "/media/alexandre/morespace/University of Cambridge/L65/L65-Mini-Project/rewiring/sdrf/sdrf.py:278: UserWarning: To copy construct from a tensor, it is recommended to use sourceTensor.clone().detach() or sourceTensor.clone().detach().requires_grad_(True), rather than torch.tensor(sourceTensor).\n",
      "  new_edge_index = torch.tensor(new_edge_index)\n",
      " 77%|███████▋  | 145/188 [00:10<00:03, 12.54it/s]/media/alexandre/morespace/University of Cambridge/L65/L65-Mini-Project/rewiring/sdrf/sdrf.py:278: UserWarning: To copy construct from a tensor, it is recommended to use sourceTensor.clone().detach() or sourceTensor.clone().detach().requires_grad_(True), rather than torch.tensor(sourceTensor).\n",
      "  new_edge_index = torch.tensor(new_edge_index)\n"
     ]
    },
    {
     "name": "stdout",
     "output_type": "stream",
     "text": [
      "🔄 Applying SDRF on MUTAG...\n",
      "✅ Rewiring complete! MUTAG now has 18 edges.\n",
      "🔄 Applying SDRF on MUTAG...\n",
      "✅ Rewiring complete! MUTAG now has 18 edges.\n",
      "🔄 Applying SDRF on MUTAG...\n",
      "✅ Rewiring complete! MUTAG now has 14 edges.\n"
     ]
    },
    {
     "name": "stderr",
     "output_type": "stream",
     "text": [
      "/media/alexandre/morespace/University of Cambridge/L65/L65-Mini-Project/rewiring/sdrf/sdrf.py:278: UserWarning: To copy construct from a tensor, it is recommended to use sourceTensor.clone().detach() or sourceTensor.clone().detach().requires_grad_(True), rather than torch.tensor(sourceTensor).\n",
      "  new_edge_index = torch.tensor(new_edge_index)\n",
      " 78%|███████▊  | 147/188 [00:11<00:03, 12.60it/s]/media/alexandre/morespace/University of Cambridge/L65/L65-Mini-Project/rewiring/sdrf/sdrf.py:278: UserWarning: To copy construct from a tensor, it is recommended to use sourceTensor.clone().detach() or sourceTensor.clone().detach().requires_grad_(True), rather than torch.tensor(sourceTensor).\n",
      "  new_edge_index = torch.tensor(new_edge_index)\n",
      "/media/alexandre/morespace/University of Cambridge/L65/L65-Mini-Project/rewiring/sdrf/sdrf.py:278: UserWarning: To copy construct from a tensor, it is recommended to use sourceTensor.clone().detach() or sourceTensor.clone().detach().requires_grad_(True), rather than torch.tensor(sourceTensor).\n",
      "  new_edge_index = torch.tensor(new_edge_index)\n",
      " 79%|███████▉  | 149/188 [00:11<00:03, 12.30it/s]"
     ]
    },
    {
     "name": "stdout",
     "output_type": "stream",
     "text": [
      "🔄 Applying SDRF on MUTAG...\n",
      "✅ Rewiring complete! MUTAG now has 18 edges.\n",
      "🔄 Applying SDRF on MUTAG...\n",
      "✅ Rewiring complete! MUTAG now has 23 edges.\n",
      "🔄 Applying SDRF on MUTAG...\n",
      "✅ Rewiring complete! MUTAG now has 12 edges.\n"
     ]
    },
    {
     "name": "stderr",
     "output_type": "stream",
     "text": [
      "/media/alexandre/morespace/University of Cambridge/L65/L65-Mini-Project/rewiring/sdrf/sdrf.py:278: UserWarning: To copy construct from a tensor, it is recommended to use sourceTensor.clone().detach() or sourceTensor.clone().detach().requires_grad_(True), rather than torch.tensor(sourceTensor).\n",
      "  new_edge_index = torch.tensor(new_edge_index)\n",
      "/media/alexandre/morespace/University of Cambridge/L65/L65-Mini-Project/rewiring/sdrf/sdrf.py:278: UserWarning: To copy construct from a tensor, it is recommended to use sourceTensor.clone().detach() or sourceTensor.clone().detach().requires_grad_(True), rather than torch.tensor(sourceTensor).\n",
      "  new_edge_index = torch.tensor(new_edge_index)\n",
      " 80%|████████  | 151/188 [00:11<00:03, 11.89it/s]/media/alexandre/morespace/University of Cambridge/L65/L65-Mini-Project/rewiring/sdrf/sdrf.py:278: UserWarning: To copy construct from a tensor, it is recommended to use sourceTensor.clone().detach() or sourceTensor.clone().detach().requires_grad_(True), rather than torch.tensor(sourceTensor).\n",
      "  new_edge_index = torch.tensor(new_edge_index)\n"
     ]
    },
    {
     "name": "stdout",
     "output_type": "stream",
     "text": [
      "🔄 Applying SDRF on MUTAG...\n",
      "✅ Rewiring complete! MUTAG now has 14 edges.\n",
      "🔄 Applying SDRF on MUTAG...\n",
      "✅ Rewiring complete! MUTAG now has 26 edges.\n"
     ]
    },
    {
     "name": "stderr",
     "output_type": "stream",
     "text": [
      "/media/alexandre/morespace/University of Cambridge/L65/L65-Mini-Project/rewiring/sdrf/sdrf.py:278: UserWarning: To copy construct from a tensor, it is recommended to use sourceTensor.clone().detach() or sourceTensor.clone().detach().requires_grad_(True), rather than torch.tensor(sourceTensor).\n",
      "  new_edge_index = torch.tensor(new_edge_index)\n",
      " 81%|████████▏ | 153/188 [00:11<00:03, 11.18it/s]/media/alexandre/morespace/University of Cambridge/L65/L65-Mini-Project/rewiring/sdrf/sdrf.py:278: UserWarning: To copy construct from a tensor, it is recommended to use sourceTensor.clone().detach() or sourceTensor.clone().detach().requires_grad_(True), rather than torch.tensor(sourceTensor).\n",
      "  new_edge_index = torch.tensor(new_edge_index)\n",
      "/media/alexandre/morespace/University of Cambridge/L65/L65-Mini-Project/rewiring/sdrf/sdrf.py:278: UserWarning: To copy construct from a tensor, it is recommended to use sourceTensor.clone().detach() or sourceTensor.clone().detach().requires_grad_(True), rather than torch.tensor(sourceTensor).\n",
      "  new_edge_index = torch.tensor(new_edge_index)\n",
      " 82%|████████▏ | 155/188 [00:11<00:02, 11.85it/s]"
     ]
    },
    {
     "name": "stdout",
     "output_type": "stream",
     "text": [
      "🔄 Applying SDRF on MUTAG...\n",
      "✅ Rewiring complete! MUTAG now has 18 edges.\n",
      "🔄 Applying SDRF on MUTAG...\n",
      "✅ Rewiring complete! MUTAG now has 14 edges.\n",
      "🔄 Applying SDRF on MUTAG...\n",
      "✅ Rewiring complete! MUTAG now has 14 edges.\n"
     ]
    },
    {
     "name": "stderr",
     "output_type": "stream",
     "text": [
      "/media/alexandre/morespace/University of Cambridge/L65/L65-Mini-Project/rewiring/sdrf/sdrf.py:278: UserWarning: To copy construct from a tensor, it is recommended to use sourceTensor.clone().detach() or sourceTensor.clone().detach().requires_grad_(True), rather than torch.tensor(sourceTensor).\n",
      "  new_edge_index = torch.tensor(new_edge_index)\n",
      "/media/alexandre/morespace/University of Cambridge/L65/L65-Mini-Project/rewiring/sdrf/sdrf.py:278: UserWarning: To copy construct from a tensor, it is recommended to use sourceTensor.clone().detach() or sourceTensor.clone().detach().requires_grad_(True), rather than torch.tensor(sourceTensor).\n",
      "  new_edge_index = torch.tensor(new_edge_index)\n",
      " 84%|████████▎ | 157/188 [00:11<00:02, 12.16it/s]"
     ]
    },
    {
     "name": "stdout",
     "output_type": "stream",
     "text": [
      "🔄 Applying SDRF on MUTAG...\n",
      "✅ Rewiring complete! MUTAG now has 14 edges.\n",
      "🔄 Applying SDRF on MUTAG...\n",
      "✅ Rewiring complete! MUTAG now has 24 edges.\n",
      "🔄 Applying SDRF on MUTAG...\n",
      "✅ Rewiring complete! MUTAG now has 22 edges.\n"
     ]
    },
    {
     "name": "stderr",
     "output_type": "stream",
     "text": [
      "/media/alexandre/morespace/University of Cambridge/L65/L65-Mini-Project/rewiring/sdrf/sdrf.py:278: UserWarning: To copy construct from a tensor, it is recommended to use sourceTensor.clone().detach() or sourceTensor.clone().detach().requires_grad_(True), rather than torch.tensor(sourceTensor).\n",
      "  new_edge_index = torch.tensor(new_edge_index)\n",
      "/media/alexandre/morespace/University of Cambridge/L65/L65-Mini-Project/rewiring/sdrf/sdrf.py:278: UserWarning: To copy construct from a tensor, it is recommended to use sourceTensor.clone().detach() or sourceTensor.clone().detach().requires_grad_(True), rather than torch.tensor(sourceTensor).\n",
      "  new_edge_index = torch.tensor(new_edge_index)\n",
      " 85%|████████▍ | 159/188 [00:12<00:02, 11.84it/s]/media/alexandre/morespace/University of Cambridge/L65/L65-Mini-Project/rewiring/sdrf/sdrf.py:278: UserWarning: To copy construct from a tensor, it is recommended to use sourceTensor.clone().detach() or sourceTensor.clone().detach().requires_grad_(True), rather than torch.tensor(sourceTensor).\n",
      "  new_edge_index = torch.tensor(new_edge_index)\n"
     ]
    },
    {
     "name": "stdout",
     "output_type": "stream",
     "text": [
      "🔄 Applying SDRF on MUTAG...\n",
      "✅ Rewiring complete! MUTAG now has 24 edges.\n",
      "🔄 Applying SDRF on MUTAG...\n",
      "✅ Rewiring complete! MUTAG now has 15 edges.\n",
      "🔄 Applying SDRF on MUTAG...\n",
      "✅ Rewiring complete! MUTAG now has 31 edges.\n"
     ]
    },
    {
     "name": "stderr",
     "output_type": "stream",
     "text": [
      "/media/alexandre/morespace/University of Cambridge/L65/L65-Mini-Project/rewiring/sdrf/sdrf.py:278: UserWarning: To copy construct from a tensor, it is recommended to use sourceTensor.clone().detach() or sourceTensor.clone().detach().requires_grad_(True), rather than torch.tensor(sourceTensor).\n",
      "  new_edge_index = torch.tensor(new_edge_index)\n",
      " 86%|████████▌ | 161/188 [00:12<00:02, 11.84it/s]/media/alexandre/morespace/University of Cambridge/L65/L65-Mini-Project/rewiring/sdrf/sdrf.py:278: UserWarning: To copy construct from a tensor, it is recommended to use sourceTensor.clone().detach() or sourceTensor.clone().detach().requires_grad_(True), rather than torch.tensor(sourceTensor).\n",
      "  new_edge_index = torch.tensor(new_edge_index)\n",
      "/media/alexandre/morespace/University of Cambridge/L65/L65-Mini-Project/rewiring/sdrf/sdrf.py:278: UserWarning: To copy construct from a tensor, it is recommended to use sourceTensor.clone().detach() or sourceTensor.clone().detach().requires_grad_(True), rather than torch.tensor(sourceTensor).\n",
      "  new_edge_index = torch.tensor(new_edge_index)\n",
      " 87%|████████▋ | 163/188 [00:12<00:02, 11.32it/s]"
     ]
    },
    {
     "name": "stdout",
     "output_type": "stream",
     "text": [
      "🔄 Applying SDRF on MUTAG...\n",
      "✅ Rewiring complete! MUTAG now has 26 edges.\n",
      "🔄 Applying SDRF on MUTAG...\n",
      "✅ Rewiring complete! MUTAG now has 26 edges.\n",
      "🔄 Applying SDRF on MUTAG...\n"
     ]
    },
    {
     "name": "stderr",
     "output_type": "stream",
     "text": [
      "/media/alexandre/morespace/University of Cambridge/L65/L65-Mini-Project/rewiring/sdrf/sdrf.py:278: UserWarning: To copy construct from a tensor, it is recommended to use sourceTensor.clone().detach() or sourceTensor.clone().detach().requires_grad_(True), rather than torch.tensor(sourceTensor).\n",
      "  new_edge_index = torch.tensor(new_edge_index)\n",
      "/media/alexandre/morespace/University of Cambridge/L65/L65-Mini-Project/rewiring/sdrf/sdrf.py:278: UserWarning: To copy construct from a tensor, it is recommended to use sourceTensor.clone().detach() or sourceTensor.clone().detach().requires_grad_(True), rather than torch.tensor(sourceTensor).\n",
      "  new_edge_index = torch.tensor(new_edge_index)\n",
      " 88%|████████▊ | 165/188 [00:12<00:02, 11.16it/s]/media/alexandre/morespace/University of Cambridge/L65/L65-Mini-Project/rewiring/sdrf/sdrf.py:278: UserWarning: To copy construct from a tensor, it is recommended to use sourceTensor.clone().detach() or sourceTensor.clone().detach().requires_grad_(True), rather than torch.tensor(sourceTensor).\n",
      "  new_edge_index = torch.tensor(new_edge_index)\n"
     ]
    },
    {
     "name": "stdout",
     "output_type": "stream",
     "text": [
      "✅ Rewiring complete! MUTAG now has 26 edges.\n",
      "🔄 Applying SDRF on MUTAG...\n",
      "✅ Rewiring complete! MUTAG now has 23 edges.\n",
      "🔄 Applying SDRF on MUTAG...\n",
      "✅ Rewiring complete! MUTAG now has 26 edges.\n"
     ]
    },
    {
     "name": "stderr",
     "output_type": "stream",
     "text": [
      "/media/alexandre/morespace/University of Cambridge/L65/L65-Mini-Project/rewiring/sdrf/sdrf.py:278: UserWarning: To copy construct from a tensor, it is recommended to use sourceTensor.clone().detach() or sourceTensor.clone().detach().requires_grad_(True), rather than torch.tensor(sourceTensor).\n",
      "  new_edge_index = torch.tensor(new_edge_index)\n",
      " 89%|████████▉ | 167/188 [00:12<00:01, 11.19it/s]/media/alexandre/morespace/University of Cambridge/L65/L65-Mini-Project/rewiring/sdrf/sdrf.py:278: UserWarning: To copy construct from a tensor, it is recommended to use sourceTensor.clone().detach() or sourceTensor.clone().detach().requires_grad_(True), rather than torch.tensor(sourceTensor).\n",
      "  new_edge_index = torch.tensor(new_edge_index)\n",
      "/media/alexandre/morespace/University of Cambridge/L65/L65-Mini-Project/rewiring/sdrf/sdrf.py:278: UserWarning: To copy construct from a tensor, it is recommended to use sourceTensor.clone().detach() or sourceTensor.clone().detach().requires_grad_(True), rather than torch.tensor(sourceTensor).\n",
      "  new_edge_index = torch.tensor(new_edge_index)\n",
      " 90%|████████▉ | 169/188 [00:12<00:01, 12.70it/s]"
     ]
    },
    {
     "name": "stdout",
     "output_type": "stream",
     "text": [
      "🔄 Applying SDRF on MUTAG...\n",
      "✅ Rewiring complete! MUTAG now has 26 edges.\n",
      "🔄 Applying SDRF on MUTAG...\n",
      "✅ Rewiring complete! MUTAG now has 11 edges.\n",
      "🔄 Applying SDRF on MUTAG...\n",
      "✅ Rewiring complete! MUTAG now has 14 edges.\n",
      "🔄 Applying SDRF on MUTAG...\n",
      "✅ Rewiring complete! MUTAG now has 20 edges.\n"
     ]
    },
    {
     "name": "stderr",
     "output_type": "stream",
     "text": [
      "/media/alexandre/morespace/University of Cambridge/L65/L65-Mini-Project/rewiring/sdrf/sdrf.py:278: UserWarning: To copy construct from a tensor, it is recommended to use sourceTensor.clone().detach() or sourceTensor.clone().detach().requires_grad_(True), rather than torch.tensor(sourceTensor).\n",
      "  new_edge_index = torch.tensor(new_edge_index)\n",
      "/media/alexandre/morespace/University of Cambridge/L65/L65-Mini-Project/rewiring/sdrf/sdrf.py:278: UserWarning: To copy construct from a tensor, it is recommended to use sourceTensor.clone().detach() or sourceTensor.clone().detach().requires_grad_(True), rather than torch.tensor(sourceTensor).\n",
      "  new_edge_index = torch.tensor(new_edge_index)\n",
      " 91%|█████████ | 171/188 [00:13<00:01, 13.20it/s]/media/alexandre/morespace/University of Cambridge/L65/L65-Mini-Project/rewiring/sdrf/sdrf.py:278: UserWarning: To copy construct from a tensor, it is recommended to use sourceTensor.clone().detach() or sourceTensor.clone().detach().requires_grad_(True), rather than torch.tensor(sourceTensor).\n",
      "  new_edge_index = torch.tensor(new_edge_index)\n",
      "/media/alexandre/morespace/University of Cambridge/L65/L65-Mini-Project/rewiring/sdrf/sdrf.py:278: UserWarning: To copy construct from a tensor, it is recommended to use sourceTensor.clone().detach() or sourceTensor.clone().detach().requires_grad_(True), rather than torch.tensor(sourceTensor).\n",
      "  new_edge_index = torch.tensor(new_edge_index)\n",
      " 92%|█████████▏| 173/188 [00:13<00:01, 13.56it/s]"
     ]
    },
    {
     "name": "stdout",
     "output_type": "stream",
     "text": [
      "🔄 Applying SDRF on MUTAG...\n",
      "✅ Rewiring complete! MUTAG now has 26 edges.\n",
      "🔄 Applying SDRF on MUTAG...\n",
      "✅ Rewiring complete! MUTAG now has 14 edges.\n",
      "🔄 Applying SDRF on MUTAG...\n",
      "✅ Rewiring complete! MUTAG now has 23 edges.\n"
     ]
    },
    {
     "name": "stderr",
     "output_type": "stream",
     "text": [
      "/media/alexandre/morespace/University of Cambridge/L65/L65-Mini-Project/rewiring/sdrf/sdrf.py:278: UserWarning: To copy construct from a tensor, it is recommended to use sourceTensor.clone().detach() or sourceTensor.clone().detach().requires_grad_(True), rather than torch.tensor(sourceTensor).\n",
      "  new_edge_index = torch.tensor(new_edge_index)\n",
      "/media/alexandre/morespace/University of Cambridge/L65/L65-Mini-Project/rewiring/sdrf/sdrf.py:278: UserWarning: To copy construct from a tensor, it is recommended to use sourceTensor.clone().detach() or sourceTensor.clone().detach().requires_grad_(True), rather than torch.tensor(sourceTensor).\n",
      "  new_edge_index = torch.tensor(new_edge_index)\n",
      " 93%|█████████▎| 175/188 [00:13<00:01, 12.74it/s]"
     ]
    },
    {
     "name": "stdout",
     "output_type": "stream",
     "text": [
      "🔄 Applying SDRF on MUTAG...\n",
      "✅ Rewiring complete! MUTAG now has 26 edges.\n",
      "🔄 Applying SDRF on MUTAG...\n",
      "✅ Rewiring complete! MUTAG now has 25 edges.\n",
      "🔄 Applying SDRF on MUTAG...\n",
      "✅ Rewiring complete! MUTAG now has 14 edges.\n"
     ]
    },
    {
     "name": "stderr",
     "output_type": "stream",
     "text": [
      "/media/alexandre/morespace/University of Cambridge/L65/L65-Mini-Project/rewiring/sdrf/sdrf.py:278: UserWarning: To copy construct from a tensor, it is recommended to use sourceTensor.clone().detach() or sourceTensor.clone().detach().requires_grad_(True), rather than torch.tensor(sourceTensor).\n",
      "  new_edge_index = torch.tensor(new_edge_index)\n",
      "/media/alexandre/morespace/University of Cambridge/L65/L65-Mini-Project/rewiring/sdrf/sdrf.py:278: UserWarning: To copy construct from a tensor, it is recommended to use sourceTensor.clone().detach() or sourceTensor.clone().detach().requires_grad_(True), rather than torch.tensor(sourceTensor).\n",
      "  new_edge_index = torch.tensor(new_edge_index)\n",
      " 94%|█████████▍| 177/188 [00:13<00:00, 13.12it/s]/media/alexandre/morespace/University of Cambridge/L65/L65-Mini-Project/rewiring/sdrf/sdrf.py:278: UserWarning: To copy construct from a tensor, it is recommended to use sourceTensor.clone().detach() or sourceTensor.clone().detach().requires_grad_(True), rather than torch.tensor(sourceTensor).\n",
      "  new_edge_index = torch.tensor(new_edge_index)\n"
     ]
    },
    {
     "name": "stdout",
     "output_type": "stream",
     "text": [
      "🔄 Applying SDRF on MUTAG...\n",
      "✅ Rewiring complete! MUTAG now has 23 edges.\n",
      "🔄 Applying SDRF on MUTAG...\n",
      "✅ Rewiring complete! MUTAG now has 14 edges.\n",
      "🔄 Applying SDRF on MUTAG...\n",
      "✅ Rewiring complete! MUTAG now has 24 edges.\n"
     ]
    },
    {
     "name": "stderr",
     "output_type": "stream",
     "text": [
      "/media/alexandre/morespace/University of Cambridge/L65/L65-Mini-Project/rewiring/sdrf/sdrf.py:278: UserWarning: To copy construct from a tensor, it is recommended to use sourceTensor.clone().detach() or sourceTensor.clone().detach().requires_grad_(True), rather than torch.tensor(sourceTensor).\n",
      "  new_edge_index = torch.tensor(new_edge_index)\n",
      " 95%|█████████▌| 179/188 [00:13<00:00, 11.78it/s]/media/alexandre/morespace/University of Cambridge/L65/L65-Mini-Project/rewiring/sdrf/sdrf.py:278: UserWarning: To copy construct from a tensor, it is recommended to use sourceTensor.clone().detach() or sourceTensor.clone().detach().requires_grad_(True), rather than torch.tensor(sourceTensor).\n",
      "  new_edge_index = torch.tensor(new_edge_index)\n",
      "/media/alexandre/morespace/University of Cambridge/L65/L65-Mini-Project/rewiring/sdrf/sdrf.py:278: UserWarning: To copy construct from a tensor, it is recommended to use sourceTensor.clone().detach() or sourceTensor.clone().detach().requires_grad_(True), rather than torch.tensor(sourceTensor).\n",
      "  new_edge_index = torch.tensor(new_edge_index)\n",
      " 96%|█████████▋| 181/188 [00:13<00:00, 10.33it/s]"
     ]
    },
    {
     "name": "stdout",
     "output_type": "stream",
     "text": [
      "🔄 Applying SDRF on MUTAG...\n",
      "✅ Rewiring complete! MUTAG now has 34 edges.\n",
      "🔄 Applying SDRF on MUTAG...\n",
      "✅ Rewiring complete! MUTAG now has 12 edges.\n"
     ]
    },
    {
     "name": "stderr",
     "output_type": "stream",
     "text": [
      "/media/alexandre/morespace/University of Cambridge/L65/L65-Mini-Project/rewiring/sdrf/sdrf.py:278: UserWarning: To copy construct from a tensor, it is recommended to use sourceTensor.clone().detach() or sourceTensor.clone().detach().requires_grad_(True), rather than torch.tensor(sourceTensor).\n",
      "  new_edge_index = torch.tensor(new_edge_index)\n",
      "/media/alexandre/morespace/University of Cambridge/L65/L65-Mini-Project/rewiring/sdrf/sdrf.py:278: UserWarning: To copy construct from a tensor, it is recommended to use sourceTensor.clone().detach() or sourceTensor.clone().detach().requires_grad_(True), rather than torch.tensor(sourceTensor).\n",
      "  new_edge_index = torch.tensor(new_edge_index)\n",
      " 97%|█████████▋| 183/188 [00:14<00:00, 10.69it/s]"
     ]
    },
    {
     "name": "stdout",
     "output_type": "stream",
     "text": [
      "🔄 Applying SDRF on MUTAG...\n",
      "✅ Rewiring complete! MUTAG now has 15 edges.\n",
      "🔄 Applying SDRF on MUTAG...\n",
      "✅ Rewiring complete! MUTAG now has 26 edges.\n",
      "🔄 Applying SDRF on MUTAG...\n",
      "✅ Rewiring complete! MUTAG now has 26 edges.\n"
     ]
    },
    {
     "name": "stderr",
     "output_type": "stream",
     "text": [
      "/media/alexandre/morespace/University of Cambridge/L65/L65-Mini-Project/rewiring/sdrf/sdrf.py:278: UserWarning: To copy construct from a tensor, it is recommended to use sourceTensor.clone().detach() or sourceTensor.clone().detach().requires_grad_(True), rather than torch.tensor(sourceTensor).\n",
      "  new_edge_index = torch.tensor(new_edge_index)\n",
      "/media/alexandre/morespace/University of Cambridge/L65/L65-Mini-Project/rewiring/sdrf/sdrf.py:278: UserWarning: To copy construct from a tensor, it is recommended to use sourceTensor.clone().detach() or sourceTensor.clone().detach().requires_grad_(True), rather than torch.tensor(sourceTensor).\n",
      "  new_edge_index = torch.tensor(new_edge_index)\n",
      " 98%|█████████▊| 185/188 [00:14<00:00, 11.42it/s]/media/alexandre/morespace/University of Cambridge/L65/L65-Mini-Project/rewiring/sdrf/sdrf.py:278: UserWarning: To copy construct from a tensor, it is recommended to use sourceTensor.clone().detach() or sourceTensor.clone().detach().requires_grad_(True), rather than torch.tensor(sourceTensor).\n",
      "  new_edge_index = torch.tensor(new_edge_index)\n",
      "/media/alexandre/morespace/University of Cambridge/L65/L65-Mini-Project/rewiring/sdrf/sdrf.py:278: UserWarning: To copy construct from a tensor, it is recommended to use sourceTensor.clone().detach() or sourceTensor.clone().detach().requires_grad_(True), rather than torch.tensor(sourceTensor).\n",
      "  new_edge_index = torch.tensor(new_edge_index)\n",
      " 99%|█████████▉| 187/188 [00:14<00:00, 12.26it/s]"
     ]
    },
    {
     "name": "stdout",
     "output_type": "stream",
     "text": [
      "🔄 Applying SDRF on MUTAG...\n",
      "✅ Rewiring complete! MUTAG now has 14 edges.\n",
      "🔄 Applying SDRF on MUTAG...\n",
      "✅ Rewiring complete! MUTAG now has 14 edges.\n",
      "🔄 Applying SDRF on MUTAG...\n",
      "✅ Rewiring complete! MUTAG now has 25 edges.\n",
      "🔄 Applying SDRF on MUTAG...\n"
     ]
    },
    {
     "name": "stderr",
     "output_type": "stream",
     "text": [
      "/media/alexandre/morespace/University of Cambridge/L65/L65-Mini-Project/rewiring/sdrf/sdrf.py:278: UserWarning: To copy construct from a tensor, it is recommended to use sourceTensor.clone().detach() or sourceTensor.clone().detach().requires_grad_(True), rather than torch.tensor(sourceTensor).\n",
      "  new_edge_index = torch.tensor(new_edge_index)\n",
      "100%|██████████| 188/188 [00:14<00:00, 12.99it/s]\n"
     ]
    },
    {
     "name": "stdout",
     "output_type": "stream",
     "text": [
      "✅ Rewiring complete! MUTAG now has 19 edges.\n",
      "\n",
      "📂 Summary (Mean & Std) results saved to results/rewired_graph_avg_std_metrics_MUTAG_SDRF.csv.\n"
     ]
    }
   ],
   "source": [
    "from rewiring.rewiring_call import *\n",
    "from tqdm import tqdm\n",
    "import tkinter as tk\n",
    "from tkinter import ttk, messagebox\n",
    "\n",
    "# dataset_names = [\"REDDIT-BINARY\", \"IMDB-BINARY\", \"MUTAG\", \"ENZYMES\", \"PROTEINS\"]\n",
    "#                   0              1            2         3           4\n",
    "# dataset_names = dataset_names[2]\n",
    "\n",
    "# REWIRING_METHOD = [\"BORF\",\"SDRF\", \"FOSR\", \"DES\",\"PPR\", \"LASER\", \"UNREWIRED\"]\n",
    "# #                   0       1       2       3      4      5         6\n",
    "# REWIRING_METHOD = REWIRING_METHOD[0]\n",
    "\n",
    "# # flag all graph rewiring or not\n",
    "# ENTIRE_GRAPH = True\n",
    "\n",
    "dataset_loader = GraphDatasetLoader(dataset_names)\n",
    "loaded_datasets = dataset_loader.get_loaded_dataset_names()\n",
    "\n",
    "all_metrics_df = []\n",
    "\n",
    "for dataset_name in loaded_datasets:\n",
    "    for rewiring_name in [REWIRING_METHOD]:\n",
    "        print(\"Rewiring methods being used:\", rewiring_name)\n",
    "        print(f\"\\n🚀 Processing dataset: {dataset_name}\")\n",
    "        \n",
    "        # for testing purposes we can test on one graph\n",
    "        if not ENTIRE_GRAPH:  \n",
    "            # Get first graph\n",
    "            graphs = dataset_loader.first_graphs[dataset_name]\n",
    "            # print(\"first graph\", type(graphs))\n",
    "        else:\n",
    "            graphs = dataset_loader.datasets[dataset_name]  # Load full dataset\n",
    "            \n",
    "        for graph in tqdm(graphs):\n",
    "            graph_copy = graphs.copy()\n",
    "            \n",
    "            rewiring_method = rewiring_call(graph, dataset_name)\n",
    "            \n",
    "            if rewiring_name == \"BORF\":\n",
    "                rewired_graph = rewiring_method.borf_rewiring()\n",
    "            elif rewiring_name == \"SDRF\":\n",
    "                rewired_graph = rewiring_method.sdrf_rewiring()\n",
    "            elif rewiring_name == \"FOSR\":\n",
    "                rewired_graph = rewiring_method.fosr_rewiring()\n",
    "            elif rewiring_name == \"LASER\":\n",
    "                rewired_graph = rewiring_method.laser_rewiring()\n",
    "            elif rewiring_name == \"DES\":\n",
    "                rewired_graph = rewiring_method.des_rewiring(dataset_loader)\n",
    "            elif rewiring_name == \"PPR\":\n",
    "                rewired_graph = rewiring_method.ppr_rewiring()\n",
    "            elif rewiring_name == \"UNREWIRED\":\n",
    "                \n",
    "                G_nx = to_networkx(graph, to_undirected=True)  # Convert PyG graph to NetworkX\n",
    "                print(\"G_nx\", G_nx)\n",
    "                rewired_graph = G_nx\n",
    "            else:\n",
    "                raise ValueError(f\"Invalid rewiring method: {rewiring_name}\")\n",
    "            \n",
    "            # Compute metrics for the rewired graph\n",
    "            metrics_rewired = GraphMetrics(rewired_graph, dataset_name)\n",
    "            df_metrics = metrics_rewired.get_all_metrics()\n",
    "            df_metrics = pd.DataFrame([df_metrics]) \n",
    "            df_metrics[\"Rewiring Method\"] = rewiring_name\n",
    "            df_metrics[\"Dataset\"] = dataset_name\n",
    "            \n",
    "            # Store and later save the metrics\n",
    "            all_metrics_df.append(df_metrics)\n",
    "    \n",
    "# Convert results to DataFrame\n",
    "final_df = pd.concat(all_metrics_df, ignore_index=True)\n",
    "\n",
    "# Compute mean and standard deviation, excluding non-numeric columns\n",
    "if ENTIRE_GRAPH:\n",
    "    numeric_cols = final_df.select_dtypes(include=[\"number\"])  \n",
    "    avg_metrics = numeric_cols.mean().to_frame(name=\"Mean\")  \n",
    "    std_metrics = numeric_cols.std().to_frame(name=\"Std\")  \n",
    "\n",
    "    # Combine into a single DataFrame\n",
    "    summary_df = pd.concat([avg_metrics, std_metrics], axis=1)\n",
    "\n",
    "    # Format the output to display mean ± std in a single column\n",
    "    summary_df[\"Formatted\"] = summary_df.apply(lambda row: f\"{row['Mean']:.6f} ± {row['Std']:.6f}\", axis=1)\n",
    "\n",
    "    # Save summary results correctly\n",
    "    summary_output_csv = f\"results/rewired_graph_avg_std_metrics_{dataset_name}_{REWIRING_METHOD}.csv\"\n",
    "    \n",
    "    # If the path exists remove it\n",
    "    if os.path.exists(summary_output_csv):\n",
    "        os.remove(summary_output_csv)\n",
    "    summary_df.to_csv(summary_output_csv, index=True)\n",
    "\n",
    "    print(f\"\\n📂 Summary (Mean & Std) results saved to {summary_output_csv}.\")\n",
    "else:\n",
    "    # Save individual rewiring results\n",
    "    output_csv = f\"results/rewired_graph_metrics_{dataset_name}.csv\"\n",
    "    final_df.to_csv(output_csv, index=False)\n",
    "    print(f\"\\n📂 All rewiring results saved to {output_csv}.\")"
   ]
  }
 ],
 "metadata": {
  "kernelspec": {
   "display_name": "CAM_venv",
   "language": "python",
   "name": "python3"
  },
  "language_info": {
   "codemirror_mode": {
    "name": "ipython",
    "version": 3
   },
   "file_extension": ".py",
   "mimetype": "text/x-python",
   "name": "python",
   "nbconvert_exporter": "python",
   "pygments_lexer": "ipython3",
   "version": "3.10.12"
  }
 },
 "nbformat": 4,
 "nbformat_minor": 2
}
